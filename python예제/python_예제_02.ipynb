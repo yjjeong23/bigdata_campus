{
 "cells": [
  {
   "cell_type": "markdown",
   "metadata": {},
   "source": [
    "### 82"
   ]
  },
  {
   "cell_type": "code",
   "execution_count": 37,
   "metadata": {},
   "outputs": [
    {
     "data": {
      "text/plain": [
       "4.5"
      ]
     },
     "execution_count": 37,
     "metadata": {},
     "output_type": "execute_result"
    }
   ],
   "source": [
    "def fare(distance):\n",
    "    base = 4.00\n",
    "    plus = 0.25\n",
    "    \n",
    "    fare = base + plus*(distance//140)\n",
    "    return fare\n",
    "\n",
    "#main\n",
    "dist = 280\n",
    "fare(dist)"
   ]
  },
  {
   "cell_type": "markdown",
   "metadata": {},
   "source": [
    "### 84"
   ]
  },
  {
   "cell_type": "code",
   "execution_count": 38,
   "metadata": {},
   "outputs": [
    {
     "name": "stdout",
     "output_type": "stream",
     "text": [
      "first number: 10\n",
      "second number: 4\n",
      "third number: 7\n",
      "7\n"
     ]
    }
   ],
   "source": [
    "def median(one, two, three):\n",
    "    num = [one, two, three]\n",
    "    num.sort()\n",
    "    return num[1]\n",
    "\n",
    "#main\n",
    "while True:\n",
    "    try:\n",
    "        one = int(input(\"first number: \"))\n",
    "        two = int(input(\"second number: \"))\n",
    "        three = int(input(\"third number: \"))\n",
    "        \n",
    "        print(median(one, two, three))\n",
    "        break\n",
    "    except:\n",
    "        print(\"try again.\")"
   ]
  },
  {
   "cell_type": "markdown",
   "metadata": {},
   "source": [
    "### 85"
   ]
  },
  {
   "cell_type": "code",
   "execution_count": 39,
   "metadata": {},
   "outputs": [
    {
     "name": "stdout",
     "output_type": "stream",
     "text": [
      "first\n",
      "second\n",
      "third\n",
      "fourth\n",
      "fifth\n",
      "sixth\n",
      "seventh\n",
      "eighth\n",
      "ninth\n",
      "tenth\n",
      "eleventh\n",
      "twelfth\n"
     ]
    }
   ],
   "source": [
    "def int_to_ord(num):\n",
    "    if not 1<=num<=12:\n",
    "        return \"\"\n",
    "    \n",
    "    else:\n",
    "        int_ord ={1:'first', 2:'second', 3:'third', 4:'fourth', 5:'fifth', 6:'sixth', 7:'seventh', 8:'eighth', 9:'ninth', 10:'tenth', 11:'eleventh', 12:'twelfth'}\n",
    "        return int_ord[num]\n",
    "\n",
    "for num in range(1,13):\n",
    "    print(int_to_ord(num))"
   ]
  },
  {
   "cell_type": "markdown",
   "metadata": {},
   "source": [
    "### 86"
   ]
  },
  {
   "cell_type": "code",
   "execution_count": 40,
   "metadata": {},
   "outputs": [
    {
     "name": "stdout",
     "output_type": "stream",
     "text": [
      "On the first day of Christmas \n",
      "my true love sent to me: \n",
      "A partridge in a pear tree.\n",
      "\n",
      "On the second day of Christmas \n",
      "my true love sent to me: \n",
      "Two Turtle Doves,\n",
      "And a partridge in a pear tree.\n",
      "\n",
      "On the third day of Christmas \n",
      "my true love sent to me: \n",
      "Three French Hens,\n",
      "Two Turtle Doves,\n",
      "And a partridge in a pear tree.\n",
      "\n",
      "On the fourth day of Christmas \n",
      "my true love sent to me: \n",
      "Four Calling Birds,\n",
      "Three French Hens,\n",
      "Two Turtle Doves,\n",
      "And a partridge in a pear tree.\n",
      "\n",
      "On the fifth day of Christmas \n",
      "my true love sent to me: \n",
      "Five Gold Rings,\n",
      "Four Calling Birds,\n",
      "Three French Hens,\n",
      "Two Turtle Doves,\n",
      "And a partridge in a pear tree.\n",
      "\n",
      "On the sixth day of Christmas \n",
      "my true love sent to me: \n",
      "Six Geese a-Laying,\n",
      "Five Gold Rings,\n",
      "Four Calling Birds,\n",
      "Three French Hens,\n",
      "Two Turtle Doves,\n",
      "And a partridge in a pear tree.\n",
      "\n",
      "On the seventh day of Christmas \n",
      "my true love sent to me: \n",
      "Seven Swans a-Swimming,\n",
      "Six Geese a-Laying,\n",
      "Five Gold Rings,\n",
      "Four Calling Birds,\n",
      "Three French Hens,\n",
      "Two Turtle Doves,\n",
      "And a partridge in a pear tree.\n",
      "\n",
      "On the eighth day of Christmas \n",
      "my true love sent to me: \n",
      "Eight Maids a-Milking,\n",
      "Seven Swans a-Swimming,\n",
      "Six Geese a-Laying,\n",
      "Five Gold Rings,\n",
      "Four Calling Birds,\n",
      "Three French Hens,\n",
      "Two Turtle Doves,\n",
      "And a partridge in a pear tree.\n",
      "\n",
      "On the ninth day of Christmas \n",
      "my true love sent to me: \n",
      "Nine Ladies Dancing,\n",
      "Eight Maids a-Milking,\n",
      "Seven Swans a-Swimming,\n",
      "Six Geese a-Laying,\n",
      "Five Gold Rings,\n",
      "Four Calling Birds,\n",
      "Three French Hens,\n",
      "Two Turtle Doves,\n",
      "And a partridge in a pear tree.\n",
      "\n",
      "On the tenth day of Christmas \n",
      "my true love sent to me: \n",
      "Ten Lords a-Leaping,\n",
      "Nine Ladies Dancing,\n",
      "Eight Maids a-Milking,\n",
      "Seven Swans a-Swimming,\n",
      "Six Geese a-Laying,\n",
      "Five Gold Rings,\n",
      "Four Calling Birds,\n",
      "Three French Hens,\n",
      "Two Turtle Doves,\n",
      "And a partridge in a pear tree.\n",
      "\n",
      "On the eleventh day of Christmas \n",
      "my true love sent to me: \n",
      "Eleven Pipers Piping,\n",
      "Ten Lords a-Leaping,\n",
      "Nine Ladies Dancing,\n",
      "Eight Maids a-Milking,\n",
      "Seven Swans a-Swimming,\n",
      "Six Geese a-Laying,\n",
      "Five Gold Rings,\n",
      "Four Calling Birds,\n",
      "Three French Hens,\n",
      "Two Turtle Doves,\n",
      "And a partridge in a pear tree.\n",
      "\n",
      "On the twelfth day of Christmas \n",
      "my true love sent to me: \n",
      "Twelve Drummers Drumming,\n",
      "Eleven Pipers Piping,\n",
      "Ten Lords a-Leaping,\n",
      "Nine Ladies Dancing,\n",
      "Eight Maids a-Milking,\n",
      "Seven Swans a-Swimming,\n",
      "Six Geese a-Laying,\n",
      "Five Gold Rings,\n",
      "Four Calling Birds,\n",
      "Three French Hens,\n",
      "Two Turtle Doves,\n",
      "And a partridge in a pear tree.\n",
      "\n"
     ]
    }
   ],
   "source": [
    "def verse(day):\n",
    "    int_ord ={1:'first', 2:'second', 3:'third', 4:'fourth', 5:'fifth', 6:'sixth', 7:'seventh', 8:'eighth', 9:'ninth', 10:'tenth', 11:'eleventh', 12:'twelfth'}\n",
    "    item = {1: 'A partridge in a pear tree' , 2:'Two Turtle Doves', 3:'Three French Hens', 4:'Four Calling Birds', 5:'Five Gold Rings', 6:'Six Geese a-Laying', 7:'Seven Swans a-Swimming', 8:'Eight Maids a-Milking', 9: 'Nine Ladies Dancing', 10:'Ten Lords a-Leaping', 11:'Eleven Pipers Piping', 12:'Twelve Drummers Drumming'}\n",
    "    total_item =\"\"\n",
    "    \n",
    "    if day==1:\n",
    "        total_item = item[1]\n",
    "    else:\n",
    "        for days in range(2,day+1):\n",
    "            total_item = (item[days]+',\\n') +total_item\n",
    "        total_item += \"And a partridge in a pear tree\"\n",
    "    lyrics = \"On the {0} day of Christmas \\nmy true love sent to me: \\n{1}.\".format(int_ord[day], total_item)\n",
    "    return lyrics\n",
    "\n",
    "\n",
    "for verses in range(1,13):\n",
    "    print(verse(verses))\n",
    "    print()\n",
    "        "
   ]
  },
  {
   "cell_type": "markdown",
   "metadata": {},
   "source": [
    "### 88"
   ]
  },
  {
   "cell_type": "code",
   "execution_count": 41,
   "metadata": {},
   "outputs": [
    {
     "name": "stdout",
     "output_type": "stream",
     "text": [
      "first: 3\n",
      "second: 9\n",
      "third: 2\n",
      "False\n"
     ]
    }
   ],
   "source": [
    "def is_valid(l1, l2, l3):\n",
    "    straw = [l1, l2, l3]\n",
    "    straw.sort()\n",
    "    \n",
    "    if straw[0] + straw[1] <= straw[2]:\n",
    "        return False\n",
    "    else:\n",
    "        return True\n",
    "\n",
    "while True:\n",
    "    try:\n",
    "        l1 = int(input(\"first: \"))\n",
    "        l2 = int(input(\"second: \"))\n",
    "        l3 = int(input(\"third: \"))\n",
    "        \n",
    "        print(is_valid(l1, l2, l3))\n",
    "        break\n",
    "    except:\n",
    "        print(\"try again\")"
   ]
  },
  {
   "cell_type": "markdown",
   "metadata": {},
   "source": [
    "### 89"
   ]
  },
  {
   "cell_type": "code",
   "execution_count": 42,
   "metadata": {
    "scrolled": true
   },
   "outputs": [
    {
     "name": "stdout",
     "output_type": "stream",
     "text": [
      "what time do i have to be there? what's the address?\n",
      "What time do I have to be there? What's the address? \n"
     ]
    }
   ],
   "source": [
    "def correction(sentence):\n",
    "    words = sentence.split(\" \")\n",
    "    words[0] = words[0].capitalize()\n",
    "    for index in range(1, len(words)):\n",
    "        if words[index]==\"i\":\n",
    "            words[index] = \"I\"\n",
    "        elif words[index-1].endswith(\".\") or words[index-1].endswith(\"?\") or words[index-1].endswith(\"!\"):\n",
    "            words[index] = words[index].capitalize()\n",
    "    result =\"\"\n",
    "    for word in words:\n",
    "        result+=(word+' ')\n",
    "    return result\n",
    "\n",
    "snt = input()\n",
    "print(correction(snt))\n",
    "   \n",
    "        "
   ]
  },
  {
   "cell_type": "markdown",
   "metadata": {},
   "source": [
    "### 90"
   ]
  },
  {
   "cell_type": "code",
   "execution_count": 43,
   "metadata": {},
   "outputs": [
    {
     "name": "stdout",
     "output_type": "stream",
     "text": [
      "+2321\n",
      "+2321 is integer: True\n"
     ]
    }
   ],
   "source": [
    "def isInteger(query):\n",
    "    if query[0].isdigit:\n",
    "        try:\n",
    "            int(query)\n",
    "            return True\n",
    "        except:\n",
    "            return False\n",
    "    else:\n",
    "        if query[0] not in ['+','-']:\n",
    "            return False\n",
    "        else:\n",
    "            query = query[1:]\n",
    "            try:\n",
    "                int(query)\n",
    "                return True\n",
    "            except:\n",
    "                return False\n",
    "        \n",
    "    \n",
    "query = input()\n",
    "query = query.strip()\n",
    "\n",
    "print(query,\"is integer:\",isInteger(query))"
   ]
  },
  {
   "cell_type": "markdown",
   "metadata": {},
   "source": [
    "### 92"
   ]
  },
  {
   "cell_type": "code",
   "execution_count": 6,
   "metadata": {},
   "outputs": [
    {
     "name": "stdout",
     "output_type": "stream",
     "text": [
      "15\n",
      "15 is prime: False\n"
     ]
    }
   ],
   "source": [
    "def is_prime(num):\n",
    "    for div in range(2,num):\n",
    "        if num%div==0:\n",
    "            return False\n",
    "    return True\n",
    "\n",
    "#main\n",
    "while True:\n",
    "    try:\n",
    "        num = int(input())\n",
    "        if num <=1:\n",
    "            raise Exception()\n",
    "        print(num,\"is prime:\", is_prime(num))\n",
    "        break\n",
    "    except:\n",
    "        print(\"try again\")"
   ]
  },
  {
   "cell_type": "markdown",
   "metadata": {},
   "source": [
    "### 93"
   ]
  },
  {
   "cell_type": "code",
   "execution_count": 7,
   "metadata": {},
   "outputs": [
    {
     "name": "stdout",
     "output_type": "stream",
     "text": [
      "23\n",
      "29\n"
     ]
    }
   ],
   "source": [
    "def next_prime(num):\n",
    "    prime = False\n",
    "    temp = num+1\n",
    "    while not prime:\n",
    "        if is_prime(temp):\n",
    "            prime = True\n",
    "        else:\n",
    "            temp += 1\n",
    "    return temp\n",
    "\n",
    "#main\n",
    "while True:\n",
    "    try:\n",
    "        n = int(input())\n",
    "        print(next_prime(n))\n",
    "        break\n",
    "    except:\n",
    "        print(\"try again\")"
   ]
  },
  {
   "cell_type": "markdown",
   "metadata": {},
   "source": [
    "### 96"
   ]
  },
  {
   "cell_type": "code",
   "execution_count": 36,
   "metadata": {},
   "outputs": [
    {
     "name": "stdout",
     "output_type": "stream",
     "text": [
      "abcdEF12\n",
      "good password: True\n"
     ]
    }
   ],
   "source": [
    "def check_pw(pw):\n",
    "    good = False\n",
    "    if len(pw)<8 or pw.islower() or pw.isupper():\n",
    "        return False\n",
    "    for index in range(len(pw)):\n",
    "        if pw[index].isdigit():\n",
    "            good = True\n",
    "            break\n",
    "    return good\n",
    "        \n",
    "        \n",
    "password = input()\n",
    "print(\"good password:\",check_pw(password))"
   ]
  },
  {
   "cell_type": "code",
   "execution_count": null,
   "metadata": {},
   "outputs": [],
   "source": []
  }
 ],
 "metadata": {
  "kernelspec": {
   "display_name": "Python 3",
   "language": "python",
   "name": "python3"
  },
  "language_info": {
   "codemirror_mode": {
    "name": "ipython",
    "version": 3
   },
   "file_extension": ".py",
   "mimetype": "text/x-python",
   "name": "python",
   "nbconvert_exporter": "python",
   "pygments_lexer": "ipython3",
   "version": "3.6.5"
  }
 },
 "nbformat": 4,
 "nbformat_minor": 2
}
