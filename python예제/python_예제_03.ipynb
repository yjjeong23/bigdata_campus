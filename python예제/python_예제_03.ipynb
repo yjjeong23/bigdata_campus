{
 "cells": [
  {
   "cell_type": "markdown",
   "metadata": {},
   "source": [
    "## 129"
   ]
  },
  {
   "cell_type": "code",
   "execution_count": 63,
   "metadata": {},
   "outputs": [
    {
     "name": "stdout",
     "output_type": "stream",
     "text": [
      "Total   Simulated    Expected\n",
      "          Percent     Percent\n",
      "    2        2.70        2.78\n",
      "    3        4.70        5.56\n",
      "    4        9.40        8.33\n",
      "    5       11.40       11.11\n",
      "    6       12.60       13.89\n",
      "    7       17.00       16.67\n",
      "    8       14.20       13.89\n",
      "    9       10.80       11.11\n",
      "   10        8.90        8.33\n",
      "   11        5.00        5.56\n",
      "   12        3.30        2.78\n"
     ]
    }
   ],
   "source": [
    "import random as rd\n",
    "\n",
    "def roll_dice():\n",
    "    first = rd.randrange(1,7)\n",
    "    second = rd.randrange(1,7)\n",
    "    total = first + second\n",
    "    return total\n",
    "\n",
    "#main\n",
    "count = 0\n",
    "sim_dict = {}\n",
    "exp_dict = {}\n",
    "times = 1000\n",
    "\n",
    "    \n",
    "for i in range(1,7):\n",
    "    for j in range(1,7):\n",
    "        if i+j in exp_dict.keys():\n",
    "            exp_dict[i+j] +=1\n",
    "        else:\n",
    "            sim_dict.update({i+j:0})\n",
    "            exp_dict.update({i+j:1})\n",
    "            \n",
    "    \n",
    "while count<times:\n",
    "    count +=1\n",
    "    tot = roll_dice()\n",
    "    sim_dict[tot] += 1\n",
    "    \n",
    "output = [['Total','Simulated','Expected'],['','Percent','Percent']]\n",
    "for total in range(2,13):\n",
    "    output.append([total, format(sim_dict[total]/10,'.2f'),format(exp_dict[total] / 36 *100, '.2f')])\n",
    "\n",
    "for line in output:\n",
    "    print(format(line[0],'>5') + format(line[1], '>12')+format(line[2],'>12'))\n"
   ]
  },
  {
   "cell_type": "markdown",
   "metadata": {},
   "source": [
    "## 130"
   ]
  },
  {
   "cell_type": "code",
   "execution_count": 15,
   "metadata": {},
   "outputs": [
    {
     "name": "stdout",
     "output_type": "stream",
     "text": [
      "Hello, World!\n",
      "4433555555666110966677755531111\n"
     ]
    }
   ],
   "source": [
    "def convert(msg):\n",
    "    output =\"\"\n",
    "    symbol = {1:[*\".,?!:\"], 2:[*'abc'],3:[*'def'],4:[*'ghi'],5:[*'jkl'],6:[*'mno'],7:[*'pqrs'],8:[*'tuv'],9:[*'wxyz'],0:\" \"}\n",
    "    for letter in msg:\n",
    "        for key in symbol.keys():\n",
    "            if letter in symbol.get(key):\n",
    "                index = symbol.get(key).index(letter)\n",
    "                output += (str(key)*(index+1))\n",
    "                \n",
    "        \n",
    "    return output\n",
    "\n",
    "msg = input()\n",
    "msg = msg.lower()\n",
    "print(convert(msg))"
   ]
  },
  {
   "cell_type": "markdown",
   "metadata": {},
   "source": [
    "## 131"
   ]
  },
  {
   "cell_type": "code",
   "execution_count": 14,
   "metadata": {},
   "outputs": [
    {
     "name": "stdout",
     "output_type": "stream",
     "text": [
      "Hello, World!\n",
      ".... . .-.. .-.. --- .-- --- .-. .-.. -.. \n"
     ]
    }
   ],
   "source": [
    "def morse(msg):\n",
    "    output=\"\"\n",
    "    ms ={'a':'.-', 'b':'-...', 'c':'-.-.', 'd':'-..','e':'.','f':'..-.','g':'--.','h':'....','i':'..','j':'.---','k':'-.-','l':'.-..','m':'--','n':'-.','o':'---','p':'.--.','q':'--.-','r':'.-.','s':'...','t':'-','u':'..-','v':'...-','w':'.--','x':'-..-','y':'-.--','z':'--..','0':'-----','1':'.----','2':'..---','3':'...--','4':'....-','5':'.....','6':'-....','7':'--...','8':'---..','9':'----.'}\n",
    "    for letter in msg:\n",
    "        if letter in ms.keys():\n",
    "            output += (ms[letter]+' ')\n",
    "    return output\n",
    "\n",
    "msg = input()\n",
    "msg = msg.lower()\n",
    "print(morse(msg))"
   ]
  },
  {
   "cell_type": "markdown",
   "metadata": {},
   "source": [
    "## 132"
   ]
  },
  {
   "cell_type": "code",
   "execution_count": 13,
   "metadata": {},
   "outputs": [
    {
     "name": "stdout",
     "output_type": "stream",
     "text": [
      "T2N 1N4\n",
      "this postal code is for an urban address in Alberta\n"
     ]
    }
   ],
   "source": [
    "prov = {'A':'Newfoudland','B':'Nova Scotia','C':'Prince Edward Island','E':'New Brunswick','G':'Quebec','H':'Quebec', 'J':'Quebec','K':'Ontario','L':'Ontario','M':'Ontario','N':'Ontario','P':'Ontario', 'R':'Manitoba','S':'Saskatchewan','T':'Alberta','V':'British Columbia','X':'Nunavut or Northwest Territories','Y':'Yukon'}\n",
    "while True:\n",
    "    try:\n",
    "        code = input()\n",
    "        if code[3]==' ':\n",
    "            code = code[:3]+code[4:]\n",
    "        \n",
    "        if len(code)!=6:\n",
    "            raise Exception()\n",
    "                \n",
    "        for i in range(3):\n",
    "            if not code[2*i].isalpha() or not code[2*i+1].isnumeric(): \n",
    "                raise Exception()\n",
    "                \n",
    "        if code[0] in prov.keys():\n",
    "            province = prov[code[0]]\n",
    "        else:\n",
    "            raise Exception()\n",
    "            \n",
    "        if code[1] == '0':\n",
    "            ru_ur = 'rural'\n",
    "        else:\n",
    "            ru_ur = 'urban'\n",
    "        \n",
    "        print('this postal code is for an',ru_ur,'address in',province)\n",
    "            \n",
    "        break\n",
    "    except:\n",
    "        print(\"try again.\")\n"
   ]
  },
  {
   "cell_type": "code",
   "execution_count": null,
   "metadata": {},
   "outputs": [],
   "source": []
  }
 ],
 "metadata": {
  "kernelspec": {
   "display_name": "Python 3",
   "language": "python",
   "name": "python3"
  },
  "language_info": {
   "codemirror_mode": {
    "name": "ipython",
    "version": 3
   },
   "file_extension": ".py",
   "mimetype": "text/x-python",
   "name": "python",
   "nbconvert_exporter": "python",
   "pygments_lexer": "ipython3",
   "version": "3.6.5"
  }
 },
 "nbformat": 4,
 "nbformat_minor": 2
}
