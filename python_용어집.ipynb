{
 "cells": [
  {
   "cell_type": "markdown",
   "metadata": {},
   "source": [
    "**abstrsct base class(ABC)**\n",
    "- 인터페이스를 정의하는 방법을 제공함으로써 덕타이핑을 보완"
   ]
  },
  {
   "cell_type": "markdown",
   "metadata": {},
   "source": [
    "**annotaton**\n",
    "- 형 힌트로 사용되는 변수\n",
    "- class attribute나 parameter, return 값과 연결된 레이블"
   ]
  },
  {
   "cell_type": "markdown",
   "metadata": {},
   "source": [
    "**argument**\n",
    "\n",
    " 함수를 호출할 때 전달되는 값\n",
    "1. keyword argument: 함수를 호출할 때 식별자를 앞에 명시함으로써 값을 전달하는 인자\n",
    "2. positional argument: 키워드 없이 인자의 순서를 기반으로 함수를 호출하는 인자"
   ]
  },
  {
   "cell_type": "markdown",
   "metadata": {},
   "source": [
    "**asynchronous context manager**\n",
    "- async with문에서 보이는 환경을 제어하는 객체"
   ]
  },
  {
   "cell_type": "markdown",
   "metadata": {},
   "source": [
    "**asynchronous generator**\n",
    "- asynchronous generator iterator를 실행시키는 함수\n",
    "- async for 루프에 들어가는 값들을 yield 함\n",
    "- await, async for, async with 문을 포함할 수 있음"
   ]
  },
  {
   "cell_type": "markdown",
   "metadata": {},
   "source": [
    "**asynchronous generator iterator**\n",
    "- asynchronous enerator 함수가 만드는 객체\n",
    "- \\__anext__()를 호출하면 awaitable 객체를 반환하고, 이는 다음 yield 식까지 asynchronous generator 함수의 body를 실행함"
   ]
  },
  {
   "cell_type": "markdown",
   "metadata": {},
   "source": [
    "**attribute**\n",
    "- . 표현식을 사용하는 이름으로 참조되는 객체와 결합한 값"
   ]
  },
  {
   "cell_type": "markdown",
   "metadata": {},
   "source": [
    "**BDFL(Benevolent Dictator For Life)**\n",
    "- 자비로운 종신 독재자, Guido van Rossum(파이썬의 창시자)"
   ]
  },
  {
   "cell_type": "markdown",
   "metadata": {},
   "source": [
    "**binary file**\n",
    "- byte 열 객체를 읽고 쓸 수 있는 파일 객체"
   ]
  },
  {
   "cell_type": "markdown",
   "metadata": {},
   "source": [
    "**bytecode**\n",
    "- 파이썬 소스 코드가 컴파일되는 방식\n",
    "- CPython 인터프리터에서 파이썬 프로그램의 내부 표현\n",
    "- 소스를 바이트코드로 컴파일하는 데 시간이 걸리기 때문에, 파일을 최초 실행할 때 .pyc 파일에 바이트 코드를 캐시해 이후 실행에서는 더 빨리 실행되도록 함"
   ]
  },
  {
   "cell_type": "markdown",
   "metadata": {},
   "source": [
    "**class**\n",
    "- 사용자 정의 객체를 만들기 위한 틀\n",
    "- 클래스를 정의할 때는 클래스의 객체를 대상으로 연산하는 메소드의 정의를 포함함"
   ]
  },
  {
   "cell_type": "markdown",
   "metadata": {},
   "source": [
    "**class variable**\n",
    "- 클래스에서 정의되고 클래스 수준에서만 수정되는 변수"
   ]
  },
  {
   "cell_type": "markdown",
   "metadata": {},
   "source": [
    "**compex number**\n",
    "- 복소수. 실수부와 허수부의 합으로 표현되는 숫자"
   ]
  },
  {
   "cell_type": "markdown",
   "metadata": {},
   "source": [
    "**CPython**\n",
    "- 파이썬 프로그래밍 언어의 규범적인 구현으로, Jython과 IronPtyon과 구별"
   ]
  },
  {
   "cell_type": "markdown",
   "metadata": {},
   "source": [
    "**decorator**\n",
    "- 다른 함수를 리턴하는 함수\n",
    "- @wrapper 문법을 사용한 함수 변환으로 적용\n",
    "- 함수 정의와 클래스 정의에 사용될 수 있음"
   ]
  },
  {
   "cell_type": "markdown",
   "metadata": {},
   "source": [
    "**descriptor**\n",
    "- 메소드 \\__get__(), \\__set__(), \\__delete__() 를 정의하는 객체\n",
    "- 클래스 attribute가 descriptor일 때 해당 attribute를 호출하면 해당하는 descriptor 메소드를 호출함"
   ]
  },
  {
   "cell_type": "markdown",
   "metadata": {},
   "source": [
    "**dictionary**\n",
    "- 임의의 키(key)를 값(value)에 대응시키는 associative array"
   ]
  },
  {
   "cell_type": "markdown",
   "metadata": {},
   "source": [
    "**dictionary view**\n",
    "- dict.keys(), dict.values(), dict.items() 메소드가 돌려주는 객체들\n",
    "- dictionary 항목에 대한 동적인 뷰 제공"
   ]
  },
  {
   "cell_type": "markdown",
   "metadata": {},
   "source": [
    "**docstring**\n",
    "- 객체의 documentation을 담고 있는 문자열\n",
    "- 클래스, 함수, 모듈에서 첫 번째 표현식으로 나타나는 문자열 리터럴\n",
    "- 컴파일러에 의해 인지되어 클래스, 함수, 모듈의 \\__doc__ attribute로 삽입됨"
   ]
  },
  {
   "cell_type": "markdown",
   "metadata": {},
   "source": [
    "**duck-typing**\n",
    "- 객체의 type을 보지 않고 올바른 인터페이스를 가졌는지 판단하는 프로그래밍 스타일\n",
    "- type()나 ininstance() 메소드를 통해 객체의 type를 확인하지 않고, hasattr()나 EAFP 프로그래밍을 사용함\n",
    "- 잘 설계된 코드는 다형적인 치환을 허락하기 때문에 유연한 코드 작성 가능"
   ]
  },
  {
   "cell_type": "markdown",
   "metadata": {},
   "source": [
    "**EAFP(Easier to ask for forgiveness than permission)**\n",
    "- 허락보다는 용서를 구하기가 쉽다\n",
    "- try, excep 구문을 이용함\n",
    "- 올바른 key나 attribute의 존재를 가정하고, 그 가정이 틀리면 예외로 처리함"
   ]
  },
  {
   "cell_type": "markdown",
   "metadata": {},
   "source": [
    "**expression**\n",
    "- 어떤 값으로 구해질 수 있는 부분\n",
    "- 다양한 값을 반환하는 표현 요소들의 순차적 집합"
   ]
  },
  {
   "cell_type": "markdown",
   "metadata": {},
   "source": [
    "**floor division**\n",
    "- // 연산자를 이용해 나눗셈에서 몫을 구하는 방식\n",
    "- 몫을 구할 때는 가장 가까운 정수로 내림하는 나눗셈 방식을 택함"
   ]
  },
  {
   "cell_type": "markdown",
   "metadata": {},
   "source": [
    "**function**\n",
    "- 호출자로부터 0개 이상의 인자를 전달받아 일련의 처리를 한 후 어떤 값을 반환하는 문장들"
   ]
  },
  {
   "cell_type": "markdown",
   "metadata": {},
   "source": [
    "**garbage collection**\n",
    "- 더 이상 사용되지 않는 메모리를 반납하는 절차\n",
    "- gc 모듈을 사용해 garbage collector 제어"
   ]
  },
  {
   "cell_type": "markdown",
   "metadata": {},
   "source": [
    "**generator**\n",
    "- generator iterator를 반환하는 함수\n",
    "- yield 표현식을 이용해 일련의 값들을 생성함\n",
    "- for 문이나 next() 함수를 이용해 다음 값에 접근 가능"
   ]
  },
  {
   "cell_type": "markdown",
   "metadata": {},
   "source": [
    "**generator iterator**\n",
    "- generator 함수ㅏ 만드는 객체"
   ]
  },
  {
   "cell_type": "markdown",
   "metadata": {},
   "source": [
    "**generator expression**\n",
    "- generator iterator를 반환하는 표현식\n",
    "- 함수형 기법으로 for 문을 이용하는 표현식"
   ]
  },
  {
   "cell_type": "markdown",
   "metadata": {},
   "source": [
    "**generic function**\n",
    "- 같은 연산을 서로 다른 type에 대해 구현한 여러 함수로 구성된 함수"
   ]
  },
  {
   "cell_type": "markdown",
   "metadata": {},
   "source": [
    "**GIL(Global Interpreter Lock)**\n",
    "- 한 번의 실행에 오직 하나의 스레드가 파이썬 파이트 코드를 실행하도록 보장하기 위해 CPython 인터프리터가 사용하는 메커니즘"
   ]
  },
  {
   "cell_type": "markdown",
   "metadata": {},
   "source": [
    "**IDLE**\n",
    "- 파이썬 통합 개발 환경(Integrated Development Environment)\n",
    "- 파이썬의 표준 배포판에 따라오는 기초적인 편집기와 인터프리터 환경"
   ]
  },
  {
   "cell_type": "markdown",
   "metadata": {},
   "source": [
    "**immutable**\n",
    "- 고정된 값을 갖는 객체\n",
    "- 숫자, 문자열, 튜플 등\n",
    "- 새 값을 저장하려면 새로운 객체를 만들어야 함\n",
    "- dictionray의 key로 사용될 수 있음"
   ]
  },
  {
   "cell_type": "markdown",
   "metadata": {},
   "source": [
    "**import path**\n",
    "- 모듈을 가져올 때 해당 모듈을 검색하는 장소(경로)의 목록"
   ]
  },
  {
   "cell_type": "markdown",
   "metadata": {},
   "source": [
    "**importing**\n",
    "- 한 모듈의 파이썬 코드가 다른 모듈의 파이썬 코드에서 사용될 수 있도록 해당 모듈을 불러오는 절차"
   ]
  },
  {
   "cell_type": "markdown",
   "metadata": {},
   "source": [
    "**interactive**\n",
    "- interpreter prompt에서 문장과 표현식을 입력하면 즉각적인 실행 결과를 보여주는 방식\n",
    "- 파이썬은 interactive interpreter를 제공함"
   ]
  },
  {
   "cell_type": "markdown",
   "metadata": {},
   "source": [
    "**iterable**\n",
    "- 요소들을 한 번에 하나씩 돌려줄 수 있는 객체\n",
    "- list, str, tupel, dict, set 등이 해당함\n",
    "- for 문에 사용될 수 있음"
   ]
  },
  {
   "cell_type": "markdown",
   "metadata": {},
   "source": [
    "**iterator**\n",
    "- 데이터의 스트림을 표현하는 객체\n",
    "- \\__next__() 메소드를 반복적으로 호출함으로써 스트림에 있는 데이터들을 차례대로 반환하며, 더 이상 반환할 값이 없을 때는 StopIteration 예외를 발생시킴"
   ]
  },
  {
   "cell_type": "markdown",
   "metadata": {},
   "source": [
    "**lambda**\n",
    "- 하나의 표현식으로만 구성된, 이름이 지정되지 않는 함수\n",
    "- lambda [parameters] : expression "
   ]
  },
  {
   "cell_type": "markdown",
   "metadata": {},
   "source": [
    "**LBYL(Look Before You Leap)**\n",
    "- 뛰기 전에 보라\n",
    "- EAFP와 반대되는 접근법으로, 호출이나 조회를 하기 이전에 if 문을 이용해 명시적으로 사전 조건들을 검사함"
   ]
  },
  {
   "cell_type": "markdown",
   "metadata": {},
   "source": [
    "**list**\n",
    "- 파이썬에서 제공하는 built-in iterble sequence 자료형"
   ]
  },
  {
   "cell_type": "markdown",
   "metadata": {},
   "source": [
    "**list comprehension**\n",
    "- 함수형 기법을 이용해 sequence의 요소들을 생성하여 list로 돌려주는 간결한 방법"
   ]
  },
  {
   "cell_type": "markdown",
   "metadata": {},
   "source": [
    "**mapping**\n",
    "- dictionary의 key-value와 같이 임의의 키 조회를 지원하는 컨테이너 객체"
   ]
  },
  {
   "cell_type": "markdown",
   "metadata": {},
   "source": [
    "**metaclass**\n",
    "- 클래스의 클래스\n",
    "- 클래스의 이름, 딕셔너리, 베이스 클래스의 목록을 인자로 받아 클래스를 생성함"
   ]
  },
  {
   "cell_type": "markdown",
   "metadata": {},
   "source": [
    "**method**\n",
    "- 클래스의 내부에 정의되는 함수\n",
    "- 첫 번쨰 인자는 관례상 self로 정의되어 해당 클래스의 인스턴스 객체를 받음"
   ]
  },
  {
   "cell_type": "markdown",
   "metadata": {},
   "source": [
    "**module**\n",
    "- 파이썬 코드의 조직화 단위를 담당하는 객체로, 임의의 파이썬 객체들을 담은 namespace를 가짐"
   ]
  },
  {
   "cell_type": "markdown",
   "metadata": {},
   "source": [
    "**MRO(Method Resolution Order)**\n",
    "- 멤버를 검색하는 클래스들의 순서"
   ]
  },
  {
   "cell_type": "markdown",
   "metadata": {},
   "source": [
    "**mutable**\n",
    "- 값이 변할 수 있는 가변 객체\n",
    "- 값이 변화해도 할당된 메모리는 동일하기 때문에 id()가 일정하게 유지됨\n",
    "- list, set, dictionary 등이 해당함"
   ]
  },
  {
   "cell_type": "markdown",
   "metadata": {},
   "source": [
    "**named tuple**\n",
    "- 각 요소를 key로 접근할 수 있는 튜플 클래스"
   ]
  },
  {
   "cell_type": "markdown",
   "metadata": {},
   "source": [
    "**namespace**\n",
    "- 선언한 모든 변수가 저장되는 장소\n",
    "- dictionary로 구현됨"
   ]
  },
  {
   "cell_type": "markdown",
   "metadata": {},
   "source": [
    "**object**\n",
    "- attribute나 값을 갖고 메소드가 정의되어있는 모든 데이터"
   ]
  },
  {
   "cell_type": "markdown",
   "metadata": {},
   "source": [
    "**parameter**\n",
    "\n",
    "메소드나 함수를 정의할 때 받는 인자를 지정하면서 붙여놓은 이름으로, 기본 인자와 필수 인자를 지정할 수 있음\n",
    "1. 위치-키워드: 기본 형태로써 위치 인자나 키워드 인자로 전달될 수 있는 인자를 지정\n",
    "2. 위치전용: 위치로만 인자가 전달되는 방식. 파이썬에서는 지원하지 않음\n",
    "3. 키워드전용: 키워드로만 인자가 전달되는 방식. 인자에 *를 포함하면 그 이후의 인자들은 키워드 방식으로만 인자가 전달될 수 있음\n",
    "4. 가변위치: 매개변수 이름 앞에 *를 붙이면 다른 매개변수들에 의해 이미 받아들여진 위치 인자들을 제외한 나머지 값들을 인자로 받음\n",
    "5. 가변키워드: 매개변수 이름 앞에 \\**를 붙이면 다른매개변수들에 의해 이미 받아들여진 키워드 인자들을 제외한 나머지 값들을 인자로 받음."
   ]
  },
  {
   "cell_type": "markdown",
   "metadata": {},
   "source": [
    "**pythonic**\n",
    "- 다른 언어들의 코딩 방식과 대비되는, 파이썬 언어의 철학을 따른 고유한 코딩 방식"
   ]
  },
  {
   "cell_type": "markdown",
   "metadata": {},
   "source": [
    "**sequence**\n",
    "- 정수 인덱스를 이용해 요소에 접근할 수 있는 iterable 객체\n",
    "- list, str tuple, bytes 등이 해당함"
   ]
  },
  {
   "cell_type": "markdown",
   "metadata": {},
   "source": [
    "**slice**\n",
    "- sequence의 일부를 포함하는 객체\n",
    "- subscript 표기법을 사용하여 [1:3] 처럼 sequnce의 일부를 가져옴"
   ]
  },
  {
   "cell_type": "markdown",
   "metadata": {},
   "source": [
    "**special method**\n",
    "- magic method라고도 하며, 파이썬이 type에 연산을 실행할 때 묵시적으로 호출되는 메소드\n",
    "- \\__이름__() 의 형태를 가짐"
   ]
  },
  {
   "cell_type": "markdown",
   "metadata": {},
   "source": [
    "**statement**\n",
    "- 코드의 block을 구성하는 부분\n",
    "- 표현식 또는 키워드를 사용하는 구조"
   ]
  },
  {
   "cell_type": "markdown",
   "metadata": {},
   "source": [
    "**triple-quoted string**\n",
    "- 삼중따옴표에 둘러싸인 문자열\n",
    "- docstring을 작성할 때 사용됨"
   ]
  },
  {
   "cell_type": "markdown",
   "metadata": {},
   "source": [
    "**type**\n",
    "- 파이썬의 객체 유형"
   ]
  },
  {
   "cell_type": "markdown",
   "metadata": {},
   "source": [
    "**Zen of Python**\n",
    "- 파이썬의 디자인 원리와 철학의 목록\n",
    "- import this 의 반환 결과"
   ]
  },
  {
   "cell_type": "code",
   "execution_count": null,
   "metadata": {},
   "outputs": [],
   "source": []
  }
 ],
 "metadata": {
  "kernelspec": {
   "display_name": "Python 3",
   "language": "python",
   "name": "python3"
  },
  "language_info": {
   "codemirror_mode": {
    "name": "ipython",
    "version": 3
   },
   "file_extension": ".py",
   "mimetype": "text/x-python",
   "name": "python",
   "nbconvert_exporter": "python",
   "pygments_lexer": "ipython3",
   "version": "3.6.5"
  }
 },
 "nbformat": 4,
 "nbformat_minor": 2
}
