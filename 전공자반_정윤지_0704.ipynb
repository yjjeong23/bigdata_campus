{
 "cells": [
  {
   "cell_type": "markdown",
   "metadata": {},
   "source": [
    "### 61"
   ]
  },
  {
   "cell_type": "code",
   "execution_count": 5,
   "metadata": {},
   "outputs": [
    {
     "name": "stdout",
     "output_type": "stream",
     "text": [
      "0\n",
      "0\n",
      "1\n",
      "2\n",
      "3\n",
      "0\n"
     ]
    },
    {
     "data": {
      "text/plain": [
       "2.0"
      ]
     },
     "execution_count": 5,
     "metadata": {},
     "output_type": "execute_result"
    }
   ],
   "source": [
    "num_list = []\n",
    "while True:\n",
    "    try:\n",
    "        x = int(input())\n",
    "        if x==0:\n",
    "            if len(num_list)==0:\n",
    "                raise Exception()\n",
    "            else:\n",
    "                break\n",
    "        else:\n",
    "            num_list.append(x)\n",
    "    except:\n",
    "        continue\n",
    "\n",
    "sum(num_list)/len(num_list)"
   ]
  },
  {
   "cell_type": "markdown",
   "metadata": {},
   "source": [
    "### 63"
   ]
  },
  {
   "cell_type": "code",
   "execution_count": 98,
   "metadata": {},
   "outputs": [
    {
     "name": "stdout",
     "output_type": "stream",
     "text": [
      "Celsius / Fahrenheit\n",
      "--------------------\n",
      "   0    /  32.00  \n",
      "   1    /  33.80  \n",
      "   2    /  35.60  \n",
      "   3    /  37.40  \n",
      "   4    /  39.20  \n",
      "   5    /  41.00  \n",
      "   6    /  42.80  \n",
      "   7    /  44.60  \n",
      "   8    /  46.40  \n",
      "   9    /  48.20  \n",
      "  10    /  50.00  \n",
      "  11    /  51.80  \n",
      "  12    /  53.60  \n",
      "  13    /  55.40  \n",
      "  14    /  57.20  \n",
      "  15    /  59.00  \n",
      "  16    /  60.80  \n",
      "  17    /  62.60  \n",
      "  18    /  64.40  \n",
      "  19    /  66.20  \n",
      "  20    /  68.00  \n",
      "  21    /  69.80  \n",
      "  22    /  71.60  \n",
      "  23    /  73.40  \n",
      "  24    /  75.20  \n",
      "  25    /  77.00  \n",
      "  26    /  78.80  \n",
      "  27    /  80.60  \n",
      "  28    /  82.40  \n",
      "  29    /  84.20  \n",
      "  30    /  86.00  \n",
      "  31    /  87.80  \n",
      "  32    /  89.60  \n",
      "  33    /  91.40  \n",
      "  34    /  93.20  \n",
      "  35    /  95.00  \n",
      "  36    /  96.80  \n",
      "  37    /  98.60  \n",
      "  38    /  100.40 \n",
      "  39    /  102.20 \n",
      "  40    /  104.00 \n",
      "  41    /  105.80 \n",
      "  42    /  107.60 \n",
      "  43    /  109.40 \n",
      "  44    /  111.20 \n",
      "  45    /  113.00 \n",
      "  46    /  114.80 \n",
      "  47    /  116.60 \n",
      "  48    /  118.40 \n",
      "  49    /  120.20 \n",
      "  50    /  122.00 \n",
      "  51    /  123.80 \n",
      "  52    /  125.60 \n",
      "  53    /  127.40 \n",
      "  54    /  129.20 \n",
      "  55    /  131.00 \n",
      "  56    /  132.80 \n",
      "  57    /  134.60 \n",
      "  58    /  136.40 \n",
      "  59    /  138.20 \n",
      "  60    /  140.00 \n",
      "  61    /  141.80 \n",
      "  62    /  143.60 \n",
      "  63    /  145.40 \n",
      "  64    /  147.20 \n",
      "  65    /  149.00 \n",
      "  66    /  150.80 \n",
      "  67    /  152.60 \n",
      "  68    /  154.40 \n",
      "  69    /  156.20 \n",
      "  70    /  158.00 \n",
      "  71    /  159.80 \n",
      "  72    /  161.60 \n",
      "  73    /  163.40 \n",
      "  74    /  165.20 \n",
      "  75    /  167.00 \n",
      "  76    /  168.80 \n",
      "  77    /  170.60 \n",
      "  78    /  172.40 \n",
      "  79    /  174.20 \n",
      "  80    /  176.00 \n",
      "  81    /  177.80 \n",
      "  82    /  179.60 \n",
      "  83    /  181.40 \n",
      "  84    /  183.20 \n",
      "  85    /  185.00 \n",
      "  86    /  186.80 \n",
      "  87    /  188.60 \n",
      "  88    /  190.40 \n",
      "  89    /  192.20 \n",
      "  90    /  194.00 \n",
      "  91    /  195.80 \n",
      "  92    /  197.60 \n",
      "  93    /  199.40 \n",
      "  94    /  201.20 \n",
      "  95    /  203.00 \n",
      "  96    /  204.80 \n",
      "  97    /  206.60 \n",
      "  98    /  208.40 \n",
      "  99    /  210.20 \n",
      "  100   /  212.00 \n"
     ]
    }
   ],
   "source": [
    "def change(cel):\n",
    "    fah = cel*1.8 + 32\n",
    "    fah = format(fah, '.2f')\n",
    "    return fah\n",
    "\n",
    "print(\"Celsius / Fahrenheit\")\n",
    "a =\"{0:-<20}\".format('')\n",
    "print(a)\n",
    "\n",
    "for k in range(0,101):\n",
    "    fah = change(k)\n",
    "    temp =\"{0:^7} / {1:^8}\".format(k, fah)\n",
    "    print(temp)"
   ]
  },
  {
   "cell_type": "markdown",
   "metadata": {},
   "source": [
    "### 66"
   ]
  },
  {
   "cell_type": "code",
   "execution_count": 107,
   "metadata": {},
   "outputs": [
    {
     "name": "stdout",
     "output_type": "stream",
     "text": [
      "A\n",
      "C+\n",
      "B\n",
      "\n",
      "3.1\n"
     ]
    }
   ],
   "source": [
    "gpa_sum = 0\n",
    "num = 0\n",
    "\n",
    "while True:\n",
    "    grade = input()\n",
    "    \n",
    "    if grade=='':\n",
    "        break\n",
    "    \n",
    "    if grade == 'A+':\n",
    "        gpa_sum += 4.0\n",
    "        num += 1\n",
    "    elif grade == 'A':\n",
    "        gpa_sum += 4.0\n",
    "        num+=1\n",
    "    elif grade == 'A-':\n",
    "        gpa_sum += 3.7\n",
    "        num+=1\n",
    "    elif grade == 'B+':\n",
    "        gpa_sum += 3.3\n",
    "        num+=1\n",
    "    elif grade == 'B':\n",
    "        gpa_sum += 3.0\n",
    "        num+=1\n",
    "    elif grade == 'B-':\n",
    "        gpa_sum += 2.7\n",
    "        num+=1\n",
    "    elif grade == 'C+':\n",
    "        gpa_sum += 2.3\n",
    "        num+=1\n",
    "    elif grade == 'C':\n",
    "        gpa_sum += 2.0\n",
    "        num+=1\n",
    "    elif grade == 'C-':\n",
    "        gpa_sum += 1.7\n",
    "        num+=1\n",
    "    elif grade == 'D+':\n",
    "        gpa_sum += 1.3\n",
    "        num+=1\n",
    "    elif grade == 'D':\n",
    "        gpa_sum += 1.0\n",
    "        num+=1\n",
    "    else:\n",
    "        gpa_sum+=0\n",
    "        num+=1\n",
    "\n",
    "gpa = gpa_sum / num\n",
    "print(gpa)"
   ]
  },
  {
   "cell_type": "markdown",
   "metadata": {},
   "source": [
    "### 67"
   ]
  },
  {
   "cell_type": "code",
   "execution_count": 12,
   "metadata": {},
   "outputs": [
    {
     "name": "stdout",
     "output_type": "stream",
     "text": [
      "age: 3\n",
      "age: \n"
     ]
    },
    {
     "data": {
      "text/plain": [
       "'14.00'"
      ]
     },
     "execution_count": 12,
     "metadata": {},
     "output_type": "execute_result"
    }
   ],
   "source": [
    "total = 0\n",
    "\n",
    "while True:\n",
    "    try:\n",
    "        age = input('age: ')\n",
    "        \n",
    "        if age ==\"\":\n",
    "            break\n",
    "        else:\n",
    "            age = int(age)\n",
    "            \n",
    "            if age < 0:\n",
    "                raise Exception()\n",
    "            elif 0<=age<=2:\n",
    "                continue\n",
    "            elif 2< age <=12:\n",
    "                total += 14.00\n",
    "            elif age >=65:\n",
    "                total += 18.00\n",
    "            else:\n",
    "                total += 23.00\n",
    "        \n",
    "    except:\n",
    "        continue\n",
    "        \n",
    "format(total, '.2f')"
   ]
  },
  {
   "cell_type": "markdown",
   "metadata": {},
   "source": [
    "### 72"
   ]
  },
  {
   "cell_type": "code",
   "execution_count": 18,
   "metadata": {},
   "outputs": [
    {
     "name": "stdout",
     "output_type": "stream",
     "text": [
      "hananah\n",
      "hananah is a palindrom.\n"
     ]
    }
   ],
   "source": [
    "pal = False\n",
    "x = input()\n",
    "\n",
    "for i in range(len(x)//2):\n",
    "    if x[i] == x[len(x)-1-i]:\n",
    "        pal = True\n",
    "if pal==True:\n",
    "    print(x, \"is a palindrom.\")\n",
    "else:\n",
    "    print(x, \"is not a palindrom.\")"
   ]
  },
  {
   "cell_type": "markdown",
   "metadata": {},
   "source": [
    "### 74"
   ]
  },
  {
   "cell_type": "code",
   "execution_count": 106,
   "metadata": {},
   "outputs": [
    {
     "name": "stdout",
     "output_type": "stream",
     "text": [
      "    1  2  3  4  5  6  7  8  9  10\n",
      " 1  1  2  3  4  5  6  7  8  9  10 \n",
      " 2  2  4  6  8  10 12 14 16 18 20 \n",
      " 3  3  6  9  12 15 18 21 24 27 30 \n",
      " 4  4  8  12 16 20 24 28 32 36 40 \n",
      " 5  5  10 15 20 25 30 35 40 45 50 \n",
      " 6  6  12 18 24 30 36 42 48 54 60 \n",
      " 7  7  14 21 28 35 42 49 56 63 70 \n",
      " 8  8  16 24 32 40 48 56 64 72 80 \n",
      " 9  9  18 27 36 45 54 63 72 81 90 \n",
      "10 10 20 30 40 50 60 70 80 90 100 \n"
     ]
    }
   ],
   "source": [
    "print(\"  \", end=\"\")\n",
    "for i in range(1,11):\n",
    "    print(\" \",i, end=\"\")\n",
    "print()\n",
    "\n",
    "for i in range(1,11):\n",
    "    if i<10:\n",
    "        print(\"\",i,\" \", end=\"\")\n",
    "    else:\n",
    "        print(i, end=\" \")\n",
    "        \n",
    "    for j in range(1,11):\n",
    "        if i*j >9:\n",
    "            print(i*j, end=\" \")\n",
    "        else:\n",
    "            print(i*j, end=\"  \")\n",
    "    print()\n",
    "        "
   ]
  },
  {
   "cell_type": "markdown",
   "metadata": {},
   "source": [
    "### 75"
   ]
  },
  {
   "cell_type": "code",
   "execution_count": 42,
   "metadata": {},
   "outputs": [
    {
     "name": "stdout",
     "output_type": "stream",
     "text": [
      "n: 24\n",
      "m: 28\n",
      "4\n"
     ]
    }
   ],
   "source": [
    "valid = False\n",
    "while not valid:\n",
    "    try:\n",
    "        n = int(input(\"n: \"))\n",
    "        m = int(input(\"m: \"))\n",
    "        \n",
    "        if n>0 and m>0:\n",
    "            valid = True\n",
    "        else:\n",
    "            print(\"insert positive integers.\")\n",
    "        \n",
    "    except:\n",
    "        print(\"try again\")\n",
    "        \n",
    "d = n if n<=m else m\n",
    "while n%d != 0 or m%d !=0:\n",
    "    d -=1\n",
    "\n",
    "print(d)\n",
    "\n"
   ]
  },
  {
   "cell_type": "markdown",
   "metadata": {},
   "source": [
    "### 77"
   ]
  },
  {
   "cell_type": "code",
   "execution_count": 49,
   "metadata": {
    "scrolled": true
   },
   "outputs": [
    {
     "name": "stdout",
     "output_type": "stream",
     "text": [
      "1010\n",
      "the equivalend decimal number of 1010 is 10\n"
     ]
    }
   ],
   "source": [
    "while True:\n",
    "    binary = input()\n",
    "    \n",
    "    if binary.count('0') + binary.count('1') == len(binary):\n",
    "        break\n",
    "    else:\n",
    "        print('insert a valid binary number')\n",
    "        \n",
    "decimal = 0\n",
    "digit = 0\n",
    "for i in range(len(binary)-1,-1,-1):\n",
    "    if binary[i]=='1':\n",
    "        decimal += 2**digit   \n",
    "    digit +=1\n",
    "\n",
    "print(\"the equivalent decimal number of\",binary,\"is\",decimal)"
   ]
  },
  {
   "cell_type": "markdown",
   "metadata": {},
   "source": [
    "### 78"
   ]
  },
  {
   "cell_type": "code",
   "execution_count": 56,
   "metadata": {},
   "outputs": [
    {
     "name": "stdout",
     "output_type": "stream",
     "text": [
      "10\n",
      "the equivalent binary number of 0 is 1010\n"
     ]
    }
   ],
   "source": [
    "while True:\n",
    "    try:\n",
    "        q = int(input())\n",
    "        break\n",
    "    except:\n",
    "        continue\n",
    "\n",
    "result = \"\"\n",
    "\n",
    "r = q%2\n",
    "result = str(r) + result\n",
    "q = q//2\n",
    "\n",
    "while q!=0:\n",
    "    r = q%2\n",
    "    result = str(r) + result\n",
    "    q = q//2\n",
    "\n",
    "print(\"the equivalent binary number of\",q,\"is\",result)"
   ]
  }
 ],
 "metadata": {
  "kernelspec": {
   "display_name": "Python 3",
   "language": "python",
   "name": "python3"
  },
  "language_info": {
   "codemirror_mode": {
    "name": "ipython",
    "version": 3
   },
   "file_extension": ".py",
   "mimetype": "text/x-python",
   "name": "python",
   "nbconvert_exporter": "python",
   "pygments_lexer": "ipython3",
   "version": "3.6.5"
  }
 },
 "nbformat": 4,
 "nbformat_minor": 2
}
