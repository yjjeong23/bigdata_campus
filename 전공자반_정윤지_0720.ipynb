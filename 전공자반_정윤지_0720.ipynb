{
 "cells": [
  {
   "cell_type": "markdown",
   "metadata": {},
   "source": [
    "구두점 제거"
   ]
  },
  {
   "cell_type": "code",
   "execution_count": 1,
   "metadata": {},
   "outputs": [],
   "source": [
    "import re\n",
    "import string\n",
    "from nltk.tokenize import word_tokenize"
   ]
  },
  {
   "cell_type": "code",
   "execution_count": 2,
   "metadata": {},
   "outputs": [],
   "source": [
    "text = [\"It is a pleasant evening\", \"Guests, who came from US arrived at the venue\", \"Food was tasty.\"]\n",
    "tokens = [word_tokenize(s) for s in text]"
   ]
  },
  {
   "cell_type": "code",
   "execution_count": 3,
   "metadata": {},
   "outputs": [],
   "source": [
    "pattern = re.compile(\"[%s]\" % re.escape(string.punctuation))"
   ]
  },
  {
   "cell_type": "code",
   "execution_count": 4,
   "metadata": {},
   "outputs": [],
   "source": [
    "newTokens = []"
   ]
  },
  {
   "cell_type": "code",
   "execution_count": 5,
   "metadata": {},
   "outputs": [
    {
     "data": {
      "text/plain": [
       "[['It', 'is', 'a', 'pleasant', 'evening'],\n",
       " ['Guests', 'who', 'came', 'from', 'US', 'arrived', 'at', 'the', 'venue'],\n",
       " ['Food', 'was', 'tasty']]"
      ]
     },
     "execution_count": 5,
     "metadata": {},
     "output_type": "execute_result"
    }
   ],
   "source": [
    "for sentence in tokens:\n",
    "    newSentence = []\n",
    "    \n",
    "    for word in sentence:\n",
    "        newWord = pattern.sub(\"\", word)\n",
    "        \n",
    "        if newWord != \"\":\n",
    "            newSentence.append(newWord)\n",
    "            \n",
    "    newTokens.append(newSentence)\n",
    "    \n",
    "newTokens"
   ]
  },
  {
   "cell_type": "markdown",
   "metadata": {},
   "source": [
    "기사 내 어휘 통계"
   ]
  },
  {
   "cell_type": "code",
   "execution_count": 2,
   "metadata": {},
   "outputs": [],
   "source": [
    "from bs4 import BeautifulSoup\n",
    "import requests"
   ]
  },
  {
   "cell_type": "code",
   "execution_count": 3,
   "metadata": {},
   "outputs": [],
   "source": [
    "url = \"https://news.naver.com/main/hotissue/read.nhn?mid=hot&sid1=102&cid=1081137&iid=3399376&oid=003&aid=0008716863&ptype=052\""
   ]
  },
  {
   "cell_type": "code",
   "execution_count": 4,
   "metadata": {},
   "outputs": [],
   "source": [
    "html = requests.get(url)"
   ]
  },
  {
   "cell_type": "code",
   "execution_count": 5,
   "metadata": {},
   "outputs": [],
   "source": [
    "dom = BeautifulSoup(html.text, \"html.parser\")"
   ]
  },
  {
   "cell_type": "code",
   "execution_count": 6,
   "metadata": {},
   "outputs": [],
   "source": [
    "article = dom.select('#articleBodyContents')"
   ]
  },
  {
   "cell_type": "code",
   "execution_count": 37,
   "metadata": {},
   "outputs": [],
   "source": [
    "text = article[0].text"
   ]
  },
  {
   "cell_type": "code",
   "execution_count": 8,
   "metadata": {},
   "outputs": [],
   "source": [
    "import re"
   ]
  },
  {
   "cell_type": "code",
   "execution_count": 9,
   "metadata": {},
   "outputs": [],
   "source": [
    "p = re.compile(\"▶.*|.*=\")"
   ]
  },
  {
   "cell_type": "code",
   "execution_count": 43,
   "metadata": {},
   "outputs": [],
   "source": [
    "text = re.sub(p, \"\", text)"
   ]
  },
  {
   "cell_type": "code",
   "execution_count": 44,
   "metadata": {},
   "outputs": [
    {
     "data": {
      "text/plain": [
       "'\\n\\n\\n\\n\\n// flash 오류를 우회하기 위한 함수 추가\\nfunction _flash_removeCallback() {}\\n\\n \\'댓글 조작 의혹\\' 사건을 수사 중인 허익범(59·사법연수원 13기) 특별검사팀이 오는 25일 1심 선고를 앞두고 있는 \\'드루킹\\' 김모(49)씨 등 4인을 추가기소했다. 특검팀은 20일 김씨를 비롯해 \\'서유기\\' 박모(31)씨, \\'솔본아르타\\' 양모(35)씨, \\'둘리\\' 우모(32)씨 등을 업무방해 혐의로 추가기소하고 사건을 병합해달라고 요청했다. 특검팀은 지난 2월21일부터 3월21일까지 총 2196개의 ID와 매크로(자동입력 반복) 프로그램을 이용해 모두 5533개 기사 각 댓글 22만1729개의 공감 수를 조작한 혐의를 적용했다. 조작된 공감·비공감 수는 1131만116회에 달하는 것으로 조사됐다. 법원에 제출된 범죄일람표만 100권을 웃도는 것으로 전해진다. 이들 일당은 이번 혐의와 관련해 기존 사용하던 매크로 프로그램인 \\'킹크랩\\'에서 버전이 업데이트된 \\'킹크랩 2\\'를 동원한 것으로 조사됐다. 킹크랩은 매크로, IP 변동, 인터넷 정보 조작, 사용자 정보 등 기능이 담긴 통합 프로그램으로 이들 일당이 댓글 조작 범행을 위해 자체 개발한 것으로 알려졌다. 기존 킹크랩이 명령어가 입력된 아마존 서버와 이를 실행하는 휴대전화로 구분됐다면, \\'킹크랩 2\\'의 경우 휴대 전화 없이도 조작이 가능하다는 게 특검팀 설명이다. 드루킹 일당은 이 같은 버전 업데이트를 통해 휴대전화 등 비용을 절감하는 데서 나아가 네이버 포털사이트 어뷰징 단속 등을 피해갈 수 있었던 것으로 파악됐다. 앞서 댓글 조작에 사용된 휴대전화는 300대에 달하는 것으로 추정된다. 특검팀은 매크로 버전 업데이트 과정 등을 추가로 확인하고 있다. 아울러 지난 1월17일 이전 조작된 것으로 의심되는 댓글 약 8000만건에 대한 분석 작업도 병행하고 있다고 한다. 허익범 특검은 \"굉장히 지루하고 고된 확인 작업이 필요하다\"라고 말했다. 특검팀은 혐의를 특정하기 위해 다수 전문 인력을 투입해 분석 작업을 벌였다. 이 과정에서 포털사이트 측과 분석 작업이 이뤄졌고 관련자 진술도 확보했다. 특검팀은 이들 일당을 추가로 재판에 넘기면서 25일 선고를 앞둔 사건을 합의부에 병합해달라는 취지의 신청서도 제출했다. 특검이 기소한 사건의 경우 서울중앙지법 합의부가 사건을 담당하게 되는 만큼 사건 병합을 통해 단독 재판부가 진행 중인 사건에 대한 선고가 이뤄지지 않을 거라는 게 특검팀 판단이다. 앞서 법원은 지난 4일 드루킹 일당의 업무방해 혐의 결심 공판을 진행하고, 오는 25일 선고 기일을 열기로 했다. 드루킹 등은 537개의 인터넷 뉴스 기사의 댓글 1만6658개에 총 184만3048회 공감 또는 비공감을 클릭하는 등 네이버 댓글 산정 업무를 방해한 혐의만 우선 적용돼 재판에 넘겨진 상태다.  박상융 특검보는 \"재판부가 아마 25일 선고를 하지 않고 단독 재판부가 진행 중인 사건을 다시 합의부로 병합할 것으로 안다\"라고 말했다. kafka@newsis.com naun@newsis.com\\n\\n'"
      ]
     },
     "execution_count": 44,
     "metadata": {},
     "output_type": "execute_result"
    }
   ],
   "source": [
    "text"
   ]
  },
  {
   "cell_type": "code",
   "execution_count": 12,
   "metadata": {},
   "outputs": [],
   "source": [
    "from konlpy.tag import Kkma"
   ]
  },
  {
   "cell_type": "code",
   "execution_count": 13,
   "metadata": {},
   "outputs": [],
   "source": [
    "k = Kkma()"
   ]
  },
  {
   "cell_type": "code",
   "execution_count": 14,
   "metadata": {},
   "outputs": [],
   "source": [
    "tokens = k.nouns(text) "
   ]
  },
  {
   "cell_type": "code",
   "execution_count": 15,
   "metadata": {},
   "outputs": [
    {
     "data": {
      "text/plain": [
       "225"
      ]
     },
     "execution_count": 15,
     "metadata": {},
     "output_type": "execute_result"
    }
   ],
   "source": [
    "len(tokens)"
   ]
  },
  {
   "cell_type": "code",
   "execution_count": 17,
   "metadata": {},
   "outputs": [],
   "source": [
    "art = nltk.Text(tokens)"
   ]
  },
  {
   "cell_type": "code",
   "execution_count": 16,
   "metadata": {},
   "outputs": [],
   "source": [
    "import nltk"
   ]
  },
  {
   "cell_type": "code",
   "execution_count": 24,
   "metadata": {},
   "outputs": [
    {
     "data": {
      "text/plain": [
       "FreqDist({'수': 2, '이': 2, '오류': 1, '우회': 1, '함수': 1, '추가': 1, '댓': 1, '댓글': 1, '글': 1, '조작': 1, ...})"
      ]
     },
     "execution_count": 24,
     "metadata": {},
     "output_type": "execute_result"
    }
   ],
   "source": [
    "art.vocab()"
   ]
  },
  {
   "cell_type": "code",
   "execution_count": 18,
   "metadata": {},
   "outputs": [
    {
     "data": {
      "text/plain": [
       "['오류',\n",
       " '우회',\n",
       " '함수',\n",
       " '추가',\n",
       " '댓',\n",
       " '댓글',\n",
       " '글',\n",
       " '조작',\n",
       " '의혹',\n",
       " '사건',\n",
       " '수사',\n",
       " '중인',\n",
       " '허익',\n",
       " '허익범',\n",
       " '범',\n",
       " '59',\n",
       " '사법',\n",
       " '사법연수원',\n",
       " '연수원',\n",
       " '13',\n",
       " '13기',\n",
       " '기',\n",
       " '특별',\n",
       " '특별검사팀',\n",
       " '검사',\n",
       " '팀',\n",
       " '25',\n",
       " '25일',\n",
       " '일',\n",
       " '1',\n",
       " '1심',\n",
       " '심',\n",
       " '선고',\n",
       " '루',\n",
       " '루킹',\n",
       " '킹',\n",
       " '김',\n",
       " '김모',\n",
       " '모',\n",
       " '49',\n",
       " '씨',\n",
       " '등',\n",
       " '4',\n",
       " '4인',\n",
       " '인',\n",
       " '추가기소',\n",
       " '기소',\n",
       " '특검',\n",
       " '특검팀',\n",
       " '20',\n",
       " '20일',\n",
       " '서유기',\n",
       " '박모',\n",
       " '31',\n",
       " '솔',\n",
       " '아르',\n",
       " '양모',\n",
       " '35',\n",
       " '둘',\n",
       " '둘리',\n",
       " '리',\n",
       " '우모',\n",
       " '32',\n",
       " '업무',\n",
       " '업무방해',\n",
       " '방해',\n",
       " '혐의',\n",
       " '병합',\n",
       " '요청',\n",
       " '2',\n",
       " '2월21일',\n",
       " '월',\n",
       " '21',\n",
       " '3',\n",
       " '3월21일',\n",
       " '2196',\n",
       " '2196개',\n",
       " '개',\n",
       " '매크로',\n",
       " '자동',\n",
       " '자동입력',\n",
       " '입력',\n",
       " '반복',\n",
       " '프로그램',\n",
       " '이용',\n",
       " '모두',\n",
       " '5533',\n",
       " '5533개',\n",
       " '기사',\n",
       " '22',\n",
       " '22만1729개',\n",
       " '만',\n",
       " '1729',\n",
       " '공감',\n",
       " '수',\n",
       " '적용',\n",
       " '비공',\n",
       " '1131',\n",
       " '1131만116회',\n",
       " '116',\n",
       " '회',\n",
       " '조사',\n",
       " '법원',\n",
       " '제출',\n",
       " '범죄',\n",
       " '범죄일람표',\n",
       " '일람표',\n",
       " '100',\n",
       " '100권',\n",
       " '권',\n",
       " '일당',\n",
       " '이번',\n",
       " '관련',\n",
       " '기존',\n",
       " '사용',\n",
       " '킹크',\n",
       " '킹크랩',\n",
       " '랩',\n",
       " '버전',\n",
       " '업데이트',\n",
       " '동원',\n",
       " '변동',\n",
       " '인터넷',\n",
       " '정보',\n",
       " '사용자',\n",
       " '기능',\n",
       " '통합',\n",
       " '이',\n",
       " '범행',\n",
       " '자체',\n",
       " '개발',\n",
       " '명령어',\n",
       " '아마존',\n",
       " '서버',\n",
       " '실행',\n",
       " '휴대',\n",
       " '휴대전화',\n",
       " '전화',\n",
       " '구분',\n",
       " '의',\n",
       " '경우',\n",
       " '가능',\n",
       " '게',\n",
       " '설명',\n",
       " '비용',\n",
       " '절감',\n",
       " '데',\n",
       " '나',\n",
       " '아가',\n",
       " '네이버',\n",
       " '포털',\n",
       " '포털사이트',\n",
       " '사이트',\n",
       " '뷰',\n",
       " '뷰징',\n",
       " '징',\n",
       " '단속',\n",
       " '파악',\n",
       " '300',\n",
       " '300대',\n",
       " '대',\n",
       " '추정',\n",
       " '과정',\n",
       " '확인',\n",
       " '1월17일',\n",
       " '17',\n",
       " '이전',\n",
       " '의심',\n",
       " '약',\n",
       " '8000',\n",
       " '8000만건',\n",
       " '건',\n",
       " '분석',\n",
       " '작업',\n",
       " '병행',\n",
       " '필요',\n",
       " '특정',\n",
       " '다수',\n",
       " '전문',\n",
       " '인력',\n",
       " '투입',\n",
       " '측',\n",
       " '관련자',\n",
       " '진술',\n",
       " '확보',\n",
       " '재판',\n",
       " '합',\n",
       " '부',\n",
       " '취지',\n",
       " '신청서',\n",
       " '서울',\n",
       " '서울중앙지법',\n",
       " '중앙',\n",
       " '지법',\n",
       " '합의',\n",
       " '합의부가',\n",
       " '부가',\n",
       " '담당',\n",
       " '만큼',\n",
       " '단독',\n",
       " '재판부',\n",
       " '진행',\n",
       " '거',\n",
       " '판단',\n",
       " '4일',\n",
       " '결심',\n",
       " '공판',\n",
       " '기일',\n",
       " '537',\n",
       " '537개',\n",
       " '뉴스',\n",
       " '1만6658개',\n",
       " '6658',\n",
       " '총',\n",
       " '184',\n",
       " '184만3048회',\n",
       " '3048',\n",
       " '클릭',\n",
       " '산정',\n",
       " '상태',\n",
       " '박상',\n",
       " '박상융',\n",
       " '융']"
      ]
     },
     "execution_count": 18,
     "metadata": {},
     "output_type": "execute_result"
    }
   ],
   "source": [
    "list(art.vocab())"
   ]
  },
  {
   "cell_type": "code",
   "execution_count": 19,
   "metadata": {},
   "outputs": [],
   "source": [
    "from matplotlib import font_manager, rc\n",
    "\n",
    "font_name = font_manager.FontProperties(fname=\"c:/Windows/Fonts/malgun.ttf\").get_name()\n",
    "rc('font', family=font_name)"
   ]
  },
  {
   "cell_type": "code",
   "execution_count": 23,
   "metadata": {},
   "outputs": [
    {
     "data": {
      "image/png": "[encoded data removed]",
      "text/plain": [
       "<Figure size 432x288 with 1 Axes>"
      ]
     },
     "metadata": {},
     "output_type": "display_data"
    },
    {
     "name": "stdout",
     "output_type": "stream",
     "text": [
      "None\n"
     ]
    }
   ],
   "source": [
    "print(art.plot(10))"
   ]
  },
  {
   "cell_type": "code",
   "execution_count": 26,
   "metadata": {},
   "outputs": [],
   "source": [
    "from konlpy.tag import Twitter"
   ]
  },
  {
   "cell_type": "code",
   "execution_count": 27,
   "metadata": {},
   "outputs": [],
   "source": [
    "t = Twitter()"
   ]
  },
  {
   "cell_type": "code",
   "execution_count": 38,
   "metadata": {},
   "outputs": [],
   "source": [
    "tokens = t.nouns(text)"
   ]
  },
  {
   "cell_type": "code",
   "execution_count": 39,
   "metadata": {},
   "outputs": [],
   "source": [
    "art = nltk.Text(tokens)"
   ]
  },
  {
   "cell_type": "code",
   "execution_count": 40,
   "metadata": {},
   "outputs": [
    {
     "data": {
      "text/plain": [
       "FreqDist({'특검': 13, '조작': 11, '일': 11, '사건': 10, '팀': 10, '댓글': 9, '등': 8, '것': 8, '공감': 7, '개': 6, ...})"
      ]
     },
     "execution_count": 40,
     "metadata": {},
     "output_type": "execute_result"
    }
   ],
   "source": [
    "art.vocab()"
   ]
  },
  {
   "cell_type": "code",
   "execution_count": 41,
   "metadata": {},
   "outputs": [
    {
     "data": {
      "text/plain": [
       "['오류',\n",
       " '우회',\n",
       " '함수',\n",
       " '추가',\n",
       " '개',\n",
       " '동원',\n",
       " '댓글',\n",
       " '만',\n",
       " '공감',\n",
       " '수',\n",
       " '조작',\n",
       " '휴대전화',\n",
       " '가능',\n",
       " '킹크랩',\n",
       " '사용',\n",
       " '범행',\n",
       " '사건',\n",
       " '서울중앙지법',\n",
       " '합의',\n",
       " '부',\n",
       " '병합',\n",
       " '신청',\n",
       " '서울',\n",
       " '뉴시스',\n",
       " '전진환',\n",
       " '기자',\n",
       " '드루',\n",
       " '킹',\n",
       " '의혹',\n",
       " '수사',\n",
       " '특별검사',\n",
       " '팀',\n",
       " '특검',\n",
       " '익범',\n",
       " '지난',\n",
       " '일',\n",
       " '오후',\n",
       " '서초구',\n",
       " '사무실',\n",
       " '브리핑',\n",
       " '오제',\n",
       " '채',\n",
       " '중인',\n",
       " '사법연수원',\n",
       " '기',\n",
       " '심',\n",
       " '선고',\n",
       " '김모',\n",
       " '씨',\n",
       " '등',\n",
       " '인',\n",
       " '기소',\n",
       " '김씨',\n",
       " '서유기',\n",
       " '박모',\n",
       " '솔',\n",
       " '아르타',\n",
       " '양모',\n",
       " '둘리',\n",
       " '우모',\n",
       " '업무방해',\n",
       " '혐의',\n",
       " '월',\n",
       " '총',\n",
       " '와',\n",
       " '매크로',\n",
       " '자동',\n",
       " '입력',\n",
       " '반복',\n",
       " '프로그램',\n",
       " '모두',\n",
       " '기사',\n",
       " '각',\n",
       " '비',\n",
       " '회',\n",
       " '것',\n",
       " '조사',\n",
       " '법원',\n",
       " '제출',\n",
       " '범죄',\n",
       " '일람표',\n",
       " '권',\n",
       " '전해진',\n",
       " '이',\n",
       " '일당',\n",
       " '이번',\n",
       " '기존',\n",
       " '에서',\n",
       " '버전',\n",
       " '업데이트',\n",
       " '를',\n",
       " '변동',\n",
       " '인터넷',\n",
       " '정보',\n",
       " '사용자',\n",
       " '기능',\n",
       " '통합',\n",
       " '위해',\n",
       " '자체',\n",
       " '명령어',\n",
       " '아마존',\n",
       " '서버',\n",
       " '실행',\n",
       " '구분',\n",
       " '의',\n",
       " '경우',\n",
       " '휴대',\n",
       " '전화',\n",
       " '게',\n",
       " '설명',\n",
       " '통해',\n",
       " '비용',\n",
       " '절감',\n",
       " '데',\n",
       " '네이버',\n",
       " '포털사이트',\n",
       " '어뷰징',\n",
       " '단속',\n",
       " '피',\n",
       " '해갈',\n",
       " '파악',\n",
       " '앞서',\n",
       " '추정',\n",
       " '과정',\n",
       " '이전',\n",
       " '의심',\n",
       " '약',\n",
       " '만건',\n",
       " '대한',\n",
       " '분석',\n",
       " '작업',\n",
       " '병행',\n",
       " '고',\n",
       " '확인',\n",
       " '다수',\n",
       " '전문',\n",
       " '인력',\n",
       " '투입',\n",
       " '측',\n",
       " '관련',\n",
       " '진술',\n",
       " '확보',\n",
       " '재판',\n",
       " '취지',\n",
       " '신청서',\n",
       " '부가',\n",
       " '만큼',\n",
       " '단독',\n",
       " '진행',\n",
       " '거',\n",
       " '판단',\n",
       " '결심',\n",
       " '공판',\n",
       " '기일',\n",
       " '열기',\n",
       " '뉴스',\n",
       " '클릭',\n",
       " '산정',\n",
       " '업무',\n",
       " '우선',\n",
       " '적용',\n",
       " '상태',\n",
       " '박상',\n",
       " '융',\n",
       " '아마',\n",
       " '다시',\n",
       " '부로',\n",
       " '빅데이터',\n",
       " '주가',\n",
       " '시세',\n",
       " '표',\n",
       " '바로가기',\n",
       " '페이스북',\n",
       " '트위터',\n",
       " '저작권',\n",
       " '언론',\n",
       " '통신사',\n",
       " '무단',\n",
       " '전재',\n",
       " '재',\n",
       " '배포',\n",
       " '금지']"
      ]
     },
     "execution_count": 41,
     "metadata": {},
     "output_type": "execute_result"
    }
   ],
   "source": [
    "list(art.vocab())"
   ]
  },
  {
   "cell_type": "code",
   "execution_count": 35,
   "metadata": {},
   "outputs": [
    {
     "data": {
      "image/png": "[encoded data removed]",
      "text/plain": [
       "<Figure size 432x288 with 1 Axes>"
      ]
     },
     "metadata": {},
     "output_type": "display_data"
    },
    {
     "name": "stdout",
     "output_type": "stream",
     "text": [
      "None\n"
     ]
    }
   ],
   "source": [
    "print(art.plot(30))"
   ]
  },
  {
   "cell_type": "code",
   "execution_count": 42,
   "metadata": {},
   "outputs": [],
   "source": [
    "from matplotlib import pyplot"
   ]
  },
  {
   "cell_type": "code",
   "execution_count": 45,
   "metadata": {},
   "outputs": [
    {
     "name": "stdout",
     "output_type": "stream",
     "text": [
      "0 0\n",
      "0 0\n",
      "0 0\n",
      "0 0\n",
      "0 0\n",
      "4 4\n",
      "0 4\n",
      "0 4\n",
      "151 154\n",
      "0 154\n",
      "0 154\n"
     ]
    }
   ],
   "source": [
    "global_unique = []\n",
    "global_unique_count=[]\n",
    "\n",
    "for row in text.split(\"\\n\"):\n",
    "    term = t.nouns(row)\n",
    "    unique = set(term)\n",
    "    global_unique += list(unique)\n",
    "    global_unique = list(set(global_unique))   #set으로 바꿔서 중복제거\n",
    "    global_unique_count.append(len(global_unique))\n",
    "    print(len(unique), len(global_unique))"
   ]
  },
  {
   "cell_type": "code",
   "execution_count": 46,
   "metadata": {},
   "outputs": [
    {
     "data": {
      "image/png": "[encoded data removed]",
      "text/plain": [
       "<Figure size 432x288 with 1 Axes>"
      ]
     },
     "metadata": {},
     "output_type": "display_data"
    }
   ],
   "source": [
    "pyplot.plot(global_unique_count)  #각 단계마다 unique의 갯수\n",
    "pyplot.savefig(\"test.png\")"
   ]
  },
  {
   "cell_type": "code",
   "execution_count": 53,
   "metadata": {},
   "outputs": [],
   "source": [
    "stopwords = [\"드루킹\"]"
   ]
  },
  {
   "cell_type": "code",
   "execution_count": 59,
   "metadata": {},
   "outputs": [
    {
     "name": "stdout",
     "output_type": "stream",
     "text": [
      "4\n"
     ]
    }
   ],
   "source": [
    "count = 0\n",
    "for src in text.split():\n",
    "    src = re.sub(\"[^ㄱ-ㅎㅏ-ㅣ가-힣]\", \"\", src)\n",
    "    \n",
    "    for temp in ngram(src, 3):\n",
    "        if temp in stopwords:\n",
    "            count = count +1\n",
    "            \n",
    "print(count)"
   ]
  },
  {
   "cell_type": "code",
   "execution_count": 50,
   "metadata": {},
   "outputs": [],
   "source": [
    "def ngram(src, n=2):\n",
    "    result = []\n",
    "    for i in range(len(src)):\n",
    "        result.append(src[i:i+n])\n",
    "    return result"
   ]
  },
  {
   "cell_type": "code",
   "execution_count": null,
   "metadata": {},
   "outputs": [],
   "source": []
  }
 ],
 "metadata": {
  "kernelspec": {
   "display_name": "Python 3",
   "language": "python",
   "name": "python3"
  },
  "language_info": {
   "codemirror_mode": {
    "name": "ipython",
    "version": 3
   },
   "file_extension": ".py",
   "mimetype": "text/x-python",
   "name": "python",
   "nbconvert_exporter": "python",
   "pygments_lexer": "ipython3",
   "version": "3.6.5"
  }
 },
 "nbformat": 4,
 "nbformat_minor": 2
}
