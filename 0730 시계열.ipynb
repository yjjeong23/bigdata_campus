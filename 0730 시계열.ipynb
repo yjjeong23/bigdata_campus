{
 "cells": [
  {
   "cell_type": "code",
   "execution_count": 1,
   "metadata": {},
   "outputs": [],
   "source": [
    "import datetime"
   ]
  },
  {
   "cell_type": "code",
   "execution_count": 5,
   "metadata": {},
   "outputs": [
    {
     "data": {
      "text/plain": [
       "type"
      ]
     },
     "execution_count": 5,
     "metadata": {},
     "output_type": "execute_result"
    }
   ],
   "source": [
    "type(datetime.datetime)    #Class"
   ]
  },
  {
   "cell_type": "code",
   "execution_count": 4,
   "metadata": {},
   "outputs": [
    {
     "data": {
      "text/plain": [
       "['__add__',\n",
       " '__class__',\n",
       " '__delattr__',\n",
       " '__dir__',\n",
       " '__doc__',\n",
       " '__eq__',\n",
       " '__format__',\n",
       " '__ge__',\n",
       " '__getattribute__',\n",
       " '__gt__',\n",
       " '__hash__',\n",
       " '__init__',\n",
       " '__init_subclass__',\n",
       " '__le__',\n",
       " '__lt__',\n",
       " '__ne__',\n",
       " '__new__',\n",
       " '__radd__',\n",
       " '__reduce__',\n",
       " '__reduce_ex__',\n",
       " '__repr__',\n",
       " '__rsub__',\n",
       " '__setattr__',\n",
       " '__sizeof__',\n",
       " '__str__',\n",
       " '__sub__',\n",
       " '__subclasshook__',\n",
       " 'astimezone',\n",
       " 'combine',\n",
       " 'ctime',\n",
       " 'date',\n",
       " 'day',\n",
       " 'dst',\n",
       " 'fold',\n",
       " 'fromordinal',\n",
       " 'fromtimestamp',\n",
       " 'hour',\n",
       " 'isocalendar',\n",
       " 'isoformat',\n",
       " 'isoweekday',\n",
       " 'max',\n",
       " 'microsecond',\n",
       " 'min',\n",
       " 'minute',\n",
       " 'month',\n",
       " 'now',\n",
       " 'replace',\n",
       " 'resolution',\n",
       " 'second',\n",
       " 'strftime',\n",
       " 'strptime',\n",
       " 'time',\n",
       " 'timestamp',\n",
       " 'timetuple',\n",
       " 'timetz',\n",
       " 'today',\n",
       " 'toordinal',\n",
       " 'tzinfo',\n",
       " 'tzname',\n",
       " 'utcfromtimestamp',\n",
       " 'utcnow',\n",
       " 'utcoffset',\n",
       " 'utctimetuple',\n",
       " 'weekday',\n",
       " 'year']"
      ]
     },
     "execution_count": 4,
     "metadata": {},
     "output_type": "execute_result"
    }
   ],
   "source": [
    "dir(datetime.datetime)"
   ]
  },
  {
   "cell_type": "code",
   "execution_count": 6,
   "metadata": {},
   "outputs": [],
   "source": [
    "a = datetime.datetime(2018,7,30)"
   ]
  },
  {
   "cell_type": "code",
   "execution_count": 7,
   "metadata": {},
   "outputs": [
    {
     "data": {
      "text/plain": [
       "datetime.datetime(2018, 7, 30, 0, 0)"
      ]
     },
     "execution_count": 7,
     "metadata": {},
     "output_type": "execute_result"
    }
   ],
   "source": [
    "a"
   ]
  },
  {
   "cell_type": "code",
   "execution_count": 8,
   "metadata": {},
   "outputs": [
    {
     "data": {
      "text/plain": [
       "30"
      ]
     },
     "execution_count": 8,
     "metadata": {},
     "output_type": "execute_result"
    }
   ],
   "source": [
    "a.day"
   ]
  },
  {
   "cell_type": "code",
   "execution_count": 9,
   "metadata": {},
   "outputs": [],
   "source": [
    "from dateutil import parser"
   ]
  },
  {
   "cell_type": "code",
   "execution_count": 10,
   "metadata": {},
   "outputs": [],
   "source": [
    "date = parser.parse(\"4th of July, 2015\")"
   ]
  },
  {
   "cell_type": "code",
   "execution_count": 11,
   "metadata": {},
   "outputs": [
    {
     "data": {
      "text/plain": [
       "datetime.datetime(2015, 7, 4, 0, 0)"
      ]
     },
     "execution_count": 11,
     "metadata": {},
     "output_type": "execute_result"
    }
   ],
   "source": [
    "date"
   ]
  },
  {
   "cell_type": "code",
   "execution_count": 12,
   "metadata": {},
   "outputs": [
    {
     "data": {
      "text/plain": [
       "'Saturday'"
      ]
     },
     "execution_count": 12,
     "metadata": {},
     "output_type": "execute_result"
    }
   ],
   "source": [
    "date.strftime('%A')"
   ]
  },
  {
   "cell_type": "code",
   "execution_count": 14,
   "metadata": {},
   "outputs": [],
   "source": [
    "?datetime"
   ]
  },
  {
   "cell_type": "code",
   "execution_count": 52,
   "metadata": {},
   "outputs": [
    {
     "data": {
      "text/plain": [
       "'2018-07-30-Mon-00:00:00'"
      ]
     },
     "execution_count": 52,
     "metadata": {},
     "output_type": "execute_result"
    }
   ],
   "source": [
    "a.strftime('%Y-%m-%d-%a-%T')"
   ]
  },
  {
   "cell_type": "code",
   "execution_count": 7,
   "metadata": {},
   "outputs": [],
   "source": [
    "import numpy as np"
   ]
  },
  {
   "cell_type": "code",
   "execution_count": 62,
   "metadata": {},
   "outputs": [],
   "source": [
    "date = np.array('2015-07-04', dtype=np.datetime64)"
   ]
  },
  {
   "cell_type": "code",
   "execution_count": 63,
   "metadata": {},
   "outputs": [
    {
     "data": {
      "text/plain": [
       "array('2015-07-04', dtype='datetime64[D]')"
      ]
     },
     "execution_count": 63,
     "metadata": {},
     "output_type": "execute_result"
    }
   ],
   "source": [
    "date    #dtype 이용하면 속도 훨씬 빠름"
   ]
  },
  {
   "cell_type": "code",
   "execution_count": 68,
   "metadata": {},
   "outputs": [
    {
     "data": {
      "text/plain": [
       "array(['2015-07-04', '2015-07-05', '2015-07-06', '2015-07-07',\n",
       "       '2015-07-08', '2015-07-09', '2015-07-10', '2015-07-11',\n",
       "       '2015-07-12', '2015-07-13', '2015-07-14', '2015-07-15'],\n",
       "      dtype='datetime64[D]')"
      ]
     },
     "execution_count": 68,
     "metadata": {},
     "output_type": "execute_result"
    }
   ],
   "source": [
    "date + np.arange(12)"
   ]
  },
  {
   "cell_type": "code",
   "execution_count": 69,
   "metadata": {},
   "outputs": [
    {
     "data": {
      "text/plain": [
       "numpy.datetime64('2015-06-21T12:00:00.000000000')"
      ]
     },
     "execution_count": 69,
     "metadata": {},
     "output_type": "execute_result"
    }
   ],
   "source": [
    "np.datetime64('2015-06-21 12:00', 'ns')      #time zone"
   ]
  },
  {
   "cell_type": "code",
   "execution_count": 1,
   "metadata": {},
   "outputs": [],
   "source": [
    "import pandas as pd\n",
    "# date = pd.to_datetime(\"2018/08/30\")\n",
    "# date = pd.to_datetime(\"2017 8 20\")\n",
    "# date = pd.to_datetime(\"9 20 2018\")\n",
    "date = pd.to_datetime(\"20 7 2018\")"
   ]
  },
  {
   "cell_type": "code",
   "execution_count": 81,
   "metadata": {},
   "outputs": [
    {
     "data": {
      "text/plain": [
       "Timestamp('2018-07-20 00:00:00')"
      ]
     },
     "execution_count": 81,
     "metadata": {},
     "output_type": "execute_result"
    }
   ],
   "source": [
    "date"
   ]
  },
  {
   "cell_type": "code",
   "execution_count": 83,
   "metadata": {},
   "outputs": [
    {
     "data": {
      "text/plain": [
       "DatetimeIndex(['2018-07-20', '2018-07-21', '2018-07-22', '2018-07-23',\n",
       "               '2018-07-24', '2018-07-25', '2018-07-26', '2018-07-27',\n",
       "               '2018-07-28', '2018-07-29', '2018-07-30', '2018-07-31'],\n",
       "              dtype='datetime64[ns]', freq=None)"
      ]
     },
     "execution_count": 83,
     "metadata": {},
     "output_type": "execute_result"
    }
   ],
   "source": [
    "date + pd.to_timedelta(np.arange(12),'D')  #timedelta : 일정 시간이 지난 후"
   ]
  },
  {
   "cell_type": "code",
   "execution_count": 86,
   "metadata": {},
   "outputs": [
    {
     "name": "stdout",
     "output_type": "stream",
     "text": [
      "2018-07-23 00:00:00\n",
      "2018-08-10 00:00:00\n",
      "2021-07-19 17:27:36\n",
      "2018-06-29 00:00:00\n"
     ]
    }
   ],
   "source": [
    "print(date + pd.to_timedelta(3, 'D'))  #3일 뒤\n",
    "print(date + pd.to_timedelta(3, 'W'))  #3주 뒤\n",
    "print(date + pd.to_timedelta(3, 'Y'))  #3년 뒤\n",
    "print(date + pd.to_timedelta(-3, 'W'))  #3주 전\n"
   ]
  },
  {
   "cell_type": "markdown",
   "metadata": {},
   "source": [
    "시간, 날짜를 인덱스를 사용하고자 할 때 datetime 이용하면 됨"
   ]
  },
  {
   "cell_type": "code",
   "execution_count": 89,
   "metadata": {},
   "outputs": [],
   "source": [
    "a = pd.Series([1,2,3,5])"
   ]
  },
  {
   "cell_type": "code",
   "execution_count": 90,
   "metadata": {
    "scrolled": true
   },
   "outputs": [
    {
     "data": {
      "text/plain": [
       "0    1\n",
       "1    2\n",
       "2    3\n",
       "3    5\n",
       "dtype: int64"
      ]
     },
     "execution_count": 90,
     "metadata": {},
     "output_type": "execute_result"
    }
   ],
   "source": [
    "a"
   ]
  },
  {
   "cell_type": "code",
   "execution_count": 91,
   "metadata": {},
   "outputs": [
    {
     "data": {
      "text/plain": [
       "RangeIndex(start=0, stop=4, step=1)"
      ]
     },
     "execution_count": 91,
     "metadata": {},
     "output_type": "execute_result"
    }
   ],
   "source": [
    "a.index"
   ]
  },
  {
   "cell_type": "code",
   "execution_count": 93,
   "metadata": {},
   "outputs": [],
   "source": [
    "a = pd.Series([1,2,3,4],['a','b','c','d'])"
   ]
  },
  {
   "cell_type": "code",
   "execution_count": 94,
   "metadata": {
    "scrolled": true
   },
   "outputs": [
    {
     "data": {
      "text/plain": [
       "a    1\n",
       "b    2\n",
       "c    3\n",
       "d    4\n",
       "dtype: int64"
      ]
     },
     "execution_count": 94,
     "metadata": {},
     "output_type": "execute_result"
    }
   ],
   "source": [
    "a"
   ]
  },
  {
   "cell_type": "code",
   "execution_count": 96,
   "metadata": {},
   "outputs": [
    {
     "data": {
      "text/plain": [
       "4"
      ]
     },
     "execution_count": 96,
     "metadata": {},
     "output_type": "execute_result"
    }
   ],
   "source": [
    "a.d"
   ]
  },
  {
   "cell_type": "code",
   "execution_count": 97,
   "metadata": {},
   "outputs": [
    {
     "data": {
      "text/plain": [
       "4"
      ]
     },
     "execution_count": 97,
     "metadata": {},
     "output_type": "execute_result"
    }
   ],
   "source": [
    "a['d']"
   ]
  },
  {
   "cell_type": "code",
   "execution_count": 92,
   "metadata": {},
   "outputs": [
    {
     "data": {
      "text/plain": [
       "2014-07-04    0\n",
       "2014-08-04    1\n",
       "2015-07-04    2\n",
       "2015-08-04    3\n",
       "dtype: int64"
      ]
     },
     "execution_count": 92,
     "metadata": {},
     "output_type": "execute_result"
    }
   ],
   "source": [
    "index = pd.DatetimeIndex(['2014-07-04', '2014-08-04','2015-07-04','2015-08-04'])\n",
    "data = pd.Series([0,1,2,3], index=index)\n",
    "data"
   ]
  },
  {
   "cell_type": "code",
   "execution_count": 100,
   "metadata": {},
   "outputs": [
    {
     "data": {
      "text/plain": [
       "1"
      ]
     },
     "execution_count": 100,
     "metadata": {},
     "output_type": "execute_result"
    }
   ],
   "source": [
    "data[\"2014-08-04\"]"
   ]
  },
  {
   "cell_type": "code",
   "execution_count": 101,
   "metadata": {},
   "outputs": [
    {
     "data": {
      "text/plain": [
       "3"
      ]
     },
     "execution_count": 101,
     "metadata": {},
     "output_type": "execute_result"
    }
   ],
   "source": [
    "data.get(\"2015-08-04\")"
   ]
  },
  {
   "cell_type": "code",
   "execution_count": 103,
   "metadata": {},
   "outputs": [
    {
     "data": {
      "text/plain": [
       "2015-07-04    2\n",
       "2015-08-04    3\n",
       "dtype: int64"
      ]
     },
     "execution_count": 103,
     "metadata": {},
     "output_type": "execute_result"
    }
   ],
   "source": [
    "data[\"2015-07-04\":]"
   ]
  },
  {
   "cell_type": "code",
   "execution_count": 105,
   "metadata": {},
   "outputs": [
    {
     "data": {
      "text/plain": [
       "1"
      ]
     },
     "execution_count": 105,
     "metadata": {},
     "output_type": "execute_result"
    }
   ],
   "source": [
    "data.loc[\"2014-08-04\"]"
   ]
  },
  {
   "cell_type": "code",
   "execution_count": 106,
   "metadata": {},
   "outputs": [
    {
     "data": {
      "text/plain": [
       "2"
      ]
     },
     "execution_count": 106,
     "metadata": {},
     "output_type": "execute_result"
    }
   ],
   "source": [
    "data.iloc[2]"
   ]
  },
  {
   "cell_type": "code",
   "execution_count": 107,
   "metadata": {},
   "outputs": [
    {
     "data": {
      "text/plain": [
       "2015-07-04    2\n",
       "2015-08-04    3\n",
       "dtype: int64"
      ]
     },
     "execution_count": 107,
     "metadata": {},
     "output_type": "execute_result"
    }
   ],
   "source": [
    "data['2015']"
   ]
  },
  {
   "cell_type": "code",
   "execution_count": 110,
   "metadata": {},
   "outputs": [
    {
     "data": {
      "text/plain": [
       "2015-07-04    2\n",
       "dtype: int64"
      ]
     },
     "execution_count": 110,
     "metadata": {},
     "output_type": "execute_result"
    }
   ],
   "source": [
    "data['2015-07']"
   ]
  },
  {
   "cell_type": "code",
   "execution_count": 113,
   "metadata": {},
   "outputs": [
    {
     "data": {
      "text/plain": [
       "2"
      ]
     },
     "execution_count": 113,
     "metadata": {},
     "output_type": "execute_result"
    }
   ],
   "source": [
    "data['20150704']"
   ]
  },
  {
   "cell_type": "code",
   "execution_count": 114,
   "metadata": {},
   "outputs": [
    {
     "data": {
      "text/plain": [
       "DatetimeIndex(['2014-07-04', '2014-08-04', '2015-07-04', '2015-08-04'], dtype='datetime64[ns]', freq=None)"
      ]
     },
     "execution_count": 114,
     "metadata": {},
     "output_type": "execute_result"
    }
   ],
   "source": [
    "data.index"
   ]
  },
  {
   "cell_type": "code",
   "execution_count": 120,
   "metadata": {},
   "outputs": [],
   "source": [
    "dates = pd.to_datetime([datetime.datetime(2015,7,3),'4th of July, 2015', '2015-Jul-6', '07-07-2015', '20150708'])"
   ]
  },
  {
   "cell_type": "code",
   "execution_count": 121,
   "metadata": {},
   "outputs": [
    {
     "data": {
      "text/plain": [
       "DatetimeIndex(['2015-07-03', '2015-07-04', '2015-07-06', '2015-07-07',\n",
       "               '2015-07-08'],\n",
       "              dtype='datetime64[ns]', freq=None)"
      ]
     },
     "execution_count": 121,
     "metadata": {},
     "output_type": "execute_result"
    }
   ],
   "source": [
    "dates"
   ]
  },
  {
   "cell_type": "code",
   "execution_count": 123,
   "metadata": {},
   "outputs": [
    {
     "data": {
      "text/plain": [
       "PeriodIndex(['2015-07-03', '2015-07-04', '2015-07-06', '2015-07-07',\n",
       "             '2015-07-08'],\n",
       "            dtype='period[D]', freq='D')"
      ]
     },
     "execution_count": 123,
     "metadata": {},
     "output_type": "execute_result"
    }
   ],
   "source": [
    "dates.to_period('D')   #PeriodIndex -> 기간을 나타냄. 사칙연산 가능"
   ]
  },
  {
   "cell_type": "code",
   "execution_count": 124,
   "metadata": {},
   "outputs": [
    {
     "data": {
      "text/plain": [
       "TimedeltaIndex(['0 days', '1 days', '3 days', '4 days', '5 days'], dtype='timedelta64[ns]', freq=None)"
      ]
     },
     "execution_count": 124,
     "metadata": {},
     "output_type": "execute_result"
    }
   ],
   "source": [
    "dates - dates[0]"
   ]
  },
  {
   "cell_type": "code",
   "execution_count": 125,
   "metadata": {},
   "outputs": [
    {
     "data": {
      "text/plain": [
       "PeriodIndex(['2015-07-03 00:00', '2015-07-04 00:00', '2015-07-06 00:00',\n",
       "             '2015-07-07 00:00', '2015-07-08 00:00'],\n",
       "            dtype='period[H]', freq='H')"
      ]
     },
     "execution_count": 125,
     "metadata": {},
     "output_type": "execute_result"
    }
   ],
   "source": [
    "dates.to_period('H')"
   ]
  },
  {
   "cell_type": "code",
   "execution_count": 126,
   "metadata": {},
   "outputs": [
    {
     "data": {
      "text/plain": [
       "TimedeltaIndex(['0 days', '1 days', '3 days', '4 days', '5 days'], dtype='timedelta64[ns]', freq=None)"
      ]
     },
     "execution_count": 126,
     "metadata": {},
     "output_type": "execute_result"
    }
   ],
   "source": [
    "dates - dates[0]"
   ]
  },
  {
   "cell_type": "code",
   "execution_count": 127,
   "metadata": {},
   "outputs": [
    {
     "data": {
      "text/plain": [
       "DatetimeIndex(['2015-07-03', '2015-07-04', '2015-07-05', '2015-07-06',\n",
       "               '2015-07-07', '2015-07-08', '2015-07-09', '2015-07-10'],\n",
       "              dtype='datetime64[ns]', freq='D')"
      ]
     },
     "execution_count": 127,
     "metadata": {},
     "output_type": "execute_result"
    }
   ],
   "source": [
    "pd.date_range('2015-07-03', '20150710')"
   ]
  },
  {
   "cell_type": "code",
   "execution_count": 130,
   "metadata": {},
   "outputs": [],
   "source": [
    "import datetime"
   ]
  },
  {
   "cell_type": "code",
   "execution_count": 131,
   "metadata": {},
   "outputs": [],
   "source": [
    "date = datetime.date(year=2013, month=6, day=7)\n",
    "time = datetime.time(hour=12, minute=30, second=19, microsecond=463198)\n",
    "dt = datetime.datetime(year=2013, month=6, day=7, hour=12, minute=30, second=19, microsecond=463198)"
   ]
  },
  {
   "cell_type": "code",
   "execution_count": 133,
   "metadata": {},
   "outputs": [
    {
     "name": "stdout",
     "output_type": "stream",
     "text": [
      "date is 2013-06-07\n",
      "time is 12:30:19.463198\n",
      "datetime is 2013-06-07 12:30:19.463198\n"
     ]
    }
   ],
   "source": [
    "print('date is', date)\n",
    "print('time is', time)\n",
    "print('datetime is', dt)"
   ]
  },
  {
   "cell_type": "code",
   "execution_count": 135,
   "metadata": {},
   "outputs": [],
   "source": [
    "td = datetime.timedelta(weeks=2, days=5, hours=10, minutes=20, seconds=6.73, milliseconds=99, microseconds=8)"
   ]
  },
  {
   "cell_type": "code",
   "execution_count": 136,
   "metadata": {},
   "outputs": [
    {
     "data": {
      "text/plain": [
       "datetime.timedelta(19, 37206, 829008)"
      ]
     },
     "execution_count": 136,
     "metadata": {},
     "output_type": "execute_result"
    }
   ],
   "source": [
    "td"
   ]
  },
  {
   "cell_type": "code",
   "execution_count": 137,
   "metadata": {},
   "outputs": [
    {
     "data": {
      "text/plain": [
       "datetime.date(2013, 6, 26)"
      ]
     },
     "execution_count": 137,
     "metadata": {},
     "output_type": "execute_result"
    }
   ],
   "source": [
    "date+td"
   ]
  },
  {
   "cell_type": "code",
   "execution_count": 138,
   "metadata": {},
   "outputs": [
    {
     "data": {
      "text/plain": [
       "datetime.datetime(2013, 6, 26, 22, 50, 26, 292206)"
      ]
     },
     "execution_count": 138,
     "metadata": {},
     "output_type": "execute_result"
    }
   ],
   "source": [
    "dt+td"
   ]
  },
  {
   "cell_type": "code",
   "execution_count": 140,
   "metadata": {},
   "outputs": [],
   "source": [
    "#timestamp  : 특정 시각을 저장함"
   ]
  },
  {
   "cell_type": "code",
   "execution_count": 143,
   "metadata": {},
   "outputs": [
    {
     "data": {
      "text/plain": [
       "Timestamp('2012-12-21 05:10:08.000099')"
      ]
     },
     "execution_count": 143,
     "metadata": {},
     "output_type": "execute_result"
    }
   ],
   "source": [
    "pd.Timestamp(year=2012, month=12, day=21, hour=5, minute=10, second=8, microsecond=99)"
   ]
  },
  {
   "cell_type": "code",
   "execution_count": 144,
   "metadata": {},
   "outputs": [
    {
     "data": {
      "text/plain": [
       "Timestamp('2018-01-22 00:00:00')"
      ]
     },
     "execution_count": 144,
     "metadata": {},
     "output_type": "execute_result"
    }
   ],
   "source": [
    "pd.Timestamp('22/1/2018')"
   ]
  },
  {
   "cell_type": "code",
   "execution_count": 145,
   "metadata": {},
   "outputs": [
    {
     "data": {
      "text/plain": [
       "Timestamp('2018-07-01 00:00:00')"
      ]
     },
     "execution_count": 145,
     "metadata": {},
     "output_type": "execute_result"
    }
   ],
   "source": [
    "pd.Timestamp('7/1/2018')    #디폴트는 앞에 오는 값이 month"
   ]
  },
  {
   "cell_type": "code",
   "execution_count": 149,
   "metadata": {},
   "outputs": [
    {
     "data": {
      "text/plain": [
       "Timestamp('2015-12-11 00:00:00')"
      ]
     },
     "execution_count": 149,
     "metadata": {},
     "output_type": "execute_result"
    }
   ],
   "source": [
    "pd.Timestamp('12/11/15')"
   ]
  },
  {
   "cell_type": "code",
   "execution_count": 150,
   "metadata": {},
   "outputs": [
    {
     "data": {
      "text/plain": [
       "Timestamp('1970-01-01 00:00:00.000000500')"
      ]
     },
     "execution_count": 150,
     "metadata": {},
     "output_type": "execute_result"
    }
   ],
   "source": [
    "pd.Timestamp(500)   #시작 값"
   ]
  },
  {
   "cell_type": "code",
   "execution_count": 151,
   "metadata": {},
   "outputs": [
    {
     "data": {
      "text/plain": [
       "Timestamp('1983-09-10 00:00:00')"
      ]
     },
     "execution_count": 151,
     "metadata": {},
     "output_type": "execute_result"
    }
   ],
   "source": [
    "pd.Timestamp(5000, unit='D')"
   ]
  },
  {
   "cell_type": "code",
   "execution_count": 154,
   "metadata": {},
   "outputs": [],
   "source": [
    "s = pd.Series([10,100,1000,10000])\n",
    "b = pd.to_datetime(s,unit='D')\n",
    "a = pd.Series(b)"
   ]
  },
  {
   "cell_type": "code",
   "execution_count": 167,
   "metadata": {},
   "outputs": [
    {
     "data": {
      "text/plain": [
       "0   2015-05-12\n",
       "1   2013-01-14\n",
       "2   2017-12-20\n",
       "3          NaT\n",
       "dtype: datetime64[ns]"
      ]
     },
     "execution_count": 167,
     "metadata": {},
     "output_type": "execute_result"
    }
   ],
   "source": [
    "s = pd.Series(['12-05-2015','14-01-2013','20/12/2017','40/23/2017'])\n",
    "# pd.to_datetime(s, dayfirst=True, errors='ignore')\n",
    "pd.to_datetime(s, dayfirst=True, errors='coerce')"
   ]
  },
  {
   "cell_type": "code",
   "execution_count": 168,
   "metadata": {},
   "outputs": [
    {
     "data": {
      "text/plain": [
       "Timedelta('5 days 00:07:20.400000')"
      ]
     },
     "execution_count": 168,
     "metadata": {},
     "output_type": "execute_result"
    }
   ],
   "source": [
    "pd.Timedelta(days=5, minutes=7.34)"
   ]
  },
  {
   "cell_type": "code",
   "execution_count": 169,
   "metadata": {},
   "outputs": [
    {
     "data": {
      "text/plain": [
       "Timedelta('700 days 00:00:00')"
      ]
     },
     "execution_count": 169,
     "metadata": {},
     "output_type": "execute_result"
    }
   ],
   "source": [
    "pd.Timedelta(100, unit='W')"
   ]
  },
  {
   "cell_type": "code",
   "execution_count": 172,
   "metadata": {},
   "outputs": [
    {
     "data": {
      "text/plain": [
       "'5 dayz'"
      ]
     },
     "execution_count": 172,
     "metadata": {},
     "output_type": "execute_result"
    }
   ],
   "source": [
    "pd.to_timedelta('5 dayz', errors='ignore')"
   ]
  },
  {
   "cell_type": "code",
   "execution_count": 173,
   "metadata": {},
   "outputs": [
    {
     "data": {
      "text/plain": [
       "Timedelta('24 days 10:06:00')"
      ]
     },
     "execution_count": 173,
     "metadata": {},
     "output_type": "execute_result"
    }
   ],
   "source": [
    "pd.Timedelta('12 days 5 hours 3 minutes')*2"
   ]
  },
  {
   "cell_type": "code",
   "execution_count": 175,
   "metadata": {},
   "outputs": [
    {
     "data": {
      "text/plain": [
       "Timestamp('2017-01-25 10:06:00')"
      ]
     },
     "execution_count": 175,
     "metadata": {},
     "output_type": "execute_result"
    }
   ],
   "source": [
    "pd.Timestamp('1/1/2017')+pd.Timedelta('12 days 5 hours 3 minutes')*2"
   ]
  },
  {
   "cell_type": "code",
   "execution_count": 177,
   "metadata": {},
   "outputs": [
    {
     "data": {
      "text/plain": [
       "TimedeltaIndex(['03:00:10', '04:01:40'], dtype='timedelta64[ns]', freq=None)"
      ]
     },
     "execution_count": 177,
     "metadata": {},
     "output_type": "execute_result"
    }
   ],
   "source": [
    "td1 = pd.to_timedelta([10,100], unit='s')\n",
    "td2 = pd.to_timedelta(['3 hours', '4 hours'])\n",
    "td1 + td2"
   ]
  },
  {
   "cell_type": "code",
   "execution_count": 186,
   "metadata": {},
   "outputs": [
    {
     "data": {
      "text/plain": [
       "2.4"
      ]
     },
     "execution_count": 186,
     "metadata": {},
     "output_type": "execute_result"
    }
   ],
   "source": [
    "pd.Timedelta('12 days') / pd.Timedelta('5 days')"
   ]
  },
  {
   "cell_type": "code",
   "execution_count": 187,
   "metadata": {},
   "outputs": [],
   "source": [
    "ts = pd.Timestamp('2016-10-1 4:23:23.9')"
   ]
  },
  {
   "cell_type": "code",
   "execution_count": 206,
   "metadata": {},
   "outputs": [
    {
     "data": {
      "text/plain": [
       "Timestamp('2016-10-01 04:23:23.900000')"
      ]
     },
     "execution_count": 206,
     "metadata": {},
     "output_type": "execute_result"
    }
   ],
   "source": [
    "ts"
   ]
  },
  {
   "cell_type": "code",
   "execution_count": 204,
   "metadata": {},
   "outputs": [
    {
     "data": {
      "text/plain": [
       "pandas._libs.tslibs.timestamps.Timestamp"
      ]
     },
     "execution_count": 204,
     "metadata": {},
     "output_type": "execute_result"
    }
   ],
   "source": [
    "type(ts)"
   ]
  },
  {
   "cell_type": "code",
   "execution_count": 189,
   "metadata": {},
   "outputs": [
    {
     "data": {
      "text/plain": [
       "Timestamp('2016-10-01 05:00:00')"
      ]
     },
     "execution_count": 189,
     "metadata": {},
     "output_type": "execute_result"
    }
   ],
   "source": [
    "ts.ceil('h')   #올림"
   ]
  },
  {
   "cell_type": "code",
   "execution_count": 192,
   "metadata": {},
   "outputs": [
    {
     "data": {
      "text/plain": [
       "(2016, 10, 1, 4, 23, 23)"
      ]
     },
     "execution_count": 192,
     "metadata": {},
     "output_type": "execute_result"
    }
   ],
   "source": [
    "ts.year, ts.month, ts.day, ts.hour, ts.minute, ts.second"
   ]
  },
  {
   "cell_type": "code",
   "execution_count": 196,
   "metadata": {},
   "outputs": [
    {
     "data": {
      "text/plain": [
       "Timestamp('2016-10-01 04:23:23')"
      ]
     },
     "execution_count": 196,
     "metadata": {},
     "output_type": "execute_result"
    }
   ],
   "source": [
    "ts.floor('s')"
   ]
  },
  {
   "cell_type": "code",
   "execution_count": 199,
   "metadata": {},
   "outputs": [
    {
     "data": {
      "text/html": [
       "<div>\n",
       "<style scoped>\n",
       "    .dataframe tbody tr th:only-of-type {\n",
       "        vertical-align: middle;\n",
       "    }\n",
       "\n",
       "    .dataframe tbody tr th {\n",
       "        vertical-align: top;\n",
       "    }\n",
       "\n",
       "    .dataframe thead th {\n",
       "        text-align: right;\n",
       "    }\n",
       "</style>\n",
       "<table border=\"1\" class=\"dataframe\">\n",
       "  <thead>\n",
       "    <tr style=\"text-align: right;\">\n",
       "      <th></th>\n",
       "      <th>days</th>\n",
       "      <th>hours</th>\n",
       "      <th>minutes</th>\n",
       "      <th>seconds</th>\n",
       "      <th>milliseconds</th>\n",
       "      <th>microseconds</th>\n",
       "      <th>nanoseconds</th>\n",
       "    </tr>\n",
       "  </thead>\n",
       "  <tbody>\n",
       "    <tr>\n",
       "      <th>0</th>\n",
       "      <td>0</td>\n",
       "      <td>0</td>\n",
       "      <td>0</td>\n",
       "      <td>10</td>\n",
       "      <td>0</td>\n",
       "      <td>0</td>\n",
       "      <td>0</td>\n",
       "    </tr>\n",
       "    <tr>\n",
       "      <th>1</th>\n",
       "      <td>0</td>\n",
       "      <td>0</td>\n",
       "      <td>1</td>\n",
       "      <td>40</td>\n",
       "      <td>0</td>\n",
       "      <td>0</td>\n",
       "      <td>0</td>\n",
       "    </tr>\n",
       "  </tbody>\n",
       "</table>\n",
       "</div>"
      ],
      "text/plain": [
       "   days  hours  minutes  seconds  milliseconds  microseconds  nanoseconds\n",
       "0     0      0        0       10             0             0            0\n",
       "1     0      0        1       40             0             0            0"
      ]
     },
     "execution_count": 199,
     "metadata": {},
     "output_type": "execute_result"
    }
   ],
   "source": [
    "td1.components"
   ]
  },
  {
   "cell_type": "code",
   "execution_count": 200,
   "metadata": {},
   "outputs": [
    {
     "data": {
      "text/plain": [
       "Float64Index([10.0, 100.0], dtype='float64')"
      ]
     },
     "execution_count": 200,
     "metadata": {},
     "output_type": "execute_result"
    }
   ],
   "source": [
    "td1.total_seconds()"
   ]
  },
  {
   "cell_type": "code",
   "execution_count": 201,
   "metadata": {},
   "outputs": [],
   "source": [
    "date_string_list = ['Sep 30 1984']*10000"
   ]
  },
  {
   "cell_type": "code",
   "execution_count": 202,
   "metadata": {},
   "outputs": [
    {
     "name": "stdout",
     "output_type": "stream",
     "text": [
      "40.9 ms ± 2.88 ms per loop (mean ± std. dev. of 7 runs, 10 loops each)\n"
     ]
    }
   ],
   "source": [
    "%timeit pd.to_datetime(date_string_list, format='%b %d %Y')"
   ]
  },
  {
   "cell_type": "code",
   "execution_count": 203,
   "metadata": {},
   "outputs": [
    {
     "name": "stdout",
     "output_type": "stream",
     "text": [
      "1.3 s ± 11.6 ms per loop (mean ± std. dev. of 7 runs, 1 loop each)\n"
     ]
    }
   ],
   "source": [
    "%timeit pd.to_datetime(date_string_list)"
   ]
  },
  {
   "cell_type": "code",
   "execution_count": 2,
   "metadata": {},
   "outputs": [],
   "source": [
    "crime = pd.read_hdf('data/crime.h5')   #계층화된 데이터"
   ]
  },
  {
   "cell_type": "code",
   "execution_count": 211,
   "metadata": {
    "scrolled": true
   },
   "outputs": [
    {
     "data": {
      "text/html": [
       "<div>\n",
       "<style scoped>\n",
       "    .dataframe tbody tr th:only-of-type {\n",
       "        vertical-align: middle;\n",
       "    }\n",
       "\n",
       "    .dataframe tbody tr th {\n",
       "        vertical-align: top;\n",
       "    }\n",
       "\n",
       "    .dataframe thead th {\n",
       "        text-align: right;\n",
       "    }\n",
       "</style>\n",
       "<table border=\"1\" class=\"dataframe\">\n",
       "  <thead>\n",
       "    <tr style=\"text-align: right;\">\n",
       "      <th></th>\n",
       "      <th>OFFENSE_TYPE_ID</th>\n",
       "      <th>OFFENSE_CATEGORY_ID</th>\n",
       "      <th>REPORTED_DATE</th>\n",
       "      <th>GEO_LON</th>\n",
       "      <th>GEO_LAT</th>\n",
       "      <th>NEIGHBORHOOD_ID</th>\n",
       "      <th>IS_CRIME</th>\n",
       "      <th>IS_TRAFFIC</th>\n",
       "    </tr>\n",
       "  </thead>\n",
       "  <tbody>\n",
       "    <tr>\n",
       "      <th>0</th>\n",
       "      <td>traffic-accident-dui-duid</td>\n",
       "      <td>traffic-accident</td>\n",
       "      <td>2014-06-29 02:01:00</td>\n",
       "      <td>-105.000149</td>\n",
       "      <td>39.745753</td>\n",
       "      <td>cbd</td>\n",
       "      <td>0</td>\n",
       "      <td>1</td>\n",
       "    </tr>\n",
       "    <tr>\n",
       "      <th>1</th>\n",
       "      <td>vehicular-eluding-no-chase</td>\n",
       "      <td>all-other-crimes</td>\n",
       "      <td>2014-06-29 01:54:00</td>\n",
       "      <td>-104.884660</td>\n",
       "      <td>39.738702</td>\n",
       "      <td>east-colfax</td>\n",
       "      <td>1</td>\n",
       "      <td>0</td>\n",
       "    </tr>\n",
       "    <tr>\n",
       "      <th>2</th>\n",
       "      <td>disturbing-the-peace</td>\n",
       "      <td>public-disorder</td>\n",
       "      <td>2014-06-29 02:00:00</td>\n",
       "      <td>-105.020719</td>\n",
       "      <td>39.706674</td>\n",
       "      <td>athmar-park</td>\n",
       "      <td>1</td>\n",
       "      <td>0</td>\n",
       "    </tr>\n",
       "    <tr>\n",
       "      <th>3</th>\n",
       "      <td>curfew</td>\n",
       "      <td>public-disorder</td>\n",
       "      <td>2014-06-29 02:18:00</td>\n",
       "      <td>-105.001552</td>\n",
       "      <td>39.769505</td>\n",
       "      <td>sunnyside</td>\n",
       "      <td>1</td>\n",
       "      <td>0</td>\n",
       "    </tr>\n",
       "    <tr>\n",
       "      <th>4</th>\n",
       "      <td>aggravated-assault</td>\n",
       "      <td>aggravated-assault</td>\n",
       "      <td>2014-06-29 04:17:00</td>\n",
       "      <td>-105.018557</td>\n",
       "      <td>39.679229</td>\n",
       "      <td>college-view-south-platte</td>\n",
       "      <td>1</td>\n",
       "      <td>0</td>\n",
       "    </tr>\n",
       "    <tr>\n",
       "      <th>5</th>\n",
       "      <td>violation-of-restraining-order</td>\n",
       "      <td>all-other-crimes</td>\n",
       "      <td>2014-06-29 04:22:00</td>\n",
       "      <td>-104.972447</td>\n",
       "      <td>39.739449</td>\n",
       "      <td>cheesman-park</td>\n",
       "      <td>1</td>\n",
       "      <td>0</td>\n",
       "    </tr>\n",
       "    <tr>\n",
       "      <th>6</th>\n",
       "      <td>traffic-accident-dui-duid</td>\n",
       "      <td>traffic-accident</td>\n",
       "      <td>2014-06-29 02:56:00</td>\n",
       "      <td>-105.052956</td>\n",
       "      <td>39.733315</td>\n",
       "      <td>villa-park</td>\n",
       "      <td>0</td>\n",
       "      <td>1</td>\n",
       "    </tr>\n",
       "    <tr>\n",
       "      <th>7</th>\n",
       "      <td>assault-dv</td>\n",
       "      <td>other-crimes-against-persons</td>\n",
       "      <td>2014-06-29 04:54:00</td>\n",
       "      <td>-104.994621</td>\n",
       "      <td>39.746857</td>\n",
       "      <td>cbd</td>\n",
       "      <td>1</td>\n",
       "      <td>0</td>\n",
       "    </tr>\n",
       "    <tr>\n",
       "      <th>8</th>\n",
       "      <td>criminal-mischief-mtr-veh</td>\n",
       "      <td>public-disorder</td>\n",
       "      <td>2014-01-20 08:29:00</td>\n",
       "      <td>-104.977522</td>\n",
       "      <td>39.781310</td>\n",
       "      <td>globeville</td>\n",
       "      <td>1</td>\n",
       "      <td>0</td>\n",
       "    </tr>\n",
       "    <tr>\n",
       "      <th>9</th>\n",
       "      <td>criminal-trespassing</td>\n",
       "      <td>all-other-crimes</td>\n",
       "      <td>2014-06-29 03:56:00</td>\n",
       "      <td>-104.956140</td>\n",
       "      <td>39.741610</td>\n",
       "      <td>city-park</td>\n",
       "      <td>1</td>\n",
       "      <td>0</td>\n",
       "    </tr>\n",
       "    <tr>\n",
       "      <th>10</th>\n",
       "      <td>traffic-accident-hit-and-run</td>\n",
       "      <td>traffic-accident</td>\n",
       "      <td>2014-06-29 03:42:00</td>\n",
       "      <td>-105.025065</td>\n",
       "      <td>39.693108</td>\n",
       "      <td>mar-lee</td>\n",
       "      <td>0</td>\n",
       "      <td>1</td>\n",
       "    </tr>\n",
       "    <tr>\n",
       "      <th>11</th>\n",
       "      <td>traffic-accident</td>\n",
       "      <td>traffic-accident</td>\n",
       "      <td>2013-01-21 11:58:00</td>\n",
       "      <td>-105.025061</td>\n",
       "      <td>39.696746</td>\n",
       "      <td>mar-lee</td>\n",
       "      <td>0</td>\n",
       "      <td>1</td>\n",
       "    </tr>\n",
       "    <tr>\n",
       "      <th>12</th>\n",
       "      <td>theft-from-bldg</td>\n",
       "      <td>larceny</td>\n",
       "      <td>2013-01-24 13:49:00</td>\n",
       "      <td>-104.934536</td>\n",
       "      <td>39.731625</td>\n",
       "      <td>hale</td>\n",
       "      <td>1</td>\n",
       "      <td>0</td>\n",
       "    </tr>\n",
       "    <tr>\n",
       "      <th>13</th>\n",
       "      <td>theft-parts-from-vehicle</td>\n",
       "      <td>theft-from-motor-vehicle</td>\n",
       "      <td>2013-07-29 10:50:00</td>\n",
       "      <td>-104.922385</td>\n",
       "      <td>39.777607</td>\n",
       "      <td>northeast-park-hill</td>\n",
       "      <td>1</td>\n",
       "      <td>0</td>\n",
       "    </tr>\n",
       "    <tr>\n",
       "      <th>14</th>\n",
       "      <td>burglary-residence-no-force</td>\n",
       "      <td>burglary</td>\n",
       "      <td>2013-03-12 19:52:00</td>\n",
       "      <td>-104.929717</td>\n",
       "      <td>39.759760</td>\n",
       "      <td>north-park-hill</td>\n",
       "      <td>1</td>\n",
       "      <td>0</td>\n",
       "    </tr>\n",
       "    <tr>\n",
       "      <th>15</th>\n",
       "      <td>traffic-accident-hit-and-run</td>\n",
       "      <td>traffic-accident</td>\n",
       "      <td>2013-07-02 08:45:00</td>\n",
       "      <td>-104.931289</td>\n",
       "      <td>39.678216</td>\n",
       "      <td>goldsmith</td>\n",
       "      <td>0</td>\n",
       "      <td>1</td>\n",
       "    </tr>\n",
       "    <tr>\n",
       "      <th>16</th>\n",
       "      <td>drug-methampetamine-possess</td>\n",
       "      <td>drug-alcohol</td>\n",
       "      <td>2012-02-15 08:18:00</td>\n",
       "      <td>-104.902747</td>\n",
       "      <td>39.761965</td>\n",
       "      <td>stapleton</td>\n",
       "      <td>1</td>\n",
       "      <td>0</td>\n",
       "    </tr>\n",
       "    <tr>\n",
       "      <th>17</th>\n",
       "      <td>theft-other</td>\n",
       "      <td>larceny</td>\n",
       "      <td>2012-02-27 15:23:00</td>\n",
       "      <td>-104.958944</td>\n",
       "      <td>39.724311</td>\n",
       "      <td>cherry-creek</td>\n",
       "      <td>1</td>\n",
       "      <td>0</td>\n",
       "    </tr>\n",
       "    <tr>\n",
       "      <th>18</th>\n",
       "      <td>burglary-residence-by-force</td>\n",
       "      <td>burglary</td>\n",
       "      <td>2012-02-27 19:28:00</td>\n",
       "      <td>-104.911220</td>\n",
       "      <td>39.697516</td>\n",
       "      <td>washington-virginia-vale</td>\n",
       "      <td>1</td>\n",
       "      <td>0</td>\n",
       "    </tr>\n",
       "    <tr>\n",
       "      <th>19</th>\n",
       "      <td>assault-dv</td>\n",
       "      <td>other-crimes-against-persons</td>\n",
       "      <td>2013-07-05 03:48:00</td>\n",
       "      <td>-104.976148</td>\n",
       "      <td>39.737660</td>\n",
       "      <td>capitol-hill</td>\n",
       "      <td>1</td>\n",
       "      <td>0</td>\n",
       "    </tr>\n",
       "    <tr>\n",
       "      <th>20</th>\n",
       "      <td>assault-dv</td>\n",
       "      <td>other-crimes-against-persons</td>\n",
       "      <td>2013-07-20 04:54:00</td>\n",
       "      <td>-104.956199</td>\n",
       "      <td>39.767945</td>\n",
       "      <td>clayton</td>\n",
       "      <td>1</td>\n",
       "      <td>0</td>\n",
       "    </tr>\n",
       "    <tr>\n",
       "      <th>21</th>\n",
       "      <td>traffic-accident-hit-and-run</td>\n",
       "      <td>traffic-accident</td>\n",
       "      <td>2012-02-04 21:23:00</td>\n",
       "      <td>-105.013966</td>\n",
       "      <td>39.740435</td>\n",
       "      <td>lincoln-park</td>\n",
       "      <td>0</td>\n",
       "      <td>1</td>\n",
       "    </tr>\n",
       "    <tr>\n",
       "      <th>22</th>\n",
       "      <td>theft-other</td>\n",
       "      <td>larceny</td>\n",
       "      <td>2012-09-27 17:15:00</td>\n",
       "      <td>-104.961986</td>\n",
       "      <td>39.678561</td>\n",
       "      <td>university</td>\n",
       "      <td>1</td>\n",
       "      <td>0</td>\n",
       "    </tr>\n",
       "    <tr>\n",
       "      <th>23</th>\n",
       "      <td>traffic-accident</td>\n",
       "      <td>traffic-accident</td>\n",
       "      <td>2012-08-06 15:15:00</td>\n",
       "      <td>-104.940404</td>\n",
       "      <td>39.688629</td>\n",
       "      <td>virginia-village</td>\n",
       "      <td>0</td>\n",
       "      <td>1</td>\n",
       "    </tr>\n",
       "    <tr>\n",
       "      <th>24</th>\n",
       "      <td>traffic-accident</td>\n",
       "      <td>traffic-accident</td>\n",
       "      <td>2013-04-03 19:59:00</td>\n",
       "      <td>-105.053241</td>\n",
       "      <td>39.758465</td>\n",
       "      <td>sloan-lake</td>\n",
       "      <td>0</td>\n",
       "      <td>1</td>\n",
       "    </tr>\n",
       "    <tr>\n",
       "      <th>25</th>\n",
       "      <td>traffic-accident-hit-and-run</td>\n",
       "      <td>traffic-accident</td>\n",
       "      <td>2013-11-20 19:31:00</td>\n",
       "      <td>-104.958970</td>\n",
       "      <td>39.679977</td>\n",
       "      <td>university-park</td>\n",
       "      <td>0</td>\n",
       "      <td>1</td>\n",
       "    </tr>\n",
       "    <tr>\n",
       "      <th>26</th>\n",
       "      <td>criminal-mischief-mtr-veh</td>\n",
       "      <td>public-disorder</td>\n",
       "      <td>2013-02-12 11:21:00</td>\n",
       "      <td>-104.996317</td>\n",
       "      <td>39.675251</td>\n",
       "      <td>overland</td>\n",
       "      <td>1</td>\n",
       "      <td>0</td>\n",
       "    </tr>\n",
       "    <tr>\n",
       "      <th>27</th>\n",
       "      <td>burglary-residence-by-force</td>\n",
       "      <td>burglary</td>\n",
       "      <td>2013-11-20 20:59:00</td>\n",
       "      <td>-104.907899</td>\n",
       "      <td>39.648909</td>\n",
       "      <td>hampden-south</td>\n",
       "      <td>1</td>\n",
       "      <td>0</td>\n",
       "    </tr>\n",
       "    <tr>\n",
       "      <th>28</th>\n",
       "      <td>traffic-accident</td>\n",
       "      <td>traffic-accident</td>\n",
       "      <td>2013-11-20 21:39:00</td>\n",
       "      <td>-104.968463</td>\n",
       "      <td>39.740011</td>\n",
       "      <td>cheesman-park</td>\n",
       "      <td>0</td>\n",
       "      <td>1</td>\n",
       "    </tr>\n",
       "    <tr>\n",
       "      <th>29</th>\n",
       "      <td>theft-shoplift</td>\n",
       "      <td>larceny</td>\n",
       "      <td>2013-11-20 22:05:00</td>\n",
       "      <td>-104.895340</td>\n",
       "      <td>39.783977</td>\n",
       "      <td>stapleton</td>\n",
       "      <td>1</td>\n",
       "      <td>0</td>\n",
       "    </tr>\n",
       "    <tr>\n",
       "      <th>...</th>\n",
       "      <td>...</td>\n",
       "      <td>...</td>\n",
       "      <td>...</td>\n",
       "      <td>...</td>\n",
       "      <td>...</td>\n",
       "      <td>...</td>\n",
       "      <td>...</td>\n",
       "      <td>...</td>\n",
       "    </tr>\n",
       "    <tr>\n",
       "      <th>460881</th>\n",
       "      <td>theft-items-from-vehicle</td>\n",
       "      <td>theft-from-motor-vehicle</td>\n",
       "      <td>2017-09-12 09:34:00</td>\n",
       "      <td>-104.897894</td>\n",
       "      <td>39.744228</td>\n",
       "      <td>east-colfax</td>\n",
       "      <td>1</td>\n",
       "      <td>0</td>\n",
       "    </tr>\n",
       "    <tr>\n",
       "      <th>460882</th>\n",
       "      <td>traffic-accident</td>\n",
       "      <td>traffic-accident</td>\n",
       "      <td>2017-09-12 16:07:00</td>\n",
       "      <td>-105.014148</td>\n",
       "      <td>39.740329</td>\n",
       "      <td>lincoln-park</td>\n",
       "      <td>0</td>\n",
       "      <td>1</td>\n",
       "    </tr>\n",
       "    <tr>\n",
       "      <th>460883</th>\n",
       "      <td>traffic-accident</td>\n",
       "      <td>traffic-accident</td>\n",
       "      <td>2017-09-12 17:48:00</td>\n",
       "      <td>-104.903440</td>\n",
       "      <td>39.748629</td>\n",
       "      <td>south-park-hill</td>\n",
       "      <td>0</td>\n",
       "      <td>1</td>\n",
       "    </tr>\n",
       "    <tr>\n",
       "      <th>460884</th>\n",
       "      <td>criminal-mischief-graffiti</td>\n",
       "      <td>public-disorder</td>\n",
       "      <td>2017-09-12 18:22:00</td>\n",
       "      <td>-104.940295</td>\n",
       "      <td>39.725986</td>\n",
       "      <td>hale</td>\n",
       "      <td>1</td>\n",
       "      <td>0</td>\n",
       "    </tr>\n",
       "    <tr>\n",
       "      <th>460885</th>\n",
       "      <td>theft-shoplift</td>\n",
       "      <td>larceny</td>\n",
       "      <td>2017-09-12 15:24:00</td>\n",
       "      <td>-104.966873</td>\n",
       "      <td>39.739680</td>\n",
       "      <td>cheesman-park</td>\n",
       "      <td>1</td>\n",
       "      <td>0</td>\n",
       "    </tr>\n",
       "    <tr>\n",
       "      <th>460886</th>\n",
       "      <td>traffic-accident</td>\n",
       "      <td>traffic-accident</td>\n",
       "      <td>2017-09-12 09:07:00</td>\n",
       "      <td>-104.924021</td>\n",
       "      <td>39.738229</td>\n",
       "      <td>hale</td>\n",
       "      <td>0</td>\n",
       "      <td>1</td>\n",
       "    </tr>\n",
       "    <tr>\n",
       "      <th>460887</th>\n",
       "      <td>traffic-accident</td>\n",
       "      <td>traffic-accident</td>\n",
       "      <td>2017-09-12 17:42:00</td>\n",
       "      <td>-104.912874</td>\n",
       "      <td>39.667630</td>\n",
       "      <td>hampden</td>\n",
       "      <td>0</td>\n",
       "      <td>1</td>\n",
       "    </tr>\n",
       "    <tr>\n",
       "      <th>460888</th>\n",
       "      <td>theft-items-from-vehicle</td>\n",
       "      <td>theft-from-motor-vehicle</td>\n",
       "      <td>2017-09-12 09:07:00</td>\n",
       "      <td>-104.981910</td>\n",
       "      <td>39.731684</td>\n",
       "      <td>capitol-hill</td>\n",
       "      <td>1</td>\n",
       "      <td>0</td>\n",
       "    </tr>\n",
       "    <tr>\n",
       "      <th>460889</th>\n",
       "      <td>traffic-accident-hit-and-run</td>\n",
       "      <td>traffic-accident</td>\n",
       "      <td>2017-09-13 02:15:00</td>\n",
       "      <td>-105.043950</td>\n",
       "      <td>39.787436</td>\n",
       "      <td>regis</td>\n",
       "      <td>0</td>\n",
       "      <td>1</td>\n",
       "    </tr>\n",
       "    <tr>\n",
       "      <th>460890</th>\n",
       "      <td>traffic-accident</td>\n",
       "      <td>traffic-accident</td>\n",
       "      <td>2017-09-12 12:48:00</td>\n",
       "      <td>-104.948729</td>\n",
       "      <td>39.781464</td>\n",
       "      <td>elyria-swansea</td>\n",
       "      <td>0</td>\n",
       "      <td>1</td>\n",
       "    </tr>\n",
       "    <tr>\n",
       "      <th>460891</th>\n",
       "      <td>theft-of-motor-vehicle</td>\n",
       "      <td>auto-theft</td>\n",
       "      <td>2017-09-12 16:01:00</td>\n",
       "      <td>-105.003384</td>\n",
       "      <td>39.753390</td>\n",
       "      <td>union-station</td>\n",
       "      <td>1</td>\n",
       "      <td>0</td>\n",
       "    </tr>\n",
       "    <tr>\n",
       "      <th>460892</th>\n",
       "      <td>burglary-residence-no-force</td>\n",
       "      <td>burglary</td>\n",
       "      <td>2017-09-12 11:30:00</td>\n",
       "      <td>-104.991293</td>\n",
       "      <td>39.733622</td>\n",
       "      <td>civic-center</td>\n",
       "      <td>1</td>\n",
       "      <td>0</td>\n",
       "    </tr>\n",
       "    <tr>\n",
       "      <th>460893</th>\n",
       "      <td>theft-bicycle</td>\n",
       "      <td>larceny</td>\n",
       "      <td>2017-09-12 19:53:00</td>\n",
       "      <td>-104.977033</td>\n",
       "      <td>39.737631</td>\n",
       "      <td>capitol-hill</td>\n",
       "      <td>1</td>\n",
       "      <td>0</td>\n",
       "    </tr>\n",
       "    <tr>\n",
       "      <th>460894</th>\n",
       "      <td>burglary-business-by-force</td>\n",
       "      <td>burglary</td>\n",
       "      <td>2017-09-12 13:40:00</td>\n",
       "      <td>-105.010854</td>\n",
       "      <td>39.765525</td>\n",
       "      <td>highland</td>\n",
       "      <td>1</td>\n",
       "      <td>0</td>\n",
       "    </tr>\n",
       "    <tr>\n",
       "      <th>460895</th>\n",
       "      <td>assault-simple</td>\n",
       "      <td>other-crimes-against-persons</td>\n",
       "      <td>2017-09-12 21:19:00</td>\n",
       "      <td>-104.975529</td>\n",
       "      <td>39.733827</td>\n",
       "      <td>capitol-hill</td>\n",
       "      <td>1</td>\n",
       "      <td>0</td>\n",
       "    </tr>\n",
       "    <tr>\n",
       "      <th>460896</th>\n",
       "      <td>traffic-accident-hit-and-run</td>\n",
       "      <td>traffic-accident</td>\n",
       "      <td>2017-09-12 11:24:00</td>\n",
       "      <td>-105.053194</td>\n",
       "      <td>39.693174</td>\n",
       "      <td>mar-lee</td>\n",
       "      <td>0</td>\n",
       "      <td>1</td>\n",
       "    </tr>\n",
       "    <tr>\n",
       "      <th>460897</th>\n",
       "      <td>theft-items-from-vehicle</td>\n",
       "      <td>theft-from-motor-vehicle</td>\n",
       "      <td>2017-09-08 09:41:00</td>\n",
       "      <td>-105.006535</td>\n",
       "      <td>39.753952</td>\n",
       "      <td>union-station</td>\n",
       "      <td>1</td>\n",
       "      <td>0</td>\n",
       "    </tr>\n",
       "    <tr>\n",
       "      <th>460898</th>\n",
       "      <td>aggravated-assault-dv</td>\n",
       "      <td>aggravated-assault</td>\n",
       "      <td>2017-09-09 20:15:00</td>\n",
       "      <td>-105.030930</td>\n",
       "      <td>39.706092</td>\n",
       "      <td>westwood</td>\n",
       "      <td>1</td>\n",
       "      <td>0</td>\n",
       "    </tr>\n",
       "    <tr>\n",
       "      <th>460899</th>\n",
       "      <td>traffic-accident</td>\n",
       "      <td>traffic-accident</td>\n",
       "      <td>2017-09-12 18:38:00</td>\n",
       "      <td>-105.052178</td>\n",
       "      <td>39.654827</td>\n",
       "      <td>harvey-park-south</td>\n",
       "      <td>0</td>\n",
       "      <td>1</td>\n",
       "    </tr>\n",
       "    <tr>\n",
       "      <th>460900</th>\n",
       "      <td>traffic-accident</td>\n",
       "      <td>traffic-accident</td>\n",
       "      <td>2017-09-12 17:47:00</td>\n",
       "      <td>-104.912437</td>\n",
       "      <td>39.754714</td>\n",
       "      <td>north-park-hill</td>\n",
       "      <td>0</td>\n",
       "      <td>1</td>\n",
       "    </tr>\n",
       "    <tr>\n",
       "      <th>460901</th>\n",
       "      <td>theft-of-motor-vehicle</td>\n",
       "      <td>auto-theft</td>\n",
       "      <td>2017-09-12 13:40:00</td>\n",
       "      <td>-104.897151</td>\n",
       "      <td>39.726858</td>\n",
       "      <td>lowry-field</td>\n",
       "      <td>1</td>\n",
       "      <td>0</td>\n",
       "    </tr>\n",
       "    <tr>\n",
       "      <th>460902</th>\n",
       "      <td>traffic-accident-hit-and-run</td>\n",
       "      <td>traffic-accident</td>\n",
       "      <td>2017-09-12 18:13:00</td>\n",
       "      <td>-104.986103</td>\n",
       "      <td>39.739255</td>\n",
       "      <td>capitol-hill</td>\n",
       "      <td>0</td>\n",
       "      <td>1</td>\n",
       "    </tr>\n",
       "    <tr>\n",
       "      <th>460903</th>\n",
       "      <td>criminal-mischief-other</td>\n",
       "      <td>public-disorder</td>\n",
       "      <td>2017-09-13 01:12:00</td>\n",
       "      <td>-104.993574</td>\n",
       "      <td>39.739773</td>\n",
       "      <td>civic-center</td>\n",
       "      <td>1</td>\n",
       "      <td>0</td>\n",
       "    </tr>\n",
       "    <tr>\n",
       "      <th>460904</th>\n",
       "      <td>public-peace-other</td>\n",
       "      <td>public-disorder</td>\n",
       "      <td>2017-09-12 15:33:00</td>\n",
       "      <td>-104.977033</td>\n",
       "      <td>39.737631</td>\n",
       "      <td>capitol-hill</td>\n",
       "      <td>1</td>\n",
       "      <td>0</td>\n",
       "    </tr>\n",
       "    <tr>\n",
       "      <th>460905</th>\n",
       "      <td>forgery-poss-of-forged-inst</td>\n",
       "      <td>white-collar-crime</td>\n",
       "      <td>2017-09-12 14:00:00</td>\n",
       "      <td>-104.991137</td>\n",
       "      <td>39.785432</td>\n",
       "      <td>globeville</td>\n",
       "      <td>1</td>\n",
       "      <td>0</td>\n",
       "    </tr>\n",
       "    <tr>\n",
       "      <th>460906</th>\n",
       "      <td>burglary-business-by-force</td>\n",
       "      <td>burglary</td>\n",
       "      <td>2017-09-13 05:48:00</td>\n",
       "      <td>-105.033840</td>\n",
       "      <td>39.762365</td>\n",
       "      <td>west-highland</td>\n",
       "      <td>1</td>\n",
       "      <td>0</td>\n",
       "    </tr>\n",
       "    <tr>\n",
       "      <th>460907</th>\n",
       "      <td>weapon-unlawful-discharge-of</td>\n",
       "      <td>all-other-crimes</td>\n",
       "      <td>2017-09-12 20:37:00</td>\n",
       "      <td>-105.040313</td>\n",
       "      <td>39.721264</td>\n",
       "      <td>barnum-west</td>\n",
       "      <td>1</td>\n",
       "      <td>0</td>\n",
       "    </tr>\n",
       "    <tr>\n",
       "      <th>460908</th>\n",
       "      <td>traf-habitual-offender</td>\n",
       "      <td>all-other-crimes</td>\n",
       "      <td>2017-09-12 16:32:00</td>\n",
       "      <td>-104.847024</td>\n",
       "      <td>39.779596</td>\n",
       "      <td>montbello</td>\n",
       "      <td>1</td>\n",
       "      <td>0</td>\n",
       "    </tr>\n",
       "    <tr>\n",
       "      <th>460909</th>\n",
       "      <td>criminal-mischief-other</td>\n",
       "      <td>public-disorder</td>\n",
       "      <td>2017-09-12 13:04:00</td>\n",
       "      <td>-104.949183</td>\n",
       "      <td>39.756353</td>\n",
       "      <td>skyland</td>\n",
       "      <td>1</td>\n",
       "      <td>0</td>\n",
       "    </tr>\n",
       "    <tr>\n",
       "      <th>460910</th>\n",
       "      <td>theft-other</td>\n",
       "      <td>larceny</td>\n",
       "      <td>2017-09-12 09:30:00</td>\n",
       "      <td>-104.985739</td>\n",
       "      <td>39.735045</td>\n",
       "      <td>capitol-hill</td>\n",
       "      <td>1</td>\n",
       "      <td>0</td>\n",
       "    </tr>\n",
       "  </tbody>\n",
       "</table>\n",
       "<p>460911 rows × 8 columns</p>\n",
       "</div>"
      ],
      "text/plain": [
       "                       OFFENSE_TYPE_ID           OFFENSE_CATEGORY_ID  \\\n",
       "0            traffic-accident-dui-duid              traffic-accident   \n",
       "1           vehicular-eluding-no-chase              all-other-crimes   \n",
       "2                 disturbing-the-peace               public-disorder   \n",
       "3                               curfew               public-disorder   \n",
       "4                   aggravated-assault            aggravated-assault   \n",
       "5       violation-of-restraining-order              all-other-crimes   \n",
       "6            traffic-accident-dui-duid              traffic-accident   \n",
       "7                           assault-dv  other-crimes-against-persons   \n",
       "8            criminal-mischief-mtr-veh               public-disorder   \n",
       "9                 criminal-trespassing              all-other-crimes   \n",
       "10        traffic-accident-hit-and-run              traffic-accident   \n",
       "11                    traffic-accident              traffic-accident   \n",
       "12                     theft-from-bldg                       larceny   \n",
       "13            theft-parts-from-vehicle      theft-from-motor-vehicle   \n",
       "14         burglary-residence-no-force                      burglary   \n",
       "15        traffic-accident-hit-and-run              traffic-accident   \n",
       "16         drug-methampetamine-possess                  drug-alcohol   \n",
       "17                         theft-other                       larceny   \n",
       "18         burglary-residence-by-force                      burglary   \n",
       "19                          assault-dv  other-crimes-against-persons   \n",
       "20                          assault-dv  other-crimes-against-persons   \n",
       "21        traffic-accident-hit-and-run              traffic-accident   \n",
       "22                         theft-other                       larceny   \n",
       "23                    traffic-accident              traffic-accident   \n",
       "24                    traffic-accident              traffic-accident   \n",
       "25        traffic-accident-hit-and-run              traffic-accident   \n",
       "26           criminal-mischief-mtr-veh               public-disorder   \n",
       "27         burglary-residence-by-force                      burglary   \n",
       "28                    traffic-accident              traffic-accident   \n",
       "29                      theft-shoplift                       larceny   \n",
       "...                                ...                           ...   \n",
       "460881        theft-items-from-vehicle      theft-from-motor-vehicle   \n",
       "460882                traffic-accident              traffic-accident   \n",
       "460883                traffic-accident              traffic-accident   \n",
       "460884      criminal-mischief-graffiti               public-disorder   \n",
       "460885                  theft-shoplift                       larceny   \n",
       "460886                traffic-accident              traffic-accident   \n",
       "460887                traffic-accident              traffic-accident   \n",
       "460888        theft-items-from-vehicle      theft-from-motor-vehicle   \n",
       "460889    traffic-accident-hit-and-run              traffic-accident   \n",
       "460890                traffic-accident              traffic-accident   \n",
       "460891          theft-of-motor-vehicle                    auto-theft   \n",
       "460892     burglary-residence-no-force                      burglary   \n",
       "460893                   theft-bicycle                       larceny   \n",
       "460894      burglary-business-by-force                      burglary   \n",
       "460895                  assault-simple  other-crimes-against-persons   \n",
       "460896    traffic-accident-hit-and-run              traffic-accident   \n",
       "460897        theft-items-from-vehicle      theft-from-motor-vehicle   \n",
       "460898           aggravated-assault-dv            aggravated-assault   \n",
       "460899                traffic-accident              traffic-accident   \n",
       "460900                traffic-accident              traffic-accident   \n",
       "460901          theft-of-motor-vehicle                    auto-theft   \n",
       "460902    traffic-accident-hit-and-run              traffic-accident   \n",
       "460903         criminal-mischief-other               public-disorder   \n",
       "460904              public-peace-other               public-disorder   \n",
       "460905     forgery-poss-of-forged-inst            white-collar-crime   \n",
       "460906      burglary-business-by-force                      burglary   \n",
       "460907    weapon-unlawful-discharge-of              all-other-crimes   \n",
       "460908          traf-habitual-offender              all-other-crimes   \n",
       "460909         criminal-mischief-other               public-disorder   \n",
       "460910                     theft-other                       larceny   \n",
       "\n",
       "             REPORTED_DATE     GEO_LON    GEO_LAT            NEIGHBORHOOD_ID  \\\n",
       "0      2014-06-29 02:01:00 -105.000149  39.745753                        cbd   \n",
       "1      2014-06-29 01:54:00 -104.884660  39.738702                east-colfax   \n",
       "2      2014-06-29 02:00:00 -105.020719  39.706674                athmar-park   \n",
       "3      2014-06-29 02:18:00 -105.001552  39.769505                  sunnyside   \n",
       "4      2014-06-29 04:17:00 -105.018557  39.679229  college-view-south-platte   \n",
       "5      2014-06-29 04:22:00 -104.972447  39.739449              cheesman-park   \n",
       "6      2014-06-29 02:56:00 -105.052956  39.733315                 villa-park   \n",
       "7      2014-06-29 04:54:00 -104.994621  39.746857                        cbd   \n",
       "8      2014-01-20 08:29:00 -104.977522  39.781310                 globeville   \n",
       "9      2014-06-29 03:56:00 -104.956140  39.741610                  city-park   \n",
       "10     2014-06-29 03:42:00 -105.025065  39.693108                    mar-lee   \n",
       "11     2013-01-21 11:58:00 -105.025061  39.696746                    mar-lee   \n",
       "12     2013-01-24 13:49:00 -104.934536  39.731625                       hale   \n",
       "13     2013-07-29 10:50:00 -104.922385  39.777607        northeast-park-hill   \n",
       "14     2013-03-12 19:52:00 -104.929717  39.759760            north-park-hill   \n",
       "15     2013-07-02 08:45:00 -104.931289  39.678216                  goldsmith   \n",
       "16     2012-02-15 08:18:00 -104.902747  39.761965                  stapleton   \n",
       "17     2012-02-27 15:23:00 -104.958944  39.724311               cherry-creek   \n",
       "18     2012-02-27 19:28:00 -104.911220  39.697516   washington-virginia-vale   \n",
       "19     2013-07-05 03:48:00 -104.976148  39.737660               capitol-hill   \n",
       "20     2013-07-20 04:54:00 -104.956199  39.767945                    clayton   \n",
       "21     2012-02-04 21:23:00 -105.013966  39.740435               lincoln-park   \n",
       "22     2012-09-27 17:15:00 -104.961986  39.678561                 university   \n",
       "23     2012-08-06 15:15:00 -104.940404  39.688629           virginia-village   \n",
       "24     2013-04-03 19:59:00 -105.053241  39.758465                 sloan-lake   \n",
       "25     2013-11-20 19:31:00 -104.958970  39.679977            university-park   \n",
       "26     2013-02-12 11:21:00 -104.996317  39.675251                   overland   \n",
       "27     2013-11-20 20:59:00 -104.907899  39.648909              hampden-south   \n",
       "28     2013-11-20 21:39:00 -104.968463  39.740011              cheesman-park   \n",
       "29     2013-11-20 22:05:00 -104.895340  39.783977                  stapleton   \n",
       "...                    ...         ...        ...                        ...   \n",
       "460881 2017-09-12 09:34:00 -104.897894  39.744228                east-colfax   \n",
       "460882 2017-09-12 16:07:00 -105.014148  39.740329               lincoln-park   \n",
       "460883 2017-09-12 17:48:00 -104.903440  39.748629            south-park-hill   \n",
       "460884 2017-09-12 18:22:00 -104.940295  39.725986                       hale   \n",
       "460885 2017-09-12 15:24:00 -104.966873  39.739680              cheesman-park   \n",
       "460886 2017-09-12 09:07:00 -104.924021  39.738229                       hale   \n",
       "460887 2017-09-12 17:42:00 -104.912874  39.667630                    hampden   \n",
       "460888 2017-09-12 09:07:00 -104.981910  39.731684               capitol-hill   \n",
       "460889 2017-09-13 02:15:00 -105.043950  39.787436                      regis   \n",
       "460890 2017-09-12 12:48:00 -104.948729  39.781464             elyria-swansea   \n",
       "460891 2017-09-12 16:01:00 -105.003384  39.753390              union-station   \n",
       "460892 2017-09-12 11:30:00 -104.991293  39.733622               civic-center   \n",
       "460893 2017-09-12 19:53:00 -104.977033  39.737631               capitol-hill   \n",
       "460894 2017-09-12 13:40:00 -105.010854  39.765525                   highland   \n",
       "460895 2017-09-12 21:19:00 -104.975529  39.733827               capitol-hill   \n",
       "460896 2017-09-12 11:24:00 -105.053194  39.693174                    mar-lee   \n",
       "460897 2017-09-08 09:41:00 -105.006535  39.753952              union-station   \n",
       "460898 2017-09-09 20:15:00 -105.030930  39.706092                   westwood   \n",
       "460899 2017-09-12 18:38:00 -105.052178  39.654827          harvey-park-south   \n",
       "460900 2017-09-12 17:47:00 -104.912437  39.754714            north-park-hill   \n",
       "460901 2017-09-12 13:40:00 -104.897151  39.726858                lowry-field   \n",
       "460902 2017-09-12 18:13:00 -104.986103  39.739255               capitol-hill   \n",
       "460903 2017-09-13 01:12:00 -104.993574  39.739773               civic-center   \n",
       "460904 2017-09-12 15:33:00 -104.977033  39.737631               capitol-hill   \n",
       "460905 2017-09-12 14:00:00 -104.991137  39.785432                 globeville   \n",
       "460906 2017-09-13 05:48:00 -105.033840  39.762365              west-highland   \n",
       "460907 2017-09-12 20:37:00 -105.040313  39.721264                barnum-west   \n",
       "460908 2017-09-12 16:32:00 -104.847024  39.779596                  montbello   \n",
       "460909 2017-09-12 13:04:00 -104.949183  39.756353                    skyland   \n",
       "460910 2017-09-12 09:30:00 -104.985739  39.735045               capitol-hill   \n",
       "\n",
       "        IS_CRIME  IS_TRAFFIC  \n",
       "0              0           1  \n",
       "1              1           0  \n",
       "2              1           0  \n",
       "3              1           0  \n",
       "4              1           0  \n",
       "5              1           0  \n",
       "6              0           1  \n",
       "7              1           0  \n",
       "8              1           0  \n",
       "9              1           0  \n",
       "10             0           1  \n",
       "11             0           1  \n",
       "12             1           0  \n",
       "13             1           0  \n",
       "14             1           0  \n",
       "15             0           1  \n",
       "16             1           0  \n",
       "17             1           0  \n",
       "18             1           0  \n",
       "19             1           0  \n",
       "20             1           0  \n",
       "21             0           1  \n",
       "22             1           0  \n",
       "23             0           1  \n",
       "24             0           1  \n",
       "25             0           1  \n",
       "26             1           0  \n",
       "27             1           0  \n",
       "28             0           1  \n",
       "29             1           0  \n",
       "...          ...         ...  \n",
       "460881         1           0  \n",
       "460882         0           1  \n",
       "460883         0           1  \n",
       "460884         1           0  \n",
       "460885         1           0  \n",
       "460886         0           1  \n",
       "460887         0           1  \n",
       "460888         1           0  \n",
       "460889         0           1  \n",
       "460890         0           1  \n",
       "460891         1           0  \n",
       "460892         1           0  \n",
       "460893         1           0  \n",
       "460894         1           0  \n",
       "460895         1           0  \n",
       "460896         0           1  \n",
       "460897         1           0  \n",
       "460898         1           0  \n",
       "460899         0           1  \n",
       "460900         0           1  \n",
       "460901         1           0  \n",
       "460902         0           1  \n",
       "460903         1           0  \n",
       "460904         1           0  \n",
       "460905         1           0  \n",
       "460906         1           0  \n",
       "460907         1           0  \n",
       "460908         1           0  \n",
       "460909         1           0  \n",
       "460910         1           0  \n",
       "\n",
       "[460911 rows x 8 columns]"
      ]
     },
     "execution_count": 211,
     "metadata": {},
     "output_type": "execute_result"
    }
   ],
   "source": [
    "crime"
   ]
  },
  {
   "cell_type": "code",
   "execution_count": 218,
   "metadata": {},
   "outputs": [
    {
     "name": "stdout",
     "output_type": "stream",
     "text": [
      "<class 'pandas.core.frame.DataFrame'>\n",
      "Int64Index: 460911 entries, 0 to 460910\n",
      "Data columns (total 8 columns):\n",
      "OFFENSE_TYPE_ID        460911 non-null category\n",
      "OFFENSE_CATEGORY_ID    460911 non-null category\n",
      "REPORTED_DATE          460911 non-null datetime64[ns]\n",
      "GEO_LON                457296 non-null float64\n",
      "GEO_LAT                457296 non-null float64\n",
      "NEIGHBORHOOD_ID        460911 non-null category\n",
      "IS_CRIME               460911 non-null int64\n",
      "IS_TRAFFIC             460911 non-null int64\n",
      "dtypes: category(3), datetime64[ns](1), float64(2), int64(2)\n",
      "memory usage: 22.9 MB\n"
     ]
    }
   ],
   "source": [
    "crime.info()"
   ]
  },
  {
   "cell_type": "code",
   "execution_count": 222,
   "metadata": {},
   "outputs": [
    {
     "data": {
      "text/html": [
       "<div>\n",
       "<style scoped>\n",
       "    .dataframe tbody tr th:only-of-type {\n",
       "        vertical-align: middle;\n",
       "    }\n",
       "\n",
       "    .dataframe tbody tr th {\n",
       "        vertical-align: top;\n",
       "    }\n",
       "\n",
       "    .dataframe thead th {\n",
       "        text-align: right;\n",
       "    }\n",
       "</style>\n",
       "<table border=\"1\" class=\"dataframe\">\n",
       "  <thead>\n",
       "    <tr style=\"text-align: right;\">\n",
       "      <th></th>\n",
       "      <th>OFFENSE_TYPE_ID</th>\n",
       "      <th>OFFENSE_CATEGORY_ID</th>\n",
       "      <th>REPORTED_DATE</th>\n",
       "      <th>GEO_LON</th>\n",
       "      <th>GEO_LAT</th>\n",
       "      <th>NEIGHBORHOOD_ID</th>\n",
       "      <th>IS_CRIME</th>\n",
       "      <th>IS_TRAFFIC</th>\n",
       "    </tr>\n",
       "  </thead>\n",
       "  <tbody>\n",
       "    <tr>\n",
       "      <th>count</th>\n",
       "      <td>460911</td>\n",
       "      <td>460911</td>\n",
       "      <td>460911</td>\n",
       "      <td>457296.000000</td>\n",
       "      <td>457296.000000</td>\n",
       "      <td>460911</td>\n",
       "      <td>460911.000000</td>\n",
       "      <td>460911.000000</td>\n",
       "    </tr>\n",
       "    <tr>\n",
       "      <th>unique</th>\n",
       "      <td>196</td>\n",
       "      <td>15</td>\n",
       "      <td>390969</td>\n",
       "      <td>NaN</td>\n",
       "      <td>NaN</td>\n",
       "      <td>78</td>\n",
       "      <td>NaN</td>\n",
       "      <td>NaN</td>\n",
       "    </tr>\n",
       "    <tr>\n",
       "      <th>top</th>\n",
       "      <td>traffic-accident</td>\n",
       "      <td>traffic-accident</td>\n",
       "      <td>2017-02-13 09:00:00</td>\n",
       "      <td>NaN</td>\n",
       "      <td>NaN</td>\n",
       "      <td>five-points</td>\n",
       "      <td>NaN</td>\n",
       "      <td>NaN</td>\n",
       "    </tr>\n",
       "    <tr>\n",
       "      <th>freq</th>\n",
       "      <td>87420</td>\n",
       "      <td>125060</td>\n",
       "      <td>9</td>\n",
       "      <td>NaN</td>\n",
       "      <td>NaN</td>\n",
       "      <td>23466</td>\n",
       "      <td>NaN</td>\n",
       "      <td>NaN</td>\n",
       "    </tr>\n",
       "    <tr>\n",
       "      <th>first</th>\n",
       "      <td>NaN</td>\n",
       "      <td>NaN</td>\n",
       "      <td>2012-01-02 00:06:00</td>\n",
       "      <td>NaN</td>\n",
       "      <td>NaN</td>\n",
       "      <td>NaN</td>\n",
       "      <td>NaN</td>\n",
       "      <td>NaN</td>\n",
       "    </tr>\n",
       "    <tr>\n",
       "      <th>last</th>\n",
       "      <td>NaN</td>\n",
       "      <td>NaN</td>\n",
       "      <td>2017-09-29 06:16:00</td>\n",
       "      <td>NaN</td>\n",
       "      <td>NaN</td>\n",
       "      <td>NaN</td>\n",
       "      <td>NaN</td>\n",
       "      <td>NaN</td>\n",
       "    </tr>\n",
       "    <tr>\n",
       "      <th>mean</th>\n",
       "      <td>NaN</td>\n",
       "      <td>NaN</td>\n",
       "      <td>NaN</td>\n",
       "      <td>-104.949973</td>\n",
       "      <td>39.726061</td>\n",
       "      <td>NaN</td>\n",
       "      <td>0.728668</td>\n",
       "      <td>0.271855</td>\n",
       "    </tr>\n",
       "    <tr>\n",
       "      <th>std</th>\n",
       "      <td>NaN</td>\n",
       "      <td>NaN</td>\n",
       "      <td>NaN</td>\n",
       "      <td>1.243537</td>\n",
       "      <td>0.471636</td>\n",
       "      <td>NaN</td>\n",
       "      <td>0.444648</td>\n",
       "      <td>0.444916</td>\n",
       "    </tr>\n",
       "    <tr>\n",
       "      <th>min</th>\n",
       "      <td>NaN</td>\n",
       "      <td>NaN</td>\n",
       "      <td>NaN</td>\n",
       "      <td>-105.300593</td>\n",
       "      <td>0.000001</td>\n",
       "      <td>NaN</td>\n",
       "      <td>0.000000</td>\n",
       "      <td>0.000000</td>\n",
       "    </tr>\n",
       "    <tr>\n",
       "      <th>25%</th>\n",
       "      <td>NaN</td>\n",
       "      <td>NaN</td>\n",
       "      <td>NaN</td>\n",
       "      <td>-105.009524</td>\n",
       "      <td>39.706890</td>\n",
       "      <td>NaN</td>\n",
       "      <td>0.000000</td>\n",
       "      <td>0.000000</td>\n",
       "    </tr>\n",
       "    <tr>\n",
       "      <th>50%</th>\n",
       "      <td>NaN</td>\n",
       "      <td>NaN</td>\n",
       "      <td>NaN</td>\n",
       "      <td>-104.982722</td>\n",
       "      <td>39.739285</td>\n",
       "      <td>NaN</td>\n",
       "      <td>1.000000</td>\n",
       "      <td>0.000000</td>\n",
       "    </tr>\n",
       "    <tr>\n",
       "      <th>75%</th>\n",
       "      <td>NaN</td>\n",
       "      <td>NaN</td>\n",
       "      <td>NaN</td>\n",
       "      <td>-104.929727</td>\n",
       "      <td>39.757689</td>\n",
       "      <td>NaN</td>\n",
       "      <td>1.000000</td>\n",
       "      <td>1.000000</td>\n",
       "    </tr>\n",
       "    <tr>\n",
       "      <th>max</th>\n",
       "      <td>NaN</td>\n",
       "      <td>NaN</td>\n",
       "      <td>NaN</td>\n",
       "      <td>-0.000002</td>\n",
       "      <td>39.904311</td>\n",
       "      <td>NaN</td>\n",
       "      <td>1.000000</td>\n",
       "      <td>1.000000</td>\n",
       "    </tr>\n",
       "  </tbody>\n",
       "</table>\n",
       "</div>"
      ],
      "text/plain": [
       "         OFFENSE_TYPE_ID OFFENSE_CATEGORY_ID        REPORTED_DATE  \\\n",
       "count             460911              460911               460911   \n",
       "unique               196                  15               390969   \n",
       "top     traffic-accident    traffic-accident  2017-02-13 09:00:00   \n",
       "freq               87420              125060                    9   \n",
       "first                NaN                 NaN  2012-01-02 00:06:00   \n",
       "last                 NaN                 NaN  2017-09-29 06:16:00   \n",
       "mean                 NaN                 NaN                  NaN   \n",
       "std                  NaN                 NaN                  NaN   \n",
       "min                  NaN                 NaN                  NaN   \n",
       "25%                  NaN                 NaN                  NaN   \n",
       "50%                  NaN                 NaN                  NaN   \n",
       "75%                  NaN                 NaN                  NaN   \n",
       "max                  NaN                 NaN                  NaN   \n",
       "\n",
       "              GEO_LON        GEO_LAT NEIGHBORHOOD_ID       IS_CRIME  \\\n",
       "count   457296.000000  457296.000000          460911  460911.000000   \n",
       "unique            NaN            NaN              78            NaN   \n",
       "top               NaN            NaN     five-points            NaN   \n",
       "freq              NaN            NaN           23466            NaN   \n",
       "first             NaN            NaN             NaN            NaN   \n",
       "last              NaN            NaN             NaN            NaN   \n",
       "mean      -104.949973      39.726061             NaN       0.728668   \n",
       "std          1.243537       0.471636             NaN       0.444648   \n",
       "min       -105.300593       0.000001             NaN       0.000000   \n",
       "25%       -105.009524      39.706890             NaN       0.000000   \n",
       "50%       -104.982722      39.739285             NaN       1.000000   \n",
       "75%       -104.929727      39.757689             NaN       1.000000   \n",
       "max         -0.000002      39.904311             NaN       1.000000   \n",
       "\n",
       "           IS_TRAFFIC  \n",
       "count   460911.000000  \n",
       "unique            NaN  \n",
       "top               NaN  \n",
       "freq              NaN  \n",
       "first             NaN  \n",
       "last              NaN  \n",
       "mean         0.271855  \n",
       "std          0.444916  \n",
       "min          0.000000  \n",
       "25%          0.000000  \n",
       "50%          0.000000  \n",
       "75%          1.000000  \n",
       "max          1.000000  "
      ]
     },
     "execution_count": 222,
     "metadata": {},
     "output_type": "execute_result"
    }
   ],
   "source": [
    "crime.describe(include='all')"
   ]
  },
  {
   "cell_type": "code",
   "execution_count": 227,
   "metadata": {},
   "outputs": [
    {
     "data": {
      "text/plain": [
       "0            Sunday\n",
       "1            Sunday\n",
       "2            Sunday\n",
       "3            Sunday\n",
       "4            Sunday\n",
       "5            Sunday\n",
       "6            Sunday\n",
       "7            Sunday\n",
       "8            Monday\n",
       "9            Sunday\n",
       "10           Sunday\n",
       "11           Monday\n",
       "12         Thursday\n",
       "13           Monday\n",
       "14          Tuesday\n",
       "15          Tuesday\n",
       "16        Wednesday\n",
       "17           Monday\n",
       "18           Monday\n",
       "19           Friday\n",
       "20         Saturday\n",
       "21         Saturday\n",
       "22         Thursday\n",
       "23           Monday\n",
       "24        Wednesday\n",
       "25        Wednesday\n",
       "26          Tuesday\n",
       "27        Wednesday\n",
       "28        Wednesday\n",
       "29        Wednesday\n",
       "            ...    \n",
       "460881      Tuesday\n",
       "460882      Tuesday\n",
       "460883      Tuesday\n",
       "460884      Tuesday\n",
       "460885      Tuesday\n",
       "460886      Tuesday\n",
       "460887      Tuesday\n",
       "460888      Tuesday\n",
       "460889    Wednesday\n",
       "460890      Tuesday\n",
       "460891      Tuesday\n",
       "460892      Tuesday\n",
       "460893      Tuesday\n",
       "460894      Tuesday\n",
       "460895      Tuesday\n",
       "460896      Tuesday\n",
       "460897       Friday\n",
       "460898     Saturday\n",
       "460899      Tuesday\n",
       "460900      Tuesday\n",
       "460901      Tuesday\n",
       "460902      Tuesday\n",
       "460903    Wednesday\n",
       "460904      Tuesday\n",
       "460905      Tuesday\n",
       "460906    Wednesday\n",
       "460907      Tuesday\n",
       "460908      Tuesday\n",
       "460909      Tuesday\n",
       "460910      Tuesday\n",
       "Name: REPORTED_DATE, Length: 460911, dtype: object"
      ]
     },
     "execution_count": 227,
     "metadata": {},
     "output_type": "execute_result"
    }
   ],
   "source": [
    "crime.REPORTED_DATE.dt.weekday_name"
   ]
  },
  {
   "cell_type": "code",
   "execution_count": 3,
   "metadata": {},
   "outputs": [
    {
     "data": {
      "text/html": [
       "<div>\n",
       "<style scoped>\n",
       "    .dataframe tbody tr th:only-of-type {\n",
       "        vertical-align: middle;\n",
       "    }\n",
       "\n",
       "    .dataframe tbody tr th {\n",
       "        vertical-align: top;\n",
       "    }\n",
       "\n",
       "    .dataframe thead th {\n",
       "        text-align: right;\n",
       "    }\n",
       "</style>\n",
       "<table border=\"1\" class=\"dataframe\">\n",
       "  <thead>\n",
       "    <tr style=\"text-align: right;\">\n",
       "      <th></th>\n",
       "      <th>OFFENSE_TYPE_ID</th>\n",
       "      <th>OFFENSE_CATEGORY_ID</th>\n",
       "      <th>GEO_LON</th>\n",
       "      <th>GEO_LAT</th>\n",
       "      <th>NEIGHBORHOOD_ID</th>\n",
       "      <th>IS_CRIME</th>\n",
       "      <th>IS_TRAFFIC</th>\n",
       "    </tr>\n",
       "    <tr>\n",
       "      <th>REPORTED_DATE</th>\n",
       "      <th></th>\n",
       "      <th></th>\n",
       "      <th></th>\n",
       "      <th></th>\n",
       "      <th></th>\n",
       "      <th></th>\n",
       "      <th></th>\n",
       "    </tr>\n",
       "  </thead>\n",
       "  <tbody>\n",
       "    <tr>\n",
       "      <th>2014-06-29 02:01:00</th>\n",
       "      <td>traffic-accident-dui-duid</td>\n",
       "      <td>traffic-accident</td>\n",
       "      <td>-105.000149</td>\n",
       "      <td>39.745753</td>\n",
       "      <td>cbd</td>\n",
       "      <td>0</td>\n",
       "      <td>1</td>\n",
       "    </tr>\n",
       "    <tr>\n",
       "      <th>2014-06-29 01:54:00</th>\n",
       "      <td>vehicular-eluding-no-chase</td>\n",
       "      <td>all-other-crimes</td>\n",
       "      <td>-104.884660</td>\n",
       "      <td>39.738702</td>\n",
       "      <td>east-colfax</td>\n",
       "      <td>1</td>\n",
       "      <td>0</td>\n",
       "    </tr>\n",
       "    <tr>\n",
       "      <th>2014-06-29 02:00:00</th>\n",
       "      <td>disturbing-the-peace</td>\n",
       "      <td>public-disorder</td>\n",
       "      <td>-105.020719</td>\n",
       "      <td>39.706674</td>\n",
       "      <td>athmar-park</td>\n",
       "      <td>1</td>\n",
       "      <td>0</td>\n",
       "    </tr>\n",
       "    <tr>\n",
       "      <th>2014-06-29 02:18:00</th>\n",
       "      <td>curfew</td>\n",
       "      <td>public-disorder</td>\n",
       "      <td>-105.001552</td>\n",
       "      <td>39.769505</td>\n",
       "      <td>sunnyside</td>\n",
       "      <td>1</td>\n",
       "      <td>0</td>\n",
       "    </tr>\n",
       "    <tr>\n",
       "      <th>2014-06-29 04:17:00</th>\n",
       "      <td>aggravated-assault</td>\n",
       "      <td>aggravated-assault</td>\n",
       "      <td>-105.018557</td>\n",
       "      <td>39.679229</td>\n",
       "      <td>college-view-south-platte</td>\n",
       "      <td>1</td>\n",
       "      <td>0</td>\n",
       "    </tr>\n",
       "  </tbody>\n",
       "</table>\n",
       "</div>"
      ],
      "text/plain": [
       "                                OFFENSE_TYPE_ID OFFENSE_CATEGORY_ID  \\\n",
       "REPORTED_DATE                                                         \n",
       "2014-06-29 02:01:00   traffic-accident-dui-duid    traffic-accident   \n",
       "2014-06-29 01:54:00  vehicular-eluding-no-chase    all-other-crimes   \n",
       "2014-06-29 02:00:00        disturbing-the-peace     public-disorder   \n",
       "2014-06-29 02:18:00                      curfew     public-disorder   \n",
       "2014-06-29 04:17:00          aggravated-assault  aggravated-assault   \n",
       "\n",
       "                        GEO_LON    GEO_LAT            NEIGHBORHOOD_ID  \\\n",
       "REPORTED_DATE                                                           \n",
       "2014-06-29 02:01:00 -105.000149  39.745753                        cbd   \n",
       "2014-06-29 01:54:00 -104.884660  39.738702                east-colfax   \n",
       "2014-06-29 02:00:00 -105.020719  39.706674                athmar-park   \n",
       "2014-06-29 02:18:00 -105.001552  39.769505                  sunnyside   \n",
       "2014-06-29 04:17:00 -105.018557  39.679229  college-view-south-platte   \n",
       "\n",
       "                     IS_CRIME  IS_TRAFFIC  \n",
       "REPORTED_DATE                              \n",
       "2014-06-29 02:01:00         0           1  \n",
       "2014-06-29 01:54:00         1           0  \n",
       "2014-06-29 02:00:00         1           0  \n",
       "2014-06-29 02:18:00         1           0  \n",
       "2014-06-29 04:17:00         1           0  "
      ]
     },
     "execution_count": 3,
     "metadata": {},
     "output_type": "execute_result"
    }
   ],
   "source": [
    "crime = crime.set_index('REPORTED_DATE')\n",
    "crime.head()"
   ]
  },
  {
   "cell_type": "code",
   "execution_count": 4,
   "metadata": {},
   "outputs": [],
   "source": [
    "crime.sort_index(inplace=True)"
   ]
  },
  {
   "cell_type": "code",
   "execution_count": 241,
   "metadata": {},
   "outputs": [
    {
     "data": {
      "text/plain": [
       "0.42011834319526625"
      ]
     },
     "execution_count": 241,
     "metadata": {},
     "output_type": "execute_result"
    }
   ],
   "source": [
    "a = crime['2012-01-01':'2012-01-03']['IS_CRIME'].value_counts()[0]\n",
    "b = crime['2012-01-01':'2012-01-03']['IS_CRIME'].value_counts()[1]\n",
    "a / (a+b)"
   ]
  },
  {
   "cell_type": "code",
   "execution_count": 251,
   "metadata": {},
   "outputs": [
    {
     "data": {
      "text/plain": [
       "OFFENSE_CATEGORY_ID\n",
       "aggravated-assault               140\n",
       "all-other-crimes                1151\n",
       "arson                              5\n",
       "auto-theft                       408\n",
       "burglary                         487\n",
       "drug-alcohol                     367\n",
       "larceny                          675\n",
       "murder                             2\n",
       "other-crimes-against-persons     315\n",
       "public-disorder                  699\n",
       "robbery                          102\n",
       "sexual-assault                    44\n",
       "theft-from-motor-vehicle         505\n",
       "traffic-accident                1933\n",
       "white-collar-crime                74\n",
       "dtype: int64"
      ]
     },
     "execution_count": 251,
     "metadata": {},
     "output_type": "execute_result"
    }
   ],
   "source": [
    "crime.loc['2015-12'].groupby('OFFENSE_CATEGORY_ID').size()"
   ]
  },
  {
   "cell_type": "code",
   "execution_count": 248,
   "metadata": {},
   "outputs": [
    {
     "data": {
      "text/html": [
       "<div>\n",
       "<style scoped>\n",
       "    .dataframe tbody tr th:only-of-type {\n",
       "        vertical-align: middle;\n",
       "    }\n",
       "\n",
       "    .dataframe tbody tr th {\n",
       "        vertical-align: top;\n",
       "    }\n",
       "\n",
       "    .dataframe thead th {\n",
       "        text-align: right;\n",
       "    }\n",
       "</style>\n",
       "<table border=\"1\" class=\"dataframe\">\n",
       "  <thead>\n",
       "    <tr style=\"text-align: right;\">\n",
       "      <th></th>\n",
       "      <th>OFFENSE_TYPE_ID</th>\n",
       "      <th>OFFENSE_CATEGORY_ID</th>\n",
       "      <th>GEO_LON</th>\n",
       "      <th>GEO_LAT</th>\n",
       "      <th>NEIGHBORHOOD_ID</th>\n",
       "      <th>IS_CRIME</th>\n",
       "      <th>IS_TRAFFIC</th>\n",
       "    </tr>\n",
       "    <tr>\n",
       "      <th>REPORTED_DATE</th>\n",
       "      <th></th>\n",
       "      <th></th>\n",
       "      <th></th>\n",
       "      <th></th>\n",
       "      <th></th>\n",
       "      <th></th>\n",
       "      <th></th>\n",
       "    </tr>\n",
       "  </thead>\n",
       "  <tbody>\n",
       "    <tr>\n",
       "      <th>2012-01-02 02:39:00</th>\n",
       "      <td>aggravated-assault</td>\n",
       "      <td>aggravated-assault</td>\n",
       "      <td>-105.001480</td>\n",
       "      <td>39.770655</td>\n",
       "      <td>sunnyside</td>\n",
       "      <td>1</td>\n",
       "      <td>0</td>\n",
       "    </tr>\n",
       "    <tr>\n",
       "      <th>2012-01-02 03:30:00</th>\n",
       "      <td>assault-simple</td>\n",
       "      <td>other-crimes-against-persons</td>\n",
       "      <td>-104.876943</td>\n",
       "      <td>39.702783</td>\n",
       "      <td>windsor</td>\n",
       "      <td>1</td>\n",
       "      <td>0</td>\n",
       "    </tr>\n",
       "    <tr>\n",
       "      <th>2012-01-02 04:07:00</th>\n",
       "      <td>criminal-mischief-other</td>\n",
       "      <td>public-disorder</td>\n",
       "      <td>-104.905646</td>\n",
       "      <td>39.771597</td>\n",
       "      <td>northeast-park-hill</td>\n",
       "      <td>1</td>\n",
       "      <td>0</td>\n",
       "    </tr>\n",
       "    <tr>\n",
       "      <th>2012-01-02 04:46:00</th>\n",
       "      <td>robbery-street</td>\n",
       "      <td>robbery</td>\n",
       "      <td>-104.932636</td>\n",
       "      <td>39.730927</td>\n",
       "      <td>hale</td>\n",
       "      <td>1</td>\n",
       "      <td>0</td>\n",
       "    </tr>\n",
       "    <tr>\n",
       "      <th>2012-01-03 04:18:00</th>\n",
       "      <td>burglary-business-by-force</td>\n",
       "      <td>burglary</td>\n",
       "      <td>-104.941613</td>\n",
       "      <td>39.783624</td>\n",
       "      <td>elyria-swansea</td>\n",
       "      <td>1</td>\n",
       "      <td>0</td>\n",
       "    </tr>\n",
       "    <tr>\n",
       "      <th>2012-01-04 02:08:00</th>\n",
       "      <td>vehicular-eluding</td>\n",
       "      <td>all-other-crimes</td>\n",
       "      <td>-104.987485</td>\n",
       "      <td>39.739897</td>\n",
       "      <td>civic-center</td>\n",
       "      <td>1</td>\n",
       "      <td>0</td>\n",
       "    </tr>\n",
       "    <tr>\n",
       "      <th>2012-01-04 02:08:00</th>\n",
       "      <td>traffic-accident-dui-duid</td>\n",
       "      <td>traffic-accident</td>\n",
       "      <td>-104.987485</td>\n",
       "      <td>39.739897</td>\n",
       "      <td>civic-center</td>\n",
       "      <td>0</td>\n",
       "      <td>1</td>\n",
       "    </tr>\n",
       "    <tr>\n",
       "      <th>2012-01-04 02:09:00</th>\n",
       "      <td>theft-items-from-vehicle</td>\n",
       "      <td>theft-from-motor-vehicle</td>\n",
       "      <td>-104.957280</td>\n",
       "      <td>39.698563</td>\n",
       "      <td>belcaro</td>\n",
       "      <td>1</td>\n",
       "      <td>0</td>\n",
       "    </tr>\n",
       "    <tr>\n",
       "      <th>2012-01-04 02:10:00</th>\n",
       "      <td>vehicular-eluding-no-chase</td>\n",
       "      <td>all-other-crimes</td>\n",
       "      <td>-105.028386</td>\n",
       "      <td>39.753627</td>\n",
       "      <td>sloan-lake</td>\n",
       "      <td>1</td>\n",
       "      <td>0</td>\n",
       "    </tr>\n",
       "    <tr>\n",
       "      <th>2012-01-04 02:21:00</th>\n",
       "      <td>theft-items-from-vehicle</td>\n",
       "      <td>theft-from-motor-vehicle</td>\n",
       "      <td>-104.963216</td>\n",
       "      <td>39.697155</td>\n",
       "      <td>washington-park</td>\n",
       "      <td>1</td>\n",
       "      <td>0</td>\n",
       "    </tr>\n",
       "    <tr>\n",
       "      <th>2012-01-04 02:46:00</th>\n",
       "      <td>theft-items-from-vehicle</td>\n",
       "      <td>theft-from-motor-vehicle</td>\n",
       "      <td>-104.963852</td>\n",
       "      <td>39.696708</td>\n",
       "      <td>washington-park</td>\n",
       "      <td>1</td>\n",
       "      <td>0</td>\n",
       "    </tr>\n",
       "    <tr>\n",
       "      <th>2012-01-04 03:29:00</th>\n",
       "      <td>theft-of-motor-vehicle</td>\n",
       "      <td>auto-theft</td>\n",
       "      <td>-104.905633</td>\n",
       "      <td>39.677515</td>\n",
       "      <td>goldsmith</td>\n",
       "      <td>1</td>\n",
       "      <td>0</td>\n",
       "    </tr>\n",
       "    <tr>\n",
       "      <th>2012-01-04 03:39:00</th>\n",
       "      <td>criminal-mischief-mtr-veh</td>\n",
       "      <td>public-disorder</td>\n",
       "      <td>-104.915722</td>\n",
       "      <td>39.664805</td>\n",
       "      <td>hampden</td>\n",
       "      <td>1</td>\n",
       "      <td>0</td>\n",
       "    </tr>\n",
       "    <tr>\n",
       "      <th>2012-01-04 03:49:00</th>\n",
       "      <td>agg-aslt-police-weapon</td>\n",
       "      <td>all-other-crimes</td>\n",
       "      <td>-104.993574</td>\n",
       "      <td>39.739773</td>\n",
       "      <td>civic-center</td>\n",
       "      <td>1</td>\n",
       "      <td>0</td>\n",
       "    </tr>\n",
       "    <tr>\n",
       "      <th>2012-01-04 03:51:00</th>\n",
       "      <td>theft-items-from-vehicle</td>\n",
       "      <td>theft-from-motor-vehicle</td>\n",
       "      <td>-104.967166</td>\n",
       "      <td>39.709090</td>\n",
       "      <td>washington-park</td>\n",
       "      <td>1</td>\n",
       "      <td>0</td>\n",
       "    </tr>\n",
       "  </tbody>\n",
       "</table>\n",
       "</div>"
      ],
      "text/plain": [
       "                                OFFENSE_TYPE_ID           OFFENSE_CATEGORY_ID  \\\n",
       "REPORTED_DATE                                                                   \n",
       "2012-01-02 02:39:00          aggravated-assault            aggravated-assault   \n",
       "2012-01-02 03:30:00              assault-simple  other-crimes-against-persons   \n",
       "2012-01-02 04:07:00     criminal-mischief-other               public-disorder   \n",
       "2012-01-02 04:46:00              robbery-street                       robbery   \n",
       "2012-01-03 04:18:00  burglary-business-by-force                      burglary   \n",
       "2012-01-04 02:08:00           vehicular-eluding              all-other-crimes   \n",
       "2012-01-04 02:08:00   traffic-accident-dui-duid              traffic-accident   \n",
       "2012-01-04 02:09:00    theft-items-from-vehicle      theft-from-motor-vehicle   \n",
       "2012-01-04 02:10:00  vehicular-eluding-no-chase              all-other-crimes   \n",
       "2012-01-04 02:21:00    theft-items-from-vehicle      theft-from-motor-vehicle   \n",
       "2012-01-04 02:46:00    theft-items-from-vehicle      theft-from-motor-vehicle   \n",
       "2012-01-04 03:29:00      theft-of-motor-vehicle                    auto-theft   \n",
       "2012-01-04 03:39:00   criminal-mischief-mtr-veh               public-disorder   \n",
       "2012-01-04 03:49:00      agg-aslt-police-weapon              all-other-crimes   \n",
       "2012-01-04 03:51:00    theft-items-from-vehicle      theft-from-motor-vehicle   \n",
       "\n",
       "                        GEO_LON    GEO_LAT      NEIGHBORHOOD_ID  IS_CRIME  \\\n",
       "REPORTED_DATE                                                               \n",
       "2012-01-02 02:39:00 -105.001480  39.770655            sunnyside         1   \n",
       "2012-01-02 03:30:00 -104.876943  39.702783              windsor         1   \n",
       "2012-01-02 04:07:00 -104.905646  39.771597  northeast-park-hill         1   \n",
       "2012-01-02 04:46:00 -104.932636  39.730927                 hale         1   \n",
       "2012-01-03 04:18:00 -104.941613  39.783624       elyria-swansea         1   \n",
       "2012-01-04 02:08:00 -104.987485  39.739897         civic-center         1   \n",
       "2012-01-04 02:08:00 -104.987485  39.739897         civic-center         0   \n",
       "2012-01-04 02:09:00 -104.957280  39.698563              belcaro         1   \n",
       "2012-01-04 02:10:00 -105.028386  39.753627           sloan-lake         1   \n",
       "2012-01-04 02:21:00 -104.963216  39.697155      washington-park         1   \n",
       "2012-01-04 02:46:00 -104.963852  39.696708      washington-park         1   \n",
       "2012-01-04 03:29:00 -104.905633  39.677515            goldsmith         1   \n",
       "2012-01-04 03:39:00 -104.915722  39.664805              hampden         1   \n",
       "2012-01-04 03:49:00 -104.993574  39.739773         civic-center         1   \n",
       "2012-01-04 03:51:00 -104.967166  39.709090      washington-park         1   \n",
       "\n",
       "                     IS_TRAFFIC  \n",
       "REPORTED_DATE                    \n",
       "2012-01-02 02:39:00           0  \n",
       "2012-01-02 03:30:00           0  \n",
       "2012-01-02 04:07:00           0  \n",
       "2012-01-02 04:46:00           0  \n",
       "2012-01-03 04:18:00           0  \n",
       "2012-01-04 02:08:00           0  \n",
       "2012-01-04 02:08:00           1  \n",
       "2012-01-04 02:09:00           0  \n",
       "2012-01-04 02:10:00           0  \n",
       "2012-01-04 02:21:00           0  \n",
       "2012-01-04 02:46:00           0  \n",
       "2012-01-04 03:29:00           0  \n",
       "2012-01-04 03:39:00           0  \n",
       "2012-01-04 03:49:00           0  \n",
       "2012-01-04 03:51:00           0  "
      ]
     },
     "execution_count": 248,
     "metadata": {},
     "output_type": "execute_result"
    }
   ],
   "source": [
    "crime.between_time('2:00','5:00', include_end=False).head(15)"
   ]
  },
  {
   "cell_type": "code",
   "execution_count": 249,
   "metadata": {},
   "outputs": [
    {
     "data": {
      "text/html": [
       "<div>\n",
       "<style scoped>\n",
       "    .dataframe tbody tr th:only-of-type {\n",
       "        vertical-align: middle;\n",
       "    }\n",
       "\n",
       "    .dataframe tbody tr th {\n",
       "        vertical-align: top;\n",
       "    }\n",
       "\n",
       "    .dataframe thead th {\n",
       "        text-align: right;\n",
       "    }\n",
       "</style>\n",
       "<table border=\"1\" class=\"dataframe\">\n",
       "  <thead>\n",
       "    <tr style=\"text-align: right;\">\n",
       "      <th></th>\n",
       "      <th>OFFENSE_TYPE_ID</th>\n",
       "      <th>OFFENSE_CATEGORY_ID</th>\n",
       "      <th>GEO_LON</th>\n",
       "      <th>GEO_LAT</th>\n",
       "      <th>NEIGHBORHOOD_ID</th>\n",
       "      <th>IS_CRIME</th>\n",
       "      <th>IS_TRAFFIC</th>\n",
       "    </tr>\n",
       "    <tr>\n",
       "      <th>REPORTED_DATE</th>\n",
       "      <th></th>\n",
       "      <th></th>\n",
       "      <th></th>\n",
       "      <th></th>\n",
       "      <th></th>\n",
       "      <th></th>\n",
       "      <th></th>\n",
       "    </tr>\n",
       "  </thead>\n",
       "  <tbody>\n",
       "    <tr>\n",
       "      <th>2012-01-15 05:47:00</th>\n",
       "      <td>burglary-business-by-force</td>\n",
       "      <td>burglary</td>\n",
       "      <td>-104.967844</td>\n",
       "      <td>39.678296</td>\n",
       "      <td>university</td>\n",
       "      <td>1</td>\n",
       "      <td>0</td>\n",
       "    </tr>\n",
       "    <tr>\n",
       "      <th>2012-05-26 05:47:00</th>\n",
       "      <td>assault-simple</td>\n",
       "      <td>other-crimes-against-persons</td>\n",
       "      <td>-104.991880</td>\n",
       "      <td>39.753646</td>\n",
       "      <td>five-points</td>\n",
       "      <td>1</td>\n",
       "      <td>0</td>\n",
       "    </tr>\n",
       "    <tr>\n",
       "      <th>2012-06-10 05:47:00</th>\n",
       "      <td>aggravated-assault</td>\n",
       "      <td>aggravated-assault</td>\n",
       "      <td>-105.020598</td>\n",
       "      <td>39.676478</td>\n",
       "      <td>college-view-south-platte</td>\n",
       "      <td>1</td>\n",
       "      <td>0</td>\n",
       "    </tr>\n",
       "    <tr>\n",
       "      <th>2012-07-04 05:47:00</th>\n",
       "      <td>sex-aslt-rape</td>\n",
       "      <td>sexual-assault</td>\n",
       "      <td>NaN</td>\n",
       "      <td>NaN</td>\n",
       "      <td>west-highland</td>\n",
       "      <td>1</td>\n",
       "      <td>0</td>\n",
       "    </tr>\n",
       "    <tr>\n",
       "      <th>2012-07-09 05:47:00</th>\n",
       "      <td>theft-of-motor-vehicle</td>\n",
       "      <td>auto-theft</td>\n",
       "      <td>-105.030215</td>\n",
       "      <td>39.708802</td>\n",
       "      <td>westwood</td>\n",
       "      <td>1</td>\n",
       "      <td>0</td>\n",
       "    </tr>\n",
       "  </tbody>\n",
       "</table>\n",
       "</div>"
      ],
      "text/plain": [
       "                                OFFENSE_TYPE_ID           OFFENSE_CATEGORY_ID  \\\n",
       "REPORTED_DATE                                                                   \n",
       "2012-01-15 05:47:00  burglary-business-by-force                      burglary   \n",
       "2012-05-26 05:47:00              assault-simple  other-crimes-against-persons   \n",
       "2012-06-10 05:47:00          aggravated-assault            aggravated-assault   \n",
       "2012-07-04 05:47:00               sex-aslt-rape                sexual-assault   \n",
       "2012-07-09 05:47:00      theft-of-motor-vehicle                    auto-theft   \n",
       "\n",
       "                        GEO_LON    GEO_LAT            NEIGHBORHOOD_ID  \\\n",
       "REPORTED_DATE                                                           \n",
       "2012-01-15 05:47:00 -104.967844  39.678296                 university   \n",
       "2012-05-26 05:47:00 -104.991880  39.753646                five-points   \n",
       "2012-06-10 05:47:00 -105.020598  39.676478  college-view-south-platte   \n",
       "2012-07-04 05:47:00         NaN        NaN              west-highland   \n",
       "2012-07-09 05:47:00 -105.030215  39.708802                   westwood   \n",
       "\n",
       "                     IS_CRIME  IS_TRAFFIC  \n",
       "REPORTED_DATE                              \n",
       "2012-01-15 05:47:00         1           0  \n",
       "2012-05-26 05:47:00         1           0  \n",
       "2012-06-10 05:47:00         1           0  \n",
       "2012-07-04 05:47:00         1           0  \n",
       "2012-07-09 05:47:00         1           0  "
      ]
     },
     "execution_count": 249,
     "metadata": {},
     "output_type": "execute_result"
    }
   ],
   "source": [
    "crime.at_time('05:47').head()"
   ]
  },
  {
   "cell_type": "code",
   "execution_count": 250,
   "metadata": {},
   "outputs": [
    {
     "data": {
      "text/html": [
       "<div>\n",
       "<style scoped>\n",
       "    .dataframe tbody tr th:only-of-type {\n",
       "        vertical-align: middle;\n",
       "    }\n",
       "\n",
       "    .dataframe tbody tr th {\n",
       "        vertical-align: top;\n",
       "    }\n",
       "\n",
       "    .dataframe thead th {\n",
       "        text-align: right;\n",
       "    }\n",
       "</style>\n",
       "<table border=\"1\" class=\"dataframe\">\n",
       "  <thead>\n",
       "    <tr style=\"text-align: right;\">\n",
       "      <th></th>\n",
       "      <th>OFFENSE_TYPE_ID</th>\n",
       "      <th>OFFENSE_CATEGORY_ID</th>\n",
       "      <th>GEO_LON</th>\n",
       "      <th>GEO_LAT</th>\n",
       "      <th>NEIGHBORHOOD_ID</th>\n",
       "      <th>IS_CRIME</th>\n",
       "      <th>IS_TRAFFIC</th>\n",
       "    </tr>\n",
       "    <tr>\n",
       "      <th>REPORTED_DATE</th>\n",
       "      <th></th>\n",
       "      <th></th>\n",
       "      <th></th>\n",
       "      <th></th>\n",
       "      <th></th>\n",
       "      <th></th>\n",
       "      <th></th>\n",
       "    </tr>\n",
       "  </thead>\n",
       "  <tbody>\n",
       "    <tr>\n",
       "      <th>2012-01-02 00:06:00</th>\n",
       "      <td>aggravated-assault</td>\n",
       "      <td>aggravated-assault</td>\n",
       "      <td>-104.816860</td>\n",
       "      <td>39.796717</td>\n",
       "      <td>montbello</td>\n",
       "      <td>1</td>\n",
       "      <td>0</td>\n",
       "    </tr>\n",
       "    <tr>\n",
       "      <th>2012-01-02 00:06:00</th>\n",
       "      <td>violation-of-restraining-order</td>\n",
       "      <td>all-other-crimes</td>\n",
       "      <td>-104.816860</td>\n",
       "      <td>39.796717</td>\n",
       "      <td>montbello</td>\n",
       "      <td>1</td>\n",
       "      <td>0</td>\n",
       "    </tr>\n",
       "    <tr>\n",
       "      <th>2012-01-02 00:16:00</th>\n",
       "      <td>traffic-accident-dui-duid</td>\n",
       "      <td>traffic-accident</td>\n",
       "      <td>-104.971851</td>\n",
       "      <td>39.736874</td>\n",
       "      <td>cheesman-park</td>\n",
       "      <td>0</td>\n",
       "      <td>1</td>\n",
       "    </tr>\n",
       "    <tr>\n",
       "      <th>2012-01-02 00:47:00</th>\n",
       "      <td>traffic-accident</td>\n",
       "      <td>traffic-accident</td>\n",
       "      <td>-104.951824</td>\n",
       "      <td>39.740168</td>\n",
       "      <td>congress-park</td>\n",
       "      <td>0</td>\n",
       "      <td>1</td>\n",
       "    </tr>\n",
       "    <tr>\n",
       "      <th>2012-01-02 01:35:00</th>\n",
       "      <td>aggravated-assault</td>\n",
       "      <td>aggravated-assault</td>\n",
       "      <td>-104.998131</td>\n",
       "      <td>39.749922</td>\n",
       "      <td>union-station</td>\n",
       "      <td>1</td>\n",
       "      <td>0</td>\n",
       "    </tr>\n",
       "    <tr>\n",
       "      <th>2012-01-02 02:39:00</th>\n",
       "      <td>aggravated-assault</td>\n",
       "      <td>aggravated-assault</td>\n",
       "      <td>-105.001480</td>\n",
       "      <td>39.770655</td>\n",
       "      <td>sunnyside</td>\n",
       "      <td>1</td>\n",
       "      <td>0</td>\n",
       "    </tr>\n",
       "    <tr>\n",
       "      <th>2012-01-02 03:30:00</th>\n",
       "      <td>assault-simple</td>\n",
       "      <td>other-crimes-against-persons</td>\n",
       "      <td>-104.876943</td>\n",
       "      <td>39.702783</td>\n",
       "      <td>windsor</td>\n",
       "      <td>1</td>\n",
       "      <td>0</td>\n",
       "    </tr>\n",
       "    <tr>\n",
       "      <th>2012-01-02 04:07:00</th>\n",
       "      <td>criminal-mischief-other</td>\n",
       "      <td>public-disorder</td>\n",
       "      <td>-104.905646</td>\n",
       "      <td>39.771597</td>\n",
       "      <td>northeast-park-hill</td>\n",
       "      <td>1</td>\n",
       "      <td>0</td>\n",
       "    </tr>\n",
       "    <tr>\n",
       "      <th>2012-01-02 04:46:00</th>\n",
       "      <td>robbery-street</td>\n",
       "      <td>robbery</td>\n",
       "      <td>-104.932636</td>\n",
       "      <td>39.730927</td>\n",
       "      <td>hale</td>\n",
       "      <td>1</td>\n",
       "      <td>0</td>\n",
       "    </tr>\n",
       "    <tr>\n",
       "      <th>2012-01-02 06:52:00</th>\n",
       "      <td>traffic-accident</td>\n",
       "      <td>traffic-accident</td>\n",
       "      <td>-104.959783</td>\n",
       "      <td>39.739988</td>\n",
       "      <td>cheesman-park</td>\n",
       "      <td>0</td>\n",
       "      <td>1</td>\n",
       "    </tr>\n",
       "    <tr>\n",
       "      <th>2012-01-02 09:07:00</th>\n",
       "      <td>traffic-accident</td>\n",
       "      <td>traffic-accident</td>\n",
       "      <td>-104.977967</td>\n",
       "      <td>39.711030</td>\n",
       "      <td>washington-park-west</td>\n",
       "      <td>0</td>\n",
       "      <td>1</td>\n",
       "    </tr>\n",
       "    <tr>\n",
       "      <th>2012-01-02 09:42:00</th>\n",
       "      <td>theft-items-from-vehicle</td>\n",
       "      <td>theft-from-motor-vehicle</td>\n",
       "      <td>-104.941045</td>\n",
       "      <td>39.696077</td>\n",
       "      <td>cory-merrill</td>\n",
       "      <td>1</td>\n",
       "      <td>0</td>\n",
       "    </tr>\n",
       "    <tr>\n",
       "      <th>2012-01-02 10:07:00</th>\n",
       "      <td>traffic-accident</td>\n",
       "      <td>traffic-accident</td>\n",
       "      <td>-104.987420</td>\n",
       "      <td>39.744885</td>\n",
       "      <td>cbd</td>\n",
       "      <td>0</td>\n",
       "      <td>1</td>\n",
       "    </tr>\n",
       "    <tr>\n",
       "      <th>2012-01-02 10:21:00</th>\n",
       "      <td>robbery-business</td>\n",
       "      <td>robbery</td>\n",
       "      <td>-104.987952</td>\n",
       "      <td>39.680818</td>\n",
       "      <td>overland</td>\n",
       "      <td>1</td>\n",
       "      <td>0</td>\n",
       "    </tr>\n",
       "    <tr>\n",
       "      <th>2012-01-02 10:55:00</th>\n",
       "      <td>traffic-accident-hit-and-run</td>\n",
       "      <td>traffic-accident</td>\n",
       "      <td>-105.039614</td>\n",
       "      <td>39.718941</td>\n",
       "      <td>barnum</td>\n",
       "      <td>0</td>\n",
       "      <td>1</td>\n",
       "    </tr>\n",
       "    <tr>\n",
       "      <th>2012-01-02 11:05:00</th>\n",
       "      <td>aggravated-assault</td>\n",
       "      <td>aggravated-assault</td>\n",
       "      <td>-104.884971</td>\n",
       "      <td>39.741441</td>\n",
       "      <td>east-colfax</td>\n",
       "      <td>1</td>\n",
       "      <td>0</td>\n",
       "    </tr>\n",
       "    <tr>\n",
       "      <th>2012-01-02 11:32:00</th>\n",
       "      <td>theft-parts-from-vehicle</td>\n",
       "      <td>theft-from-motor-vehicle</td>\n",
       "      <td>-105.041071</td>\n",
       "      <td>39.699543</td>\n",
       "      <td>westwood</td>\n",
       "      <td>1</td>\n",
       "      <td>0</td>\n",
       "    </tr>\n",
       "    <tr>\n",
       "      <th>2012-01-02 11:36:00</th>\n",
       "      <td>traffic-accident</td>\n",
       "      <td>traffic-accident</td>\n",
       "      <td>-104.988837</td>\n",
       "      <td>39.740354</td>\n",
       "      <td>civic-center</td>\n",
       "      <td>0</td>\n",
       "      <td>1</td>\n",
       "    </tr>\n",
       "    <tr>\n",
       "      <th>2012-01-02 12:24:00</th>\n",
       "      <td>burglary-residence-no-force</td>\n",
       "      <td>burglary</td>\n",
       "      <td>-104.913295</td>\n",
       "      <td>39.687041</td>\n",
       "      <td>virginia-village</td>\n",
       "      <td>1</td>\n",
       "      <td>0</td>\n",
       "    </tr>\n",
       "    <tr>\n",
       "      <th>2012-01-02 13:15:00</th>\n",
       "      <td>menacing-felony-w-weap</td>\n",
       "      <td>aggravated-assault</td>\n",
       "      <td>-104.902570</td>\n",
       "      <td>39.740933</td>\n",
       "      <td>east-colfax</td>\n",
       "      <td>1</td>\n",
       "      <td>0</td>\n",
       "    </tr>\n",
       "    <tr>\n",
       "      <th>2012-01-02 13:15:00</th>\n",
       "      <td>criminal-mischief-mtr-veh</td>\n",
       "      <td>public-disorder</td>\n",
       "      <td>-104.902570</td>\n",
       "      <td>39.740933</td>\n",
       "      <td>east-colfax</td>\n",
       "      <td>1</td>\n",
       "      <td>0</td>\n",
       "    </tr>\n",
       "    <tr>\n",
       "      <th>2012-01-02 13:44:00</th>\n",
       "      <td>traffic-accident</td>\n",
       "      <td>traffic-accident</td>\n",
       "      <td>-104.970481</td>\n",
       "      <td>39.702571</td>\n",
       "      <td>washington-park</td>\n",
       "      <td>0</td>\n",
       "      <td>1</td>\n",
       "    </tr>\n",
       "    <tr>\n",
       "      <th>2012-01-02 13:58:00</th>\n",
       "      <td>robbery-street</td>\n",
       "      <td>robbery</td>\n",
       "      <td>-104.871739</td>\n",
       "      <td>39.654410</td>\n",
       "      <td>hampden</td>\n",
       "      <td>1</td>\n",
       "      <td>0</td>\n",
       "    </tr>\n",
       "    <tr>\n",
       "      <th>2012-01-02 13:59:00</th>\n",
       "      <td>burglary-vending-machine</td>\n",
       "      <td>larceny</td>\n",
       "      <td>-105.028666</td>\n",
       "      <td>39.690841</td>\n",
       "      <td>mar-lee</td>\n",
       "      <td>1</td>\n",
       "      <td>0</td>\n",
       "    </tr>\n",
       "    <tr>\n",
       "      <th>2012-01-02 14:04:00</th>\n",
       "      <td>theft-items-from-vehicle</td>\n",
       "      <td>theft-from-motor-vehicle</td>\n",
       "      <td>-104.955218</td>\n",
       "      <td>39.726180</td>\n",
       "      <td>congress-park</td>\n",
       "      <td>1</td>\n",
       "      <td>0</td>\n",
       "    </tr>\n",
       "    <tr>\n",
       "      <th>2012-01-02 14:17:00</th>\n",
       "      <td>traffic-accident-hit-and-run</td>\n",
       "      <td>traffic-accident</td>\n",
       "      <td>-104.900944</td>\n",
       "      <td>39.783108</td>\n",
       "      <td>stapleton</td>\n",
       "      <td>0</td>\n",
       "      <td>1</td>\n",
       "    </tr>\n",
       "    <tr>\n",
       "      <th>2012-01-02 14:45:00</th>\n",
       "      <td>traffic-accident</td>\n",
       "      <td>traffic-accident</td>\n",
       "      <td>-104.992401</td>\n",
       "      <td>39.711184</td>\n",
       "      <td>baker</td>\n",
       "      <td>0</td>\n",
       "      <td>1</td>\n",
       "    </tr>\n",
       "    <tr>\n",
       "      <th>2012-01-02 14:55:00</th>\n",
       "      <td>assault-simple</td>\n",
       "      <td>other-crimes-against-persons</td>\n",
       "      <td>-104.981966</td>\n",
       "      <td>39.740400</td>\n",
       "      <td>north-capitol-hill</td>\n",
       "      <td>1</td>\n",
       "      <td>0</td>\n",
       "    </tr>\n",
       "    <tr>\n",
       "      <th>2012-01-02 14:55:00</th>\n",
       "      <td>criminal-mischief-other</td>\n",
       "      <td>public-disorder</td>\n",
       "      <td>-104.981966</td>\n",
       "      <td>39.740400</td>\n",
       "      <td>north-capitol-hill</td>\n",
       "      <td>1</td>\n",
       "      <td>0</td>\n",
       "    </tr>\n",
       "    <tr>\n",
       "      <th>2012-01-02 14:55:00</th>\n",
       "      <td>aggravated-assault</td>\n",
       "      <td>aggravated-assault</td>\n",
       "      <td>-104.981966</td>\n",
       "      <td>39.740400</td>\n",
       "      <td>north-capitol-hill</td>\n",
       "      <td>1</td>\n",
       "      <td>0</td>\n",
       "    </tr>\n",
       "    <tr>\n",
       "      <th>...</th>\n",
       "      <td>...</td>\n",
       "      <td>...</td>\n",
       "      <td>...</td>\n",
       "      <td>...</td>\n",
       "      <td>...</td>\n",
       "      <td>...</td>\n",
       "      <td>...</td>\n",
       "    </tr>\n",
       "    <tr>\n",
       "      <th>2012-01-06 19:33:00</th>\n",
       "      <td>traffic-accident-hit-and-run</td>\n",
       "      <td>traffic-accident</td>\n",
       "      <td>-105.006428</td>\n",
       "      <td>39.783265</td>\n",
       "      <td>sunnyside</td>\n",
       "      <td>0</td>\n",
       "      <td>1</td>\n",
       "    </tr>\n",
       "    <tr>\n",
       "      <th>2012-01-06 19:41:00</th>\n",
       "      <td>theft-of-motor-vehicle</td>\n",
       "      <td>auto-theft</td>\n",
       "      <td>-105.016249</td>\n",
       "      <td>39.770912</td>\n",
       "      <td>sunnyside</td>\n",
       "      <td>1</td>\n",
       "      <td>0</td>\n",
       "    </tr>\n",
       "    <tr>\n",
       "      <th>2012-01-06 19:45:00</th>\n",
       "      <td>traffic-accident</td>\n",
       "      <td>traffic-accident</td>\n",
       "      <td>-104.933774</td>\n",
       "      <td>39.678450</td>\n",
       "      <td>goldsmith</td>\n",
       "      <td>0</td>\n",
       "      <td>1</td>\n",
       "    </tr>\n",
       "    <tr>\n",
       "      <th>2012-01-06 19:46:00</th>\n",
       "      <td>traffic-accident</td>\n",
       "      <td>traffic-accident</td>\n",
       "      <td>-105.013358</td>\n",
       "      <td>39.725521</td>\n",
       "      <td>baker</td>\n",
       "      <td>0</td>\n",
       "      <td>1</td>\n",
       "    </tr>\n",
       "    <tr>\n",
       "      <th>2012-01-06 20:00:00</th>\n",
       "      <td>drug-cocaine-possess</td>\n",
       "      <td>drug-alcohol</td>\n",
       "      <td>-104.843634</td>\n",
       "      <td>39.772264</td>\n",
       "      <td>stapleton</td>\n",
       "      <td>1</td>\n",
       "      <td>0</td>\n",
       "    </tr>\n",
       "    <tr>\n",
       "      <th>2012-01-06 20:03:00</th>\n",
       "      <td>traffic-accident</td>\n",
       "      <td>traffic-accident</td>\n",
       "      <td>-104.999133</td>\n",
       "      <td>39.711205</td>\n",
       "      <td>baker</td>\n",
       "      <td>0</td>\n",
       "      <td>1</td>\n",
       "    </tr>\n",
       "    <tr>\n",
       "      <th>2012-01-06 20:12:00</th>\n",
       "      <td>theft-other</td>\n",
       "      <td>larceny</td>\n",
       "      <td>-105.049022</td>\n",
       "      <td>39.735796</td>\n",
       "      <td>west-colfax</td>\n",
       "      <td>1</td>\n",
       "      <td>0</td>\n",
       "    </tr>\n",
       "    <tr>\n",
       "      <th>2012-01-06 20:15:00</th>\n",
       "      <td>traffic-accident</td>\n",
       "      <td>traffic-accident</td>\n",
       "      <td>-104.901846</td>\n",
       "      <td>39.756602</td>\n",
       "      <td>stapleton</td>\n",
       "      <td>0</td>\n",
       "      <td>1</td>\n",
       "    </tr>\n",
       "    <tr>\n",
       "      <th>2012-01-06 20:39:00</th>\n",
       "      <td>theft-other</td>\n",
       "      <td>larceny</td>\n",
       "      <td>-104.992212</td>\n",
       "      <td>39.745194</td>\n",
       "      <td>cbd</td>\n",
       "      <td>1</td>\n",
       "      <td>0</td>\n",
       "    </tr>\n",
       "    <tr>\n",
       "      <th>2012-01-06 21:00:00</th>\n",
       "      <td>burglary-residence-by-force</td>\n",
       "      <td>burglary</td>\n",
       "      <td>-104.982705</td>\n",
       "      <td>39.741947</td>\n",
       "      <td>north-capitol-hill</td>\n",
       "      <td>1</td>\n",
       "      <td>0</td>\n",
       "    </tr>\n",
       "    <tr>\n",
       "      <th>2012-01-06 21:00:00</th>\n",
       "      <td>burglary-residence-by-force</td>\n",
       "      <td>burglary</td>\n",
       "      <td>-104.982705</td>\n",
       "      <td>39.741947</td>\n",
       "      <td>north-capitol-hill</td>\n",
       "      <td>1</td>\n",
       "      <td>0</td>\n",
       "    </tr>\n",
       "    <tr>\n",
       "      <th>2012-01-06 21:01:00</th>\n",
       "      <td>traffic-accident</td>\n",
       "      <td>traffic-accident</td>\n",
       "      <td>-104.903436</td>\n",
       "      <td>39.778421</td>\n",
       "      <td>stapleton</td>\n",
       "      <td>0</td>\n",
       "      <td>1</td>\n",
       "    </tr>\n",
       "    <tr>\n",
       "      <th>2012-01-06 21:03:00</th>\n",
       "      <td>theft-items-from-vehicle</td>\n",
       "      <td>theft-from-motor-vehicle</td>\n",
       "      <td>-104.904985</td>\n",
       "      <td>39.730431</td>\n",
       "      <td>montclair</td>\n",
       "      <td>1</td>\n",
       "      <td>0</td>\n",
       "    </tr>\n",
       "    <tr>\n",
       "      <th>2012-01-06 21:09:00</th>\n",
       "      <td>aggravated-assault</td>\n",
       "      <td>aggravated-assault</td>\n",
       "      <td>-104.968428</td>\n",
       "      <td>39.750717</td>\n",
       "      <td>city-park-west</td>\n",
       "      <td>1</td>\n",
       "      <td>0</td>\n",
       "    </tr>\n",
       "    <tr>\n",
       "      <th>2012-01-06 21:43:00</th>\n",
       "      <td>theft-other</td>\n",
       "      <td>larceny</td>\n",
       "      <td>-104.997600</td>\n",
       "      <td>39.736221</td>\n",
       "      <td>lincoln-park</td>\n",
       "      <td>1</td>\n",
       "      <td>0</td>\n",
       "    </tr>\n",
       "    <tr>\n",
       "      <th>2012-01-06 21:48:00</th>\n",
       "      <td>theft-other</td>\n",
       "      <td>larceny</td>\n",
       "      <td>-105.025760</td>\n",
       "      <td>39.689070</td>\n",
       "      <td>mar-lee</td>\n",
       "      <td>1</td>\n",
       "      <td>0</td>\n",
       "    </tr>\n",
       "    <tr>\n",
       "      <th>2012-01-06 21:52:00</th>\n",
       "      <td>traffic-accident-dui-duid</td>\n",
       "      <td>traffic-accident</td>\n",
       "      <td>-105.006449</td>\n",
       "      <td>39.765644</td>\n",
       "      <td>highland</td>\n",
       "      <td>0</td>\n",
       "      <td>1</td>\n",
       "    </tr>\n",
       "    <tr>\n",
       "      <th>2012-01-06 22:14:00</th>\n",
       "      <td>traffic-accident</td>\n",
       "      <td>traffic-accident</td>\n",
       "      <td>-104.903704</td>\n",
       "      <td>39.670318</td>\n",
       "      <td>goldsmith</td>\n",
       "      <td>0</td>\n",
       "      <td>1</td>\n",
       "    </tr>\n",
       "    <tr>\n",
       "      <th>2012-01-06 22:18:00</th>\n",
       "      <td>traffic-accident</td>\n",
       "      <td>traffic-accident</td>\n",
       "      <td>-104.959263</td>\n",
       "      <td>39.711116</td>\n",
       "      <td>washington-park</td>\n",
       "      <td>0</td>\n",
       "      <td>1</td>\n",
       "    </tr>\n",
       "    <tr>\n",
       "      <th>2012-01-06 22:21:00</th>\n",
       "      <td>theft-of-motor-vehicle</td>\n",
       "      <td>auto-theft</td>\n",
       "      <td>-104.993298</td>\n",
       "      <td>39.737133</td>\n",
       "      <td>civic-center</td>\n",
       "      <td>1</td>\n",
       "      <td>0</td>\n",
       "    </tr>\n",
       "    <tr>\n",
       "      <th>2012-01-06 22:24:00</th>\n",
       "      <td>drug-methampetamine-possess</td>\n",
       "      <td>drug-alcohol</td>\n",
       "      <td>-105.028577</td>\n",
       "      <td>39.732031</td>\n",
       "      <td>villa-park</td>\n",
       "      <td>1</td>\n",
       "      <td>0</td>\n",
       "    </tr>\n",
       "    <tr>\n",
       "      <th>2012-01-06 22:24:00</th>\n",
       "      <td>weapon-by-prev-offender-powpo</td>\n",
       "      <td>all-other-crimes</td>\n",
       "      <td>-105.028577</td>\n",
       "      <td>39.732031</td>\n",
       "      <td>villa-park</td>\n",
       "      <td>1</td>\n",
       "      <td>0</td>\n",
       "    </tr>\n",
       "    <tr>\n",
       "      <th>2012-01-06 22:41:00</th>\n",
       "      <td>burglary-residence-no-force</td>\n",
       "      <td>burglary</td>\n",
       "      <td>-104.980213</td>\n",
       "      <td>39.758097</td>\n",
       "      <td>five-points</td>\n",
       "      <td>1</td>\n",
       "      <td>0</td>\n",
       "    </tr>\n",
       "    <tr>\n",
       "      <th>2012-01-06 22:43:00</th>\n",
       "      <td>theft-items-from-vehicle</td>\n",
       "      <td>theft-from-motor-vehicle</td>\n",
       "      <td>-105.025499</td>\n",
       "      <td>39.702521</td>\n",
       "      <td>westwood</td>\n",
       "      <td>1</td>\n",
       "      <td>0</td>\n",
       "    </tr>\n",
       "    <tr>\n",
       "      <th>2012-01-06 22:50:00</th>\n",
       "      <td>traffic-accident</td>\n",
       "      <td>traffic-accident</td>\n",
       "      <td>-104.974055</td>\n",
       "      <td>39.718886</td>\n",
       "      <td>speer</td>\n",
       "      <td>0</td>\n",
       "      <td>1</td>\n",
       "    </tr>\n",
       "    <tr>\n",
       "      <th>2012-01-06 23:11:00</th>\n",
       "      <td>theft-items-from-vehicle</td>\n",
       "      <td>theft-from-motor-vehicle</td>\n",
       "      <td>-104.999752</td>\n",
       "      <td>39.726081</td>\n",
       "      <td>lincoln-park</td>\n",
       "      <td>1</td>\n",
       "      <td>0</td>\n",
       "    </tr>\n",
       "    <tr>\n",
       "      <th>2012-01-06 23:23:00</th>\n",
       "      <td>violation-of-restraining-order</td>\n",
       "      <td>all-other-crimes</td>\n",
       "      <td>-104.969588</td>\n",
       "      <td>39.681135</td>\n",
       "      <td>university</td>\n",
       "      <td>1</td>\n",
       "      <td>0</td>\n",
       "    </tr>\n",
       "    <tr>\n",
       "      <th>2012-01-06 23:30:00</th>\n",
       "      <td>assault-dv</td>\n",
       "      <td>other-crimes-against-persons</td>\n",
       "      <td>-104.958983</td>\n",
       "      <td>39.674135</td>\n",
       "      <td>university-park</td>\n",
       "      <td>1</td>\n",
       "      <td>0</td>\n",
       "    </tr>\n",
       "    <tr>\n",
       "      <th>2012-01-06 23:44:00</th>\n",
       "      <td>theft-of-motor-vehicle</td>\n",
       "      <td>auto-theft</td>\n",
       "      <td>-104.845356</td>\n",
       "      <td>39.794035</td>\n",
       "      <td>montbello</td>\n",
       "      <td>1</td>\n",
       "      <td>0</td>\n",
       "    </tr>\n",
       "    <tr>\n",
       "      <th>2012-01-06 23:55:00</th>\n",
       "      <td>threats-to-injure</td>\n",
       "      <td>public-disorder</td>\n",
       "      <td>-105.004788</td>\n",
       "      <td>39.708714</td>\n",
       "      <td>athmar-park</td>\n",
       "      <td>1</td>\n",
       "      <td>0</td>\n",
       "    </tr>\n",
       "  </tbody>\n",
       "</table>\n",
       "<p>605 rows × 7 columns</p>\n",
       "</div>"
      ],
      "text/plain": [
       "                                    OFFENSE_TYPE_ID  \\\n",
       "REPORTED_DATE                                         \n",
       "2012-01-02 00:06:00              aggravated-assault   \n",
       "2012-01-02 00:06:00  violation-of-restraining-order   \n",
       "2012-01-02 00:16:00       traffic-accident-dui-duid   \n",
       "2012-01-02 00:47:00                traffic-accident   \n",
       "2012-01-02 01:35:00              aggravated-assault   \n",
       "2012-01-02 02:39:00              aggravated-assault   \n",
       "2012-01-02 03:30:00                  assault-simple   \n",
       "2012-01-02 04:07:00         criminal-mischief-other   \n",
       "2012-01-02 04:46:00                  robbery-street   \n",
       "2012-01-02 06:52:00                traffic-accident   \n",
       "2012-01-02 09:07:00                traffic-accident   \n",
       "2012-01-02 09:42:00        theft-items-from-vehicle   \n",
       "2012-01-02 10:07:00                traffic-accident   \n",
       "2012-01-02 10:21:00                robbery-business   \n",
       "2012-01-02 10:55:00    traffic-accident-hit-and-run   \n",
       "2012-01-02 11:05:00              aggravated-assault   \n",
       "2012-01-02 11:32:00        theft-parts-from-vehicle   \n",
       "2012-01-02 11:36:00                traffic-accident   \n",
       "2012-01-02 12:24:00     burglary-residence-no-force   \n",
       "2012-01-02 13:15:00          menacing-felony-w-weap   \n",
       "2012-01-02 13:15:00       criminal-mischief-mtr-veh   \n",
       "2012-01-02 13:44:00                traffic-accident   \n",
       "2012-01-02 13:58:00                  robbery-street   \n",
       "2012-01-02 13:59:00        burglary-vending-machine   \n",
       "2012-01-02 14:04:00        theft-items-from-vehicle   \n",
       "2012-01-02 14:17:00    traffic-accident-hit-and-run   \n",
       "2012-01-02 14:45:00                traffic-accident   \n",
       "2012-01-02 14:55:00                  assault-simple   \n",
       "2012-01-02 14:55:00         criminal-mischief-other   \n",
       "2012-01-02 14:55:00              aggravated-assault   \n",
       "...                                             ...   \n",
       "2012-01-06 19:33:00    traffic-accident-hit-and-run   \n",
       "2012-01-06 19:41:00          theft-of-motor-vehicle   \n",
       "2012-01-06 19:45:00                traffic-accident   \n",
       "2012-01-06 19:46:00                traffic-accident   \n",
       "2012-01-06 20:00:00            drug-cocaine-possess   \n",
       "2012-01-06 20:03:00                traffic-accident   \n",
       "2012-01-06 20:12:00                     theft-other   \n",
       "2012-01-06 20:15:00                traffic-accident   \n",
       "2012-01-06 20:39:00                     theft-other   \n",
       "2012-01-06 21:00:00     burglary-residence-by-force   \n",
       "2012-01-06 21:00:00     burglary-residence-by-force   \n",
       "2012-01-06 21:01:00                traffic-accident   \n",
       "2012-01-06 21:03:00        theft-items-from-vehicle   \n",
       "2012-01-06 21:09:00              aggravated-assault   \n",
       "2012-01-06 21:43:00                     theft-other   \n",
       "2012-01-06 21:48:00                     theft-other   \n",
       "2012-01-06 21:52:00       traffic-accident-dui-duid   \n",
       "2012-01-06 22:14:00                traffic-accident   \n",
       "2012-01-06 22:18:00                traffic-accident   \n",
       "2012-01-06 22:21:00          theft-of-motor-vehicle   \n",
       "2012-01-06 22:24:00     drug-methampetamine-possess   \n",
       "2012-01-06 22:24:00   weapon-by-prev-offender-powpo   \n",
       "2012-01-06 22:41:00     burglary-residence-no-force   \n",
       "2012-01-06 22:43:00        theft-items-from-vehicle   \n",
       "2012-01-06 22:50:00                traffic-accident   \n",
       "2012-01-06 23:11:00        theft-items-from-vehicle   \n",
       "2012-01-06 23:23:00  violation-of-restraining-order   \n",
       "2012-01-06 23:30:00                      assault-dv   \n",
       "2012-01-06 23:44:00          theft-of-motor-vehicle   \n",
       "2012-01-06 23:55:00               threats-to-injure   \n",
       "\n",
       "                              OFFENSE_CATEGORY_ID     GEO_LON    GEO_LAT  \\\n",
       "REPORTED_DATE                                                              \n",
       "2012-01-02 00:06:00            aggravated-assault -104.816860  39.796717   \n",
       "2012-01-02 00:06:00              all-other-crimes -104.816860  39.796717   \n",
       "2012-01-02 00:16:00              traffic-accident -104.971851  39.736874   \n",
       "2012-01-02 00:47:00              traffic-accident -104.951824  39.740168   \n",
       "2012-01-02 01:35:00            aggravated-assault -104.998131  39.749922   \n",
       "2012-01-02 02:39:00            aggravated-assault -105.001480  39.770655   \n",
       "2012-01-02 03:30:00  other-crimes-against-persons -104.876943  39.702783   \n",
       "2012-01-02 04:07:00               public-disorder -104.905646  39.771597   \n",
       "2012-01-02 04:46:00                       robbery -104.932636  39.730927   \n",
       "2012-01-02 06:52:00              traffic-accident -104.959783  39.739988   \n",
       "2012-01-02 09:07:00              traffic-accident -104.977967  39.711030   \n",
       "2012-01-02 09:42:00      theft-from-motor-vehicle -104.941045  39.696077   \n",
       "2012-01-02 10:07:00              traffic-accident -104.987420  39.744885   \n",
       "2012-01-02 10:21:00                       robbery -104.987952  39.680818   \n",
       "2012-01-02 10:55:00              traffic-accident -105.039614  39.718941   \n",
       "2012-01-02 11:05:00            aggravated-assault -104.884971  39.741441   \n",
       "2012-01-02 11:32:00      theft-from-motor-vehicle -105.041071  39.699543   \n",
       "2012-01-02 11:36:00              traffic-accident -104.988837  39.740354   \n",
       "2012-01-02 12:24:00                      burglary -104.913295  39.687041   \n",
       "2012-01-02 13:15:00            aggravated-assault -104.902570  39.740933   \n",
       "2012-01-02 13:15:00               public-disorder -104.902570  39.740933   \n",
       "2012-01-02 13:44:00              traffic-accident -104.970481  39.702571   \n",
       "2012-01-02 13:58:00                       robbery -104.871739  39.654410   \n",
       "2012-01-02 13:59:00                       larceny -105.028666  39.690841   \n",
       "2012-01-02 14:04:00      theft-from-motor-vehicle -104.955218  39.726180   \n",
       "2012-01-02 14:17:00              traffic-accident -104.900944  39.783108   \n",
       "2012-01-02 14:45:00              traffic-accident -104.992401  39.711184   \n",
       "2012-01-02 14:55:00  other-crimes-against-persons -104.981966  39.740400   \n",
       "2012-01-02 14:55:00               public-disorder -104.981966  39.740400   \n",
       "2012-01-02 14:55:00            aggravated-assault -104.981966  39.740400   \n",
       "...                                           ...         ...        ...   \n",
       "2012-01-06 19:33:00              traffic-accident -105.006428  39.783265   \n",
       "2012-01-06 19:41:00                    auto-theft -105.016249  39.770912   \n",
       "2012-01-06 19:45:00              traffic-accident -104.933774  39.678450   \n",
       "2012-01-06 19:46:00              traffic-accident -105.013358  39.725521   \n",
       "2012-01-06 20:00:00                  drug-alcohol -104.843634  39.772264   \n",
       "2012-01-06 20:03:00              traffic-accident -104.999133  39.711205   \n",
       "2012-01-06 20:12:00                       larceny -105.049022  39.735796   \n",
       "2012-01-06 20:15:00              traffic-accident -104.901846  39.756602   \n",
       "2012-01-06 20:39:00                       larceny -104.992212  39.745194   \n",
       "2012-01-06 21:00:00                      burglary -104.982705  39.741947   \n",
       "2012-01-06 21:00:00                      burglary -104.982705  39.741947   \n",
       "2012-01-06 21:01:00              traffic-accident -104.903436  39.778421   \n",
       "2012-01-06 21:03:00      theft-from-motor-vehicle -104.904985  39.730431   \n",
       "2012-01-06 21:09:00            aggravated-assault -104.968428  39.750717   \n",
       "2012-01-06 21:43:00                       larceny -104.997600  39.736221   \n",
       "2012-01-06 21:48:00                       larceny -105.025760  39.689070   \n",
       "2012-01-06 21:52:00              traffic-accident -105.006449  39.765644   \n",
       "2012-01-06 22:14:00              traffic-accident -104.903704  39.670318   \n",
       "2012-01-06 22:18:00              traffic-accident -104.959263  39.711116   \n",
       "2012-01-06 22:21:00                    auto-theft -104.993298  39.737133   \n",
       "2012-01-06 22:24:00                  drug-alcohol -105.028577  39.732031   \n",
       "2012-01-06 22:24:00              all-other-crimes -105.028577  39.732031   \n",
       "2012-01-06 22:41:00                      burglary -104.980213  39.758097   \n",
       "2012-01-06 22:43:00      theft-from-motor-vehicle -105.025499  39.702521   \n",
       "2012-01-06 22:50:00              traffic-accident -104.974055  39.718886   \n",
       "2012-01-06 23:11:00      theft-from-motor-vehicle -104.999752  39.726081   \n",
       "2012-01-06 23:23:00              all-other-crimes -104.969588  39.681135   \n",
       "2012-01-06 23:30:00  other-crimes-against-persons -104.958983  39.674135   \n",
       "2012-01-06 23:44:00                    auto-theft -104.845356  39.794035   \n",
       "2012-01-06 23:55:00               public-disorder -105.004788  39.708714   \n",
       "\n",
       "                          NEIGHBORHOOD_ID  IS_CRIME  IS_TRAFFIC  \n",
       "REPORTED_DATE                                                    \n",
       "2012-01-02 00:06:00             montbello         1           0  \n",
       "2012-01-02 00:06:00             montbello         1           0  \n",
       "2012-01-02 00:16:00         cheesman-park         0           1  \n",
       "2012-01-02 00:47:00         congress-park         0           1  \n",
       "2012-01-02 01:35:00         union-station         1           0  \n",
       "2012-01-02 02:39:00             sunnyside         1           0  \n",
       "2012-01-02 03:30:00               windsor         1           0  \n",
       "2012-01-02 04:07:00   northeast-park-hill         1           0  \n",
       "2012-01-02 04:46:00                  hale         1           0  \n",
       "2012-01-02 06:52:00         cheesman-park         0           1  \n",
       "2012-01-02 09:07:00  washington-park-west         0           1  \n",
       "2012-01-02 09:42:00          cory-merrill         1           0  \n",
       "2012-01-02 10:07:00                   cbd         0           1  \n",
       "2012-01-02 10:21:00              overland         1           0  \n",
       "2012-01-02 10:55:00                barnum         0           1  \n",
       "2012-01-02 11:05:00           east-colfax         1           0  \n",
       "2012-01-02 11:32:00              westwood         1           0  \n",
       "2012-01-02 11:36:00          civic-center         0           1  \n",
       "2012-01-02 12:24:00      virginia-village         1           0  \n",
       "2012-01-02 13:15:00           east-colfax         1           0  \n",
       "2012-01-02 13:15:00           east-colfax         1           0  \n",
       "2012-01-02 13:44:00       washington-park         0           1  \n",
       "2012-01-02 13:58:00               hampden         1           0  \n",
       "2012-01-02 13:59:00               mar-lee         1           0  \n",
       "2012-01-02 14:04:00         congress-park         1           0  \n",
       "2012-01-02 14:17:00             stapleton         0           1  \n",
       "2012-01-02 14:45:00                 baker         0           1  \n",
       "2012-01-02 14:55:00    north-capitol-hill         1           0  \n",
       "2012-01-02 14:55:00    north-capitol-hill         1           0  \n",
       "2012-01-02 14:55:00    north-capitol-hill         1           0  \n",
       "...                                   ...       ...         ...  \n",
       "2012-01-06 19:33:00             sunnyside         0           1  \n",
       "2012-01-06 19:41:00             sunnyside         1           0  \n",
       "2012-01-06 19:45:00             goldsmith         0           1  \n",
       "2012-01-06 19:46:00                 baker         0           1  \n",
       "2012-01-06 20:00:00             stapleton         1           0  \n",
       "2012-01-06 20:03:00                 baker         0           1  \n",
       "2012-01-06 20:12:00           west-colfax         1           0  \n",
       "2012-01-06 20:15:00             stapleton         0           1  \n",
       "2012-01-06 20:39:00                   cbd         1           0  \n",
       "2012-01-06 21:00:00    north-capitol-hill         1           0  \n",
       "2012-01-06 21:00:00    north-capitol-hill         1           0  \n",
       "2012-01-06 21:01:00             stapleton         0           1  \n",
       "2012-01-06 21:03:00             montclair         1           0  \n",
       "2012-01-06 21:09:00        city-park-west         1           0  \n",
       "2012-01-06 21:43:00          lincoln-park         1           0  \n",
       "2012-01-06 21:48:00               mar-lee         1           0  \n",
       "2012-01-06 21:52:00              highland         0           1  \n",
       "2012-01-06 22:14:00             goldsmith         0           1  \n",
       "2012-01-06 22:18:00       washington-park         0           1  \n",
       "2012-01-06 22:21:00          civic-center         1           0  \n",
       "2012-01-06 22:24:00            villa-park         1           0  \n",
       "2012-01-06 22:24:00            villa-park         1           0  \n",
       "2012-01-06 22:41:00           five-points         1           0  \n",
       "2012-01-06 22:43:00              westwood         1           0  \n",
       "2012-01-06 22:50:00                 speer         0           1  \n",
       "2012-01-06 23:11:00          lincoln-park         1           0  \n",
       "2012-01-06 23:23:00            university         1           0  \n",
       "2012-01-06 23:30:00       university-park         1           0  \n",
       "2012-01-06 23:44:00             montbello         1           0  \n",
       "2012-01-06 23:55:00           athmar-park         1           0  \n",
       "\n",
       "[605 rows x 7 columns]"
      ]
     },
     "execution_count": 250,
     "metadata": {},
     "output_type": "execute_result"
    }
   ],
   "source": [
    "crime.first('5D')    #첫 5일 동안의 기록"
   ]
  },
  {
   "cell_type": "code",
   "execution_count": 252,
   "metadata": {},
   "outputs": [
    {
     "data": {
      "text/plain": [
       "REPORTED_DATE\n",
       "2012-01-08     877\n",
       "2012-01-15    1071\n",
       "2012-01-22     991\n",
       "2012-01-29     988\n",
       "2012-02-05     888\n",
       "Freq: W-SUN, dtype: int64"
      ]
     },
     "execution_count": 252,
     "metadata": {},
     "output_type": "execute_result"
    }
   ],
   "source": [
    "weekly_crimes = crime.resample('W').size()   #날짜 별로 그룹핑 \n",
    "weekly_crimes.head()"
   ]
  },
  {
   "cell_type": "code",
   "execution_count": 258,
   "metadata": {},
   "outputs": [
    {
     "data": {
      "text/plain": [
       "<matplotlib.axes._subplots.AxesSubplot at 0x18515fb6cc0>"
      ]
     },
     "execution_count": 258,
     "metadata": {},
     "output_type": "execute_result"
    },
    {
     "data": {
      "image/png": "[encoded data removed]",
      "text/plain": [
       "<Figure size 432x288 with 1 Axes>"
      ]
     },
     "metadata": {},
     "output_type": "display_data"
    }
   ],
   "source": [
    "weekly_crimes.plot.line()   #시계열 그래프"
   ]
  },
  {
   "cell_type": "code",
   "execution_count": 5,
   "metadata": {},
   "outputs": [],
   "source": [
    "import folium"
   ]
  },
  {
   "cell_type": "code",
   "execution_count": 6,
   "metadata": {},
   "outputs": [],
   "source": [
    "crime2 = crime[['OFFENSE_TYPE_ID','GEO_LON','GEO_LAT']]"
   ]
  },
  {
   "cell_type": "code",
   "execution_count": 8,
   "metadata": {},
   "outputs": [
    {
     "data": {
      "text/plain": [
       "GEO_LON   -104.949973\n",
       "GEO_LAT     39.726061\n",
       "dtype: float64"
      ]
     },
     "execution_count": 8,
     "metadata": {},
     "output_type": "execute_result"
    }
   ],
   "source": [
    "crime2[['GEO_LON','GEO_LAT']].apply(np.mean, axis=0)"
   ]
  },
  {
   "cell_type": "code",
   "execution_count": 17,
   "metadata": {},
   "outputs": [],
   "source": [
    "avg_lon = crime2[['GEO_LON']].apply(np.mean, axis=0)[0]\n",
    "avg_lat = crime2[['GEO_LAT']].apply(np.mean, axis=0)[0]"
   ]
  },
  {
   "cell_type": "code",
   "execution_count": 9,
   "metadata": {},
   "outputs": [],
   "source": [
    "crime3 = crime2.head(100)"
   ]
  },
  {
   "cell_type": "code",
   "execution_count": 10,
   "metadata": {},
   "outputs": [],
   "source": [
    "x = crime3.to_records(index=False)"
   ]
  },
  {
   "cell_type": "code",
   "execution_count": 11,
   "metadata": {},
   "outputs": [
    {
     "name": "stdout",
     "output_type": "stream",
     "text": [
      "aggravated-assault -104.8168597 39.7967171\n",
      "violation-of-restraining-order -104.8168597 39.7967171\n",
      "traffic-accident-dui-duid -104.9718509 39.7368745\n",
      "traffic-accident -104.9518237 39.7401678\n",
      "aggravated-assault -104.998131 39.7499224\n",
      "aggravated-assault -105.0014796 39.770655\n",
      "assault-simple -104.8769431 39.7027829\n",
      "criminal-mischief-other -104.90564599999999 39.7715966\n",
      "robbery-street -104.9326357 39.7309268\n",
      "traffic-accident -104.9597834 39.7399878\n",
      "traffic-accident -104.9779672 39.7110302\n",
      "theft-items-from-vehicle -104.9410449 39.6960771\n",
      "traffic-accident -104.9874201 39.7448854\n",
      "robbery-business -104.9879519 39.680818\n",
      "traffic-accident-hit-and-run -105.0396142 39.7189415\n",
      "aggravated-assault -104.8849706 39.7414406\n",
      "theft-parts-from-vehicle -105.0410706 39.6995435\n",
      "traffic-accident -104.9888365 39.7403536\n",
      "burglary-residence-no-force -104.9132946 39.6870415\n",
      "menacing-felony-w-weap -104.9025703 39.7409328\n",
      "criminal-mischief-mtr-veh -104.9025703 39.7409328\n",
      "traffic-accident -104.9704813 39.7025714\n",
      "robbery-street -104.8717394 39.6544096\n",
      "burglary-vending-machine -105.0286655 39.6908412\n",
      "theft-items-from-vehicle -104.9552181 39.7261799\n",
      "traffic-accident-hit-and-run -104.9009441 39.7831083\n",
      "traffic-accident -104.9924009 39.711184\n",
      "assault-simple -104.98196599999999 39.7404005\n",
      "criminal-mischief-other -104.98196599999999 39.7404005\n",
      "aggravated-assault -104.98196599999999 39.7404005\n",
      "traffic-accident -104.9752991 39.7384218\n",
      "traffic-accident -104.964046 39.721968\n",
      "harassment -104.90191999999999 39.6816775\n",
      "traffic-accident -104.9182593 39.6530788\n",
      "traffic-accident -104.9405952 39.7582941\n",
      "criminal-mischief-mtr-veh -104.8616786 39.6582017\n",
      "traffic-accident -104.9874529 39.720944\n",
      "burglary-residence-no-force -104.9772812 39.6957633\n",
      "traffic-accident-hit-and-run -104.9827828 39.7111393\n",
      "traffic-accident -104.8239215 39.7774423\n",
      "traffic-accident -104.91281200000002 39.6784599\n",
      "burglary-residence-by-force -105.0208006 39.7196323\n",
      "theft-items-from-vehicle -104.8923642 39.698699\n",
      "traffic-accident -104.9862631 39.725646999999995\n",
      "robbery-business -104.9335482 39.7398946\n",
      "robbery-business -104.9464383 39.7349733\n",
      "theft-of-motor-vehicle -104.9995969 39.749333\n",
      "burglary-residence-by-force -104.8826529 39.7498263\n",
      "criminal-mischief-mtr-veh -104.8477201 39.7724895\n",
      "traffic-accident-dui-duid -104.9981229 39.7674453\n",
      "traffic-accident -104.998902 39.7112036\n",
      "theft-of-motor-vehicle -105.0924961 39.61499\n",
      "traffic-accident -104.7471766 39.8338142\n",
      "traffic-accident-hit-and-run -104.949652 39.7255391\n",
      "robbery-residence -104.8442558 39.7826689\n",
      "traffic-accident -104.9742858 39.7630807\n",
      "traffic-accident-dui-duid -104.9524287 39.7569579\n",
      "theft-shoplift -104.9372541 39.6666894\n",
      "traffic-accident -104.9643971 39.7397782\n",
      "criminal-mischief-mtr-veh -104.9609202 39.7433724\n",
      "traffic-accident-hit-and-run -105.0001445 39.7368663\n",
      "traffic-accident-hit-and-run -105.0451247 39.7024281\n",
      "theft-shoplift -104.8478028 39.7831059\n",
      "criminal-trespassing -104.9533438 39.7778151\n",
      "criminal-mischief-graffiti -104.995575 39.7537219\n",
      "burglary-business-by-force -104.9416134 39.7836238\n",
      "traffic-accident -104.9921783 39.6893963\n",
      "traffic-accident -104.9405066 39.7800855\n",
      "traffic-accident -104.6869543 39.8370515\n",
      "traffic-accident-hit-and-run -104.9659372 39.7728848\n",
      "aggravated-assault-dv -104.985525 39.6798905\n",
      "traffic-accident -104.9315414 39.7382899\n",
      "traffic-accident -104.9482733 39.6562901\n",
      "traffic-accident -104.9025758 39.653044\n",
      "burglary-residence-by-force -104.9168344 39.7121816\n",
      "traffic-accident -104.9041723 39.6285496\n",
      "theft-items-from-vehicle -104.9525891 39.7815204\n",
      "criminal-mischief-mtr-veh -104.9561478 39.7782289\n",
      "theft-of-motor-vehicle -104.9220114 39.6567623\n",
      "traffic-accident -105.051534 39.704443\n",
      "criminal-mischief-mtr-veh -104.9784331 39.7028678\n",
      "theft-other -104.961202 39.7691818\n",
      "theft-parts-from-vehicle -104.9642886 39.7483979\n",
      "traffic-accident -104.8342077 39.7755353\n",
      "criminal-mischief-mtr-veh -104.9610052 39.7448031\n",
      "theft-items-from-vehicle -105.0320509 39.7618805\n",
      "theft-items-from-vehicle -105.0564798 39.6630707\n",
      "assault-dv -104.9866348 39.7860935\n",
      "burglary-business-by-force -104.9416148 39.7883731\n",
      "theft-items-from-vehicle -104.9920335 39.7486829\n",
      "criminal-mischief-graffiti -105.029366 39.7718514\n",
      "burglary-business-by-force -104.940252 39.7357868\n",
      "traffic-accident -104.9129318 39.6530907\n",
      "traffic-accident -105.0141466 39.7313164\n",
      "theft-bicycle -104.9269611 39.6982851\n",
      "traffic-accident-hit-and-run -105.024809 39.6857387\n",
      "robbery-residence -104.9844819 39.7464401\n",
      "traffic-accident -104.9731545 39.6717315\n",
      "menacing-felony-w-weap -104.9406508 39.6911281\n",
      "traffic-accident -104.957066 39.7194021\n"
     ]
    }
   ],
   "source": [
    "for i in x:\n",
    "    a = i[0]\n",
    "    lan = i[1]\n",
    "    lon = i[2]\n",
    "    print(a, lan, lon)"
   ]
  },
  {
   "cell_type": "code",
   "execution_count": 12,
   "metadata": {},
   "outputs": [],
   "source": [
    "marker = []\n",
    "\n",
    "for i in x:\n",
    "    b = {'icon':'//maps.google.com/mapfiles/ms/icons/green-dot.png', 'lat': i[1], 'lng':i[2], 'infobox': 'aaa'}\n",
    "    marker.append(b)"
   ]
  },
  {
   "cell_type": "code",
   "execution_count": 30,
   "metadata": {},
   "outputs": [
    {
     "data": {
      "text/plain": [
       "OFFENSE_TYPE_ID\n",
       "accessory-conspiracy-to-crime      0\n",
       "agg-aslt-police-weapon             0\n",
       "aggravated-assault                 5\n",
       "aggravated-assault-dv              1\n",
       "altering-vin-number                0\n",
       "animal-cruelty-to                  0\n",
       "animal-poss-of-dangerous           0\n",
       "arson-business                     0\n",
       "arson-other                        0\n",
       "arson-public-building              0\n",
       "arson-residence                    0\n",
       "arson-vehicle                      0\n",
       "aslt-agg-police-gun                0\n",
       "assault-dv                         1\n",
       "assault-police-simple              0\n",
       "assault-simple                     2\n",
       "bomb-threat                        0\n",
       "bribery                            0\n",
       "burg-auto-theft-busn-no-force      0\n",
       "burg-auto-theft-busn-w-force       0\n",
       "burg-auto-theft-resd-no-force      0\n",
       "burg-auto-theft-resd-w-force       0\n",
       "burglary-business-by-force         3\n",
       "burglary-business-no-force         0\n",
       "burglary-poss-of-tools             0\n",
       "burglary-residence-by-force        3\n",
       "burglary-residence-no-force        2\n",
       "burglary-safe                      0\n",
       "burglary-vending-machine           1\n",
       "contraband-into-prison             0\n",
       "                                  ..\n",
       "theft-shoplift                     2\n",
       "theft-stln-veh-const-eqpt          0\n",
       "theft-stln-vehicle-trailer         0\n",
       "theft-unauth-use-of-ftd            0\n",
       "threats-to-injure                  0\n",
       "traf-habitual-offender             0\n",
       "traf-impound-vehicle               0\n",
       "traf-other                         0\n",
       "traf-vehicular-assault             0\n",
       "traf-vehicular-homicide            0\n",
       "traffic-accident                  32\n",
       "traffic-accident-dui-duid          3\n",
       "traffic-accident-hit-and-run       8\n",
       "vehicular-eluding                  0\n",
       "vehicular-eluding-no-chase         0\n",
       "violation-of-court-order           0\n",
       "violation-of-custody-order         0\n",
       "violation-of-restraining-order     1\n",
       "weapon-altering-serial-number      0\n",
       "weapon-by-prev-offender-powpo      0\n",
       "weapon-carrying-concealed          0\n",
       "weapon-carrying-prohibited         0\n",
       "weapon-fire-into-occ-bldg          0\n",
       "weapon-fire-into-occ-veh           0\n",
       "weapon-flourishing                 0\n",
       "weapon-other-viol                  0\n",
       "weapon-poss-illegal-dangerous      0\n",
       "weapon-unlawful-discharge-of       0\n",
       "window-peeping                     0\n",
       "wiretapping                        0\n",
       "Length: 196, dtype: int64"
      ]
     },
     "execution_count": 30,
     "metadata": {},
     "output_type": "execute_result"
    }
   ],
   "source": [
    "crime3.groupby('OFFENSE_TYPE_ID').size()"
   ]
  },
  {
   "cell_type": "code",
   "execution_count": null,
   "metadata": {},
   "outputs": [],
   "source": []
  }
 ],
 "metadata": {
  "kernelspec": {
   "display_name": "Python 3",
   "language": "python",
   "name": "python3"
  },
  "language_info": {
   "codemirror_mode": {
    "name": "ipython",
    "version": 3
   },
   "file_extension": ".py",
   "mimetype": "text/x-python",
   "name": "python",
   "nbconvert_exporter": "python",
   "pygments_lexer": "ipython3",
   "version": "3.6.5"
  }
 },
 "nbformat": 4,
 "nbformat_minor": 2
}
